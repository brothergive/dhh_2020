{
 "cells": [
  {
   "cell_type": "markdown",
   "metadata": {
    "colab_type": "text",
    "id": "vZe8oEJj2EZR"
   },
   "source": []
  },
  {
   "cell_type": "code",
   "execution_count": 1,
   "metadata": {
    "colab": {},
    "colab_type": "code",
    "executionInfo": {
     "elapsed": 1423,
     "status": "ok",
     "timestamp": 1598613984366,
     "user": {
      "displayName": "TI Wannabe",
      "photoUrl": "",
      "userId": "05697201812900044727"
     },
     "user_tz": -540
    },
    "id": "6Ks9_kkrCIQi"
   },
   "outputs": [],
   "source": [
    "import numpy as np\n",
    "import pandas as pd"
   ]
  },
  {
   "cell_type": "code",
   "execution_count": 2,
   "metadata": {
    "colab": {},
    "colab_type": "code",
    "executionInfo": {
     "elapsed": 1359,
     "status": "ok",
     "timestamp": 1598614026181,
     "user": {
      "displayName": "TI Wannabe",
      "photoUrl": "",
      "userId": "05697201812900044727"
     },
     "user_tz": -540
    },
    "id": "0f8wsbilD3VG"
   },
   "outputs": [],
   "source": [
    "# load data\n",
    "dataX=pd.read_csv(\"./data/trainX.csv\")\n",
    "dataA=pd.read_csv(\"./data/trainA.csv\")\n",
    "dataY=pd.read_csv(\"./data/trainY.csv\")\n",
    "\n",
    "# remove index\n",
    "dataX=dataX.values[:,1:]\n",
    "dataY=dataY.values[:,1:-1]\n",
    "dataA=dataA.values[:,1:]"
   ]
  },
  {
   "cell_type": "code",
   "execution_count": 3,
   "metadata": {
    "colab": {},
    "colab_type": "code",
    "executionInfo": {
     "elapsed": 746,
     "status": "ok",
     "timestamp": 1598614028081,
     "user": {
      "displayName": "TI Wannabe",
      "photoUrl": "",
      "userId": "05697201812900044727"
     },
     "user_tz": -540
    },
    "id": "F77bYonkF8AE"
   },
   "outputs": [],
   "source": [
    "# split cure or not cure\n",
    "data_CX=dataX[np.where(dataA==1)[0]]\n",
    "dataNCX=dataX[np.where(dataA!=1)[0]]\n",
    "data_CY=dataY[np.where(dataA==1)]\n",
    "dataNCY=dataY[np.where(dataA!=1)]"
   ]
  },
  {
   "cell_type": "code",
   "execution_count": 4,
   "metadata": {
    "colab": {},
    "colab_type": "code",
    "executionInfo": {
     "elapsed": 2645,
     "status": "ok",
     "timestamp": 1598614031588,
     "user": {
      "displayName": "TI Wannabe",
      "photoUrl": "",
      "userId": "05697201812900044727"
     },
     "user_tz": -540
    },
    "id": "8bTfqtUGPvsq"
   },
   "outputs": [
    {
     "name": "stderr",
     "output_type": "stream",
     "text": [
      "Using TensorFlow backend.\n",
      "c:\\users\\chutzpah\\anaconda3\\envs\\generative\\lib\\site-packages\\tensorflow\\python\\framework\\dtypes.py:523: FutureWarning: Passing (type, 1) or '1type' as a synonym of type is deprecated; in a future version of numpy, it will be understood as (type, (1,)) / '(1,)type'.\n",
      "  _np_qint8 = np.dtype([(\"qint8\", np.int8, 1)])\n",
      "c:\\users\\chutzpah\\anaconda3\\envs\\generative\\lib\\site-packages\\tensorflow\\python\\framework\\dtypes.py:524: FutureWarning: Passing (type, 1) or '1type' as a synonym of type is deprecated; in a future version of numpy, it will be understood as (type, (1,)) / '(1,)type'.\n",
      "  _np_quint8 = np.dtype([(\"quint8\", np.uint8, 1)])\n",
      "c:\\users\\chutzpah\\anaconda3\\envs\\generative\\lib\\site-packages\\tensorflow\\python\\framework\\dtypes.py:525: FutureWarning: Passing (type, 1) or '1type' as a synonym of type is deprecated; in a future version of numpy, it will be understood as (type, (1,)) / '(1,)type'.\n",
      "  _np_qint16 = np.dtype([(\"qint16\", np.int16, 1)])\n",
      "c:\\users\\chutzpah\\anaconda3\\envs\\generative\\lib\\site-packages\\tensorflow\\python\\framework\\dtypes.py:526: FutureWarning: Passing (type, 1) or '1type' as a synonym of type is deprecated; in a future version of numpy, it will be understood as (type, (1,)) / '(1,)type'.\n",
      "  _np_quint16 = np.dtype([(\"quint16\", np.uint16, 1)])\n",
      "c:\\users\\chutzpah\\anaconda3\\envs\\generative\\lib\\site-packages\\tensorflow\\python\\framework\\dtypes.py:527: FutureWarning: Passing (type, 1) or '1type' as a synonym of type is deprecated; in a future version of numpy, it will be understood as (type, (1,)) / '(1,)type'.\n",
      "  _np_qint32 = np.dtype([(\"qint32\", np.int32, 1)])\n",
      "c:\\users\\chutzpah\\anaconda3\\envs\\generative\\lib\\site-packages\\tensorflow\\python\\framework\\dtypes.py:532: FutureWarning: Passing (type, 1) or '1type' as a synonym of type is deprecated; in a future version of numpy, it will be understood as (type, (1,)) / '(1,)type'.\n",
      "  np_resource = np.dtype([(\"resource\", np.ubyte, 1)])\n"
     ]
    }
   ],
   "source": [
    "from keras import models\n",
    "from keras import layers"
   ]
  },
  {
   "cell_type": "code",
   "execution_count": 5,
   "metadata": {
    "colab": {},
    "colab_type": "code",
    "executionInfo": {
     "elapsed": 730,
     "status": "ok",
     "timestamp": 1598614036080,
     "user": {
      "displayName": "TI Wannabe",
      "photoUrl": "",
      "userId": "05697201812900044727"
     },
     "user_tz": -540
    },
    "id": "Poq3AzwFsLZ9"
   },
   "outputs": [],
   "source": [
    "import tensorflow as tf"
   ]
  },
  {
   "cell_type": "code",
   "execution_count": 29,
   "metadata": {
    "colab": {},
    "colab_type": "code",
    "executionInfo": {
     "elapsed": 772,
     "status": "ok",
     "timestamp": 1598614032997,
     "user": {
      "displayName": "TI Wannabe",
      "photoUrl": "",
      "userId": "05697201812900044727"
     },
     "user_tz": -540
    },
    "id": "PSkELoiY0JC_"
   },
   "outputs": [],
   "source": [
    "def build_dnn_relu_adam():\n",
    "  # 2. 모델의 구조를 BatchNormalization layer를 사용하여 만든다.\n",
    "  X = tf.keras.layers.Input(shape=[17])\n",
    "  \n",
    "  H = tf.keras.layers.Dense(256)(X)\n",
    "  H = tf.keras.layers.BatchNormalization()(H)\n",
    "  H = tf.keras.layers.Activation('relu')(H)\n",
    "  \n",
    "  H = tf.keras.layers.Dense(128)(H)\n",
    "  H = tf.keras.layers.BatchNormalization()(H)\n",
    "  H = tf.keras.layers.Activation('relu')(H)\n",
    "  \n",
    "  H = tf.keras.layers.Dense(64)(H)\n",
    "  H = tf.keras.layers.BatchNormalization()(H)\n",
    "  H = tf.keras.layers.Activation('relu')(H)\n",
    "\n",
    "  H = tf.keras.layers.Dense(32)(H)\n",
    "  H = tf.keras.layers.BatchNormalization()(H)\n",
    "  H = tf.keras.layers.Activation('relu')(H)\n",
    "\n",
    "  Y = tf.keras.layers.Dense(1)(H)\n",
    "  model = tf.keras.models.Model(X, Y)\n",
    "  model.compile(loss='mse', optimizer='adam')\n",
    "  return model\n",
    "\n",
    "def build_dnn_tanh_adam():\n",
    "  # 2. 모델의 구조를 BatchNormalization layer를 사용하여 만든다.\n",
    "  X = tf.keras.layers.Input(shape=[17])\n",
    "  \n",
    "  H = tf.keras.layers.Dense(256)(X)\n",
    "  H = tf.keras.layers.BatchNormalization()(H)\n",
    "  H = tf.keras.layers.Activation('tanh')(H)\n",
    "  \n",
    "  H = tf.keras.layers.Dense(128)(H)\n",
    "  H = tf.keras.layers.BatchNormalization()(H)\n",
    "  H = tf.keras.layers.Activation('tanh')(H)\n",
    "  \n",
    "  H = tf.keras.layers.Dense(64)(H)\n",
    "  H = tf.keras.layers.BatchNormalization()(H)\n",
    "  H = tf.keras.layers.Activation('tanh')(H)\n",
    "\n",
    "  H = tf.keras.layers.Dense(32)(H)\n",
    "  H = tf.keras.layers.BatchNormalization()(H)\n",
    "  H = tf.keras.layers.Activation('tanh')(H)\n",
    "  \n",
    "  Y = tf.keras.layers.Dense(1)(H)\n",
    "  model = tf.keras.models.Model(X, Y)\n",
    "  model.compile(loss='mse', optimizer='adam')\n",
    "  return model"
   ]
  },
  {
   "cell_type": "code",
   "execution_count": 24,
   "metadata": {
    "colab": {},
    "colab_type": "code",
    "executionInfo": {
     "elapsed": 693,
     "status": "ok",
     "timestamp": 1598614039020,
     "user": {
      "displayName": "TI Wannabe",
      "photoUrl": "",
      "userId": "05697201812900044727"
     },
     "user_tz": -540
    },
    "id": "y_IC6ZP6NqaA"
   },
   "outputs": [],
   "source": [
    "# 치료받은 사람들 중 생존시간이 100이하인 사람들만 고른다.\n",
    "dataCX_100 = dataX[np.where((dataA == 1) & (dataY <= 100))[0]]\n",
    "dataCY_100 = dataY[np.where((dataA == 1) & (dataY <= 100))[0]]\n",
    "\n",
    "# 치료받지 않은 사람들 중 생존시간이 100이하인 사람들만 고른다.\n",
    "dataNCX_100 = dataX[np.where((dataA == 0) & (dataY <= 100))[0]]\n",
    "dataNCY_100 = dataY[np.where((dataA == 0) & (dataY <= 100))[0]]"
   ]
  },
  {
   "cell_type": "code",
   "execution_count": 31,
   "metadata": {
    "colab": {},
    "colab_type": "code",
    "id": "0oeHzl4DXr4P"
   },
   "outputs": [
    {
     "name": "stdout",
     "output_type": "stream",
     "text": [
      "Epoch 1/10\n",
      "264/264 [==============================] - 0s 958us/step - loss: 0.3767\n",
      "Epoch 2/10\n",
      "264/264 [==============================] - 0s 890us/step - loss: 0.3864\n",
      "Epoch 3/10\n",
      "264/264 [==============================] - 0s 811us/step - loss: 0.4003\n",
      "Epoch 4/10\n",
      "264/264 [==============================] - 0s 811us/step - loss: 0.2294\n",
      "Epoch 5/10\n",
      "264/264 [==============================] - 0s 595us/step - loss: 0.3211\n",
      "Epoch 6/10\n",
      "264/264 [==============================] - 0s 955us/step - loss: 0.3127\n",
      "Epoch 7/10\n",
      "264/264 [==============================] - 0s 856us/step - loss: 0.4251\n",
      "Epoch 8/10\n",
      "264/264 [==============================] - 0s 606us/step - loss: 0.3222\n",
      "Epoch 9/10\n",
      "264/264 [==============================] - 0s 591us/step - loss: 0.2235\n",
      "Epoch 10/10\n",
      "264/264 [==============================] - 0s 822us/step - loss: 0.2768\n"
     ]
    },
    {
     "data": {
      "text/plain": [
       "<tensorflow.python.keras.callbacks.History at 0x18b0735f400>"
      ]
     },
     "execution_count": 31,
     "metadata": {},
     "output_type": "execute_result"
    }
   ],
   "source": [
    "# 3.데이터로 모델을 학습(FIT)합니다.\n",
    "model = build_dnn_relu_adam() # 최저 loss 값 : 0.0728\n",
    "model.fit(dataCX_100, dataCY_100, epochs=10000, verbose=0)\n",
    "model.fit(dataCX_100, dataCY_100, epochs=10)"
   ]
  },
  {
   "cell_type": "code",
   "execution_count": 30,
   "metadata": {
    "colab": {},
    "colab_type": "code",
    "id": "kzsyJB09b3t6"
   },
   "outputs": [
    {
     "name": "stdout",
     "output_type": "stream",
     "text": [
      "Epoch 1/10\n",
      "398/398 [==============================] - 0s 766us/step - loss: 0.1584\n",
      "Epoch 2/10\n",
      "398/398 [==============================] - 0s 651us/step - loss: 0.0771\n",
      "Epoch 3/10\n",
      "398/398 [==============================] - 0s 432us/step - loss: 0.0735\n",
      "Epoch 4/10\n",
      "398/398 [==============================] - 0s 485us/step - loss: 0.0906\n",
      "Epoch 5/10\n",
      "398/398 [==============================] - ETA: 0s - loss: 0.142 - 0s 430us/step - loss: 0.1256\n",
      "Epoch 6/10\n",
      "398/398 [==============================] - 0s 455us/step - loss: 0.0834\n",
      "Epoch 7/10\n",
      "398/398 [==============================] - 0s 553us/step - loss: 0.0788\n",
      "Epoch 8/10\n",
      "398/398 [==============================] - 0s 435us/step - loss: 0.0805\n",
      "Epoch 9/10\n",
      "398/398 [==============================] - 0s 417us/step - loss: 0.1073\n",
      "Epoch 10/10\n",
      "398/398 [==============================] - 0s 399us/step - loss: 0.1032\n"
     ]
    },
    {
     "data": {
      "text/plain": [
       "<tensorflow.python.keras.callbacks.History at 0x18b2b98ab38>"
      ]
     },
     "execution_count": 30,
     "metadata": {},
     "output_type": "execute_result"
    }
   ],
   "source": [
    "# 3.치료하지 않았고 생존시간이 100 이하인 환자 데이터로 모델을 학습(FIT)합니다.\n",
    "model_NC = build_dnn_tanh_adam() # 최저 loss 값 : 0.0101\n",
    "model_NC.fit(dataNCX_100, dataNCY_100, epochs=10000, verbose=0)\n",
    "model_NC.fit(dataNCX_100, dataNCY_100, epochs=10)"
   ]
  },
  {
   "cell_type": "code",
   "execution_count": 20,
   "metadata": {
    "colab": {
     "base_uri": "https://localhost:8080/",
     "height": 34
    },
    "colab_type": "code",
    "id": "B6OBWoPGHuWw",
    "outputId": "a53a20ec-daaa-497f-d427-9bde00b08329"
   },
   "outputs": [
    {
     "name": "stdout",
     "output_type": "stream",
     "text": [
      "(286, 17)\n"
     ]
    }
   ],
   "source": [
    "파일경로 = './data/testX.csv'\n",
    "testX = pd.read_csv(파일경로)\n",
    "testX=testX.values[:,1:]\n",
    "print(testX.shape)"
   ]
  },
  {
   "cell_type": "code",
   "execution_count": 21,
   "metadata": {
    "colab": {
     "base_uri": "https://localhost:8080/",
     "height": 34
    },
    "colab_type": "code",
    "id": "iEzT2ja2IWrd",
    "outputId": "699e3367-7e90-4bc5-c92a-3c1339be05d0"
   },
   "outputs": [
    {
     "name": "stdout",
     "output_type": "stream",
     "text": [
      "(286, 1)\n"
     ]
    }
   ],
   "source": [
    "# 치료할 경우 생존 시간을 구한다.\n",
    "cured = model.predict(testX)\n",
    "# 치료하지 않을 경우 생존 시간을 구한다.\n",
    "non_cured = model_NC.predict(testX)\n",
    "\n",
    "# 치료한 경우 생존 시간 > 치료하지 않은 경우 생존 시간 : 1, \n",
    "# 치료한 경우 생존 시간 > 치료하지 않은 경우 생존 시간 : 0\n",
    "result = np.where(cured > non_cured, 1, 0)\n",
    "print(result.shape)"
   ]
  },
  {
   "cell_type": "code",
   "execution_count": 22,
   "metadata": {
    "colab": {},
    "colab_type": "code",
    "id": "xdWBw8y0NZMB"
   },
   "outputs": [],
   "source": [
    "import csv \n",
    "\n",
    "# 이차원 리스트 \n",
    "with open('result_20200829_1.csv','w', newline='') as f: \n",
    "  makewrite = csv.writer(f) \n",
    "  \n",
    "  for value in result: \n",
    "    makewrite.writerow(value)\n"
   ]
  },
  {
   "cell_type": "code",
   "execution_count": null,
   "metadata": {
    "colab": {
     "base_uri": "https://localhost:8080/",
     "height": 88
    },
    "colab_type": "code",
    "id": "TQ9WCCfehqVH",
    "outputId": "909e27c3-fb09-4021-e84b-69715a0c87c0"
   },
   "outputs": [
    {
     "data": {
      "application/vnd.google.colaboratory.intrinsic+json": {
       "type": "string"
      },
      "text/plain": [
       "\"\\nfrom openpyxl import Workbook\\n \\nwrite_wb = Workbook()\\n \\n#이름이 있는 시트를 생성\\n#write_ws = write_wb.create_sheet('생성시트')\\n \\n#Sheet1에다 입력\\nwrite_ws = write_wb.active\\nwrite_ws['A1'] = 'Title'\\nwrite_ws['B1'] = 'action'\\n \\n#행 단위로 추가\\n# write_ws.append([1,2,3])\\n \\n#셀 단위로 추가\\ni = 1\\nfor value in result:\\n  write_ws.cell(i,2, value)\\n  i= i+1\\nwrite_wb.save('/content/drive/My Drive/traindata/result_20200824_3.csv')\\n\""
      ]
     },
     "execution_count": 31,
     "metadata": {
      "tags": []
     },
     "output_type": "execute_result"
    }
   ],
   "source": [
    "\"\"\"\n",
    "from openpyxl import Workbook\n",
    " \n",
    "write_wb = Workbook()\n",
    " \n",
    "#이름이 있는 시트를 생성\n",
    "#write_ws = write_wb.create_sheet('생성시트')\n",
    " \n",
    "#Sheet1에다 입력\n",
    "write_ws = write_wb.active\n",
    "write_ws['A1'] = 'Title'\n",
    "write_ws['B1'] = 'action'\n",
    " \n",
    "#행 단위로 추가\n",
    "# write_ws.append([1,2,3])\n",
    " \n",
    "#셀 단위로 추가\n",
    "i = 1\n",
    "for value in result:\n",
    "  write_ws.cell(i,2, value)\n",
    "  i= i+1\n",
    "write_wb.save('/content/drive/My Drive/traindata/result_20200824_3.csv')\n",
    "\"\"\""
   ]
  },
  {
   "cell_type": "code",
   "execution_count": null,
   "metadata": {
    "colab": {},
    "colab_type": "code",
    "id": "RAlZ120_AXbj"
   },
   "outputs": [],
   "source": []
  }
 ],
 "metadata": {
  "accelerator": "GPU",
  "colab": {
   "collapsed_sections": [
    "6psrzIaDlwAq"
   ],
   "name": "DHH_127page_20200828.ipynb",
   "provenance": []
  },
  "kernelspec": {
   "display_name": "Python 3",
   "language": "python",
   "name": "python3"
  },
  "language_info": {
   "codemirror_mode": {
    "name": "ipython",
    "version": 3
   },
   "file_extension": ".py",
   "mimetype": "text/x-python",
   "name": "python",
   "nbconvert_exporter": "python",
   "pygments_lexer": "ipython3",
   "version": "3.6.10"
  }
 },
 "nbformat": 4,
 "nbformat_minor": 1
}
