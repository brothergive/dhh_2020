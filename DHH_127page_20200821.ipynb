{
 "cells": [
  {
   "cell_type": "markdown",
   "metadata": {
    "colab_type": "text",
    "id": "vZe8oEJj2EZR"
   },
   "source": []
  },
  {
   "cell_type": "code",
   "execution_count": 1,
   "metadata": {
    "colab": {
     "base_uri": "https://localhost:8080/",
     "height": 34
    },
    "colab_type": "code",
    "id": "SfoWbIwk2H51",
    "outputId": "bb38b5b0-2778-488e-cab0-0a6456f0cf61"
   },
   "outputs": [
    {
     "name": "stdout",
     "output_type": "stream",
     "text": [
      "Drive already mounted at /content/drive; to attempt to forcibly remount, call drive.mount(\"/content/drive\", force_remount=True).\n"
     ]
    }
   ],
   "source": [
    "from google.colab import drive\n",
    "drive.mount('/content/drive')"
   ]
  },
  {
   "cell_type": "code",
   "execution_count": 13,
   "metadata": {
    "colab": {},
    "colab_type": "code",
    "id": "6Ks9_kkrCIQi"
   },
   "outputs": [],
   "source": [
    "import numpy as np\n",
    "import pandas as pd"
   ]
  },
  {
   "cell_type": "code",
   "execution_count": 14,
   "metadata": {
    "colab": {},
    "colab_type": "code",
    "id": "0f8wsbilD3VG"
   },
   "outputs": [],
   "source": [
    "# load data\n",
    "\n",
    "dataX=pd.read_csv(\"./data/trainX.csv\")\n",
    "dataA=pd.read_csv(\"./data/trainA.csv\")\n",
    "dataY=pd.read_csv(\"./data/trainY.csv\")\n",
    "\n",
    "# remove index\n",
    "\n",
    "dataX=dataX.values[:,1:]\n",
    "dataY=dataY.values[:,1:-1]\n",
    "dataA=dataA.values[:,1:]"
   ]
  },
  {
   "cell_type": "code",
   "execution_count": 15,
   "metadata": {
    "colab": {
     "base_uri": "https://localhost:8080/",
     "height": 386
    },
    "colab_type": "code",
    "id": "tvpQ5CZBVCRM",
    "outputId": "c2f836ac-37ec-45bb-90f0-662c06496019"
   },
   "outputs": [
    {
     "data": {
      "text/plain": [
       "array([  4,   5,   9,  11,  13,  14,  19,  26,  35,  38,  40,  42,  43,\n",
       "        44,  45,  49,  51,  53,  54,  61,  63,  64,  67,  69,  72,  73,\n",
       "        76,  78,  79,  81,  82,  83,  85,  88,  90,  94,  95,  98, 102,\n",
       "       103, 104, 106, 108, 109, 110, 111, 112, 113, 114, 123, 125, 126,\n",
       "       128, 130, 133, 135, 139, 141, 143, 146, 147, 150, 159, 162, 167,\n",
       "       168, 171, 173, 177, 181, 183, 184, 186, 187, 188, 189, 190, 192,\n",
       "       193, 195, 196, 200, 201, 203, 206, 210, 212, 214, 216, 218, 221,\n",
       "       223, 226, 227, 230, 233, 238, 240, 243, 244, 254, 255, 260, 263,\n",
       "       264, 266, 270, 276, 277, 280, 283, 289, 292, 294, 297, 298, 299,\n",
       "       300, 301, 306, 311, 312, 315, 318, 321, 322, 323, 325, 329, 331,\n",
       "       332, 333, 336, 338, 343, 346, 348, 350, 352, 354, 357, 358, 359,\n",
       "       361, 364, 365, 367, 376, 377, 382, 383, 384, 387, 390, 392, 393,\n",
       "       397, 398, 399, 404, 405, 407, 409, 411, 412, 417, 418, 419, 421,\n",
       "       429, 433, 434, 439, 441, 448, 449, 450, 451, 457, 459, 460, 462,\n",
       "       463, 465, 468, 471, 472, 473, 474, 477, 481, 486, 494, 495, 497,\n",
       "       498, 499, 501, 502, 510, 511, 512, 514, 516, 518, 523, 527, 528,\n",
       "       530, 531, 537, 539, 540, 541, 547, 548, 549, 554, 555, 556, 557,\n",
       "       559, 560, 561, 564, 571, 574, 575, 576, 577, 578, 582, 583, 587,\n",
       "       588, 591, 592, 595, 599, 602, 603, 604, 607, 610, 611, 613, 618,\n",
       "       622, 623, 624, 628, 631, 632, 634, 635, 641, 644, 647, 648, 649,\n",
       "       651, 652, 655, 659, 660, 661, 662], dtype=int64)"
      ]
     },
     "execution_count": 15,
     "metadata": {},
     "output_type": "execute_result"
    }
   ],
   "source": [
    "np.where(dataA==1)[0]"
   ]
  },
  {
   "cell_type": "code",
   "execution_count": 16,
   "metadata": {
    "colab": {
     "base_uri": "https://localhost:8080/",
     "height": 34
    },
    "colab_type": "code",
    "id": "h7PJQSvHM3M4",
    "outputId": "a7be9a49-2b43-4303-8bc9-cf7106342a8c"
   },
   "outputs": [
    {
     "data": {
      "text/plain": [
       "(666, 17)"
      ]
     },
     "execution_count": 16,
     "metadata": {},
     "output_type": "execute_result"
    }
   ],
   "source": [
    "dataX.shape"
   ]
  },
  {
   "cell_type": "code",
   "execution_count": 17,
   "metadata": {
    "colab": {},
    "colab_type": "code",
    "id": "d1teNlZvMIQA"
   },
   "outputs": [],
   "source": [
    "# split cure or not cure\n",
    "\n",
    "data_CX=dataX[np.where(dataA==1)[0]]\n",
    "dataNCX=dataX[np.where(dataA!=1)[0]]\n",
    "data_CY=dataY[np.where(dataA==1)]\n",
    "dataNCY=dataY[np.where(dataA!=1)]"
   ]
  },
  {
   "cell_type": "code",
   "execution_count": 18,
   "metadata": {
    "colab": {
     "base_uri": "https://localhost:8080/",
     "height": 140
    },
    "colab_type": "code",
    "id": "IC7oqnBa5pAW",
    "outputId": "3ff25920-1640-4736-a060-1fe8ef6216f1"
   },
   "outputs": [
    {
     "data": {
      "text/plain": [
       "array([[0.82, 0.  , 0.26, ..., 0.82, 0.37, 0.09],\n",
       "       [0.78, 0.32, 0.62, ..., 0.89, 0.86, 0.32],\n",
       "       [0.52, 0.03, 0.7 , ..., 0.39, 0.37, 0.95],\n",
       "       ...,\n",
       "       [0.41, 0.07, 0.99, ..., 0.09, 0.16, 0.33],\n",
       "       [0.5 , 0.99, 0.61, ..., 0.73, 0.76, 0.01],\n",
       "       [0.62, 0.19, 0.51, ..., 0.19, 0.39, 0.17]])"
      ]
     },
     "execution_count": 18,
     "metadata": {},
     "output_type": "execute_result"
    }
   ],
   "source": [
    "data_CX"
   ]
  },
  {
   "cell_type": "code",
   "execution_count": 19,
   "metadata": {
    "colab": {
     "base_uri": "https://localhost:8080/",
     "height": 967
    },
    "colab_type": "code",
    "id": "zUWyAYg-5r2G",
    "outputId": "39956ffd-f00d-41db-cc1c-9e2aebf32ac1"
   },
   "outputs": [
    {
     "data": {
      "text/plain": [
       "array([2.0700e+00, 1.6530e+01, 4.8100e+00, 2.7000e-01, 5.2800e+00,\n",
       "       1.5000e-01, 3.4210e+01, 4.6730e+01, 3.4000e-01, 2.9000e-01,\n",
       "       1.7000e-01, 4.7000e-01, 0.0000e+00, 9.0000e-02, 4.9100e+00,\n",
       "       1.0000e-01, 1.0700e+01, 3.4900e+01, 4.0000e-02, 9.0000e-02,\n",
       "       1.4000e-01, 7.2400e+00, 1.0000e-01, 9.8000e-01, 0.0000e+00,\n",
       "       5.6000e+00, 4.6820e+01, 4.6000e-01, 8.7700e+00, 1.3000e-01,\n",
       "       1.4000e-01, 1.2000e-01, 1.0000e-01, 1.0000e-01, 3.3600e+00,\n",
       "       4.3000e-01, 6.0000e-02, 1.7000e-01, 1.2000e-01, 1.1700e+00,\n",
       "       6.2000e-01, 1.9000e-01, 2.3000e-01, 2.3000e-01, 9.8000e-01,\n",
       "       3.2000e-01, 2.2000e-01, 2.4850e+01, 7.5000e-01, 0.0000e+00,\n",
       "       2.3700e+00, 3.2000e-01, 1.1000e-01, 2.1000e+00, 8.0000e-02,\n",
       "       1.0000e-01, 1.4000e-01, 3.3200e+00, 1.0750e+01, 6.1130e+01,\n",
       "       1.4440e+01, 2.3800e+00, 9.8900e+00, 8.7400e+00, 1.4878e+02,\n",
       "       5.1000e-01, 1.2400e+00, 2.6000e-01, 9.6900e+00, 1.6800e+00,\n",
       "       4.3000e+00, 5.5900e+00, 1.0000e+00, 2.0600e+00, 5.8000e-01,\n",
       "       4.2100e+00, 2.4000e-01, 4.5000e-01, 1.1000e+00, 6.1100e+00,\n",
       "       1.2100e+00, 2.7000e-01, 1.0983e+02, 3.2100e+00, 3.8000e-01,\n",
       "       3.6800e+00, 8.0000e-02, 0.0000e+00, 7.1000e-01, 6.0000e-02,\n",
       "       4.2000e-01, 5.6000e-01, 4.0000e-02, 9.0000e-02, 1.0000e-02,\n",
       "       4.1560e+01, 1.1000e-01, 2.2300e+00, 1.0000e-02, 1.1740e+01,\n",
       "       3.7500e+00, 3.8900e+00, 5.5200e+00, 1.6400e+00, 5.6500e+00,\n",
       "       2.3700e+00, 1.0000e-02, 4.4000e-01, 1.1100e+00, 9.0000e-01,\n",
       "       0.0000e+00, 9.0000e-02, 7.0000e-02, 3.4000e-01, 4.4900e+00,\n",
       "       3.3000e-01, 7.9000e-01, 5.0000e-01, 3.9900e+00, 1.3000e-01,\n",
       "       7.0000e-02, 1.4000e-01, 4.6000e-01, 4.3900e+00, 7.6000e-01,\n",
       "       5.5000e-01, 1.0000e-02, 1.1000e-01, 3.2324e+02, 1.8300e+00,\n",
       "       1.6000e-01, 7.2440e+01, 3.4800e+00, 1.3350e+01, 3.8900e+00,\n",
       "       9.0000e-02, 1.2260e+01, 6.1000e-01, 7.9100e+00, 2.8000e-01,\n",
       "       7.2200e+00, 7.1000e-01, 8.0000e-01, 2.7700e+00, 1.7000e-01,\n",
       "       9.0000e-01, 2.3200e+00, 4.8000e-01, 4.9000e-01, 4.0000e-01,\n",
       "       2.3500e+00, 4.1000e-01, 9.1000e-01, 8.8600e+00, 2.6000e-01,\n",
       "       1.3000e+00, 3.7400e+00, 5.2600e+00, 1.1300e+00, 5.3400e+00,\n",
       "       3.9100e+00, 7.1600e+00, 1.2000e-01, 2.9200e+00, 2.4300e+00,\n",
       "       1.4040e+01, 4.7000e-01, 3.4200e+00, 2.0240e+01, 5.0000e-01,\n",
       "       2.0000e-01, 1.1560e+01, 1.2000e-01, 6.5000e-01, 8.3800e+00,\n",
       "       8.4000e-01, 2.7400e+00, 2.7400e+00, 6.0000e-02, 1.1000e-01,\n",
       "       2.3000e+00, 3.2000e-01, 2.6000e+00, 1.1000e-01, 1.0000e-02,\n",
       "       2.6000e-01, 3.4000e-01, 2.1000e-01, 1.0000e-01, 1.6600e+00,\n",
       "       3.2000e-01, 2.4400e+00, 3.0200e+00, 6.6900e+00, 1.0100e+00,\n",
       "       1.5200e+00, 8.5000e-01, 8.5200e+00, 9.8000e-01, 2.2820e+01,\n",
       "       7.2000e-01, 3.7330e+01, 8.0000e-02, 6.7000e-01, 2.8100e+00,\n",
       "       8.2000e-01, 2.0700e+00, 3.8300e+00, 1.7900e+00, 8.1500e+00,\n",
       "       3.3000e-01, 2.0000e-01, 1.6900e+00, 3.0000e-02, 9.8400e+00,\n",
       "       1.4200e+00, 8.0000e-02, 1.8000e-01, 2.2600e+00, 3.0000e-02,\n",
       "       2.2500e+00, 6.0800e+00, 2.3400e+00, 1.3260e+01, 5.0000e-02,\n",
       "       5.7200e+00, 1.3300e+00, 4.7000e-01, 1.9000e+00, 1.5100e+00,\n",
       "       4.7000e-01, 1.4000e-01, 6.1000e-01, 1.5080e+01, 8.0000e-01,\n",
       "       1.7100e+00, 9.0000e-02, 8.4400e+00, 2.2250e+01, 5.0000e-02,\n",
       "       3.0000e-02, 2.0000e-01, 1.6970e+01, 1.4300e+00, 3.6000e-01,\n",
       "       2.0000e-02, 1.8100e+00, 7.8800e+00, 1.0000e-01, 2.7000e-01,\n",
       "       3.0000e-01, 2.2600e+00, 5.3000e-01, 1.1000e-01, 1.3400e+00,\n",
       "       2.8800e+00, 6.0000e-02, 1.2400e+00, 4.3400e+00, 1.1000e+00,\n",
       "       1.0000e-02, 0.0000e+00, 8.0000e-02, 5.2000e-01, 1.8490e+01,\n",
       "       4.7700e+00, 3.0000e-02])"
      ]
     },
     "execution_count": 19,
     "metadata": {},
     "output_type": "execute_result"
    }
   ],
   "source": [
    "data_CY"
   ]
  },
  {
   "cell_type": "code",
   "execution_count": 20,
   "metadata": {
    "colab": {},
    "colab_type": "code",
    "id": "bCipqhgVIJba"
   },
   "outputs": [],
   "source": [
    "from sklearn.model_selection import train_test_split\n",
    "\n",
    "train_data_C,test_data_C,train_targets_C,test_targets_C=train_test_split(data_CX,data_CY)\n",
    "train_dataNC,test_dataNC,train_targetsNC,test_targetsNC=train_test_split(data_CX,data_CY)\n"
   ]
  },
  {
   "cell_type": "code",
   "execution_count": 21,
   "metadata": {
    "colab": {},
    "colab_type": "code",
    "id": "OwRht6oYo7LJ"
   },
   "outputs": [],
   "source": [
    "mean_C = train_data_C.mean(axis=0)\n",
    "train_data_C -= mean_C\n",
    "std_C = train_data_C.std(axis=0)\n",
    "train_data_C /= std_C\n",
    "\n",
    "test_data_C -= mean_C\n",
    "test_data_C /= std_C\n",
    "\n",
    "\n",
    "meanNC = train_dataNC.mean(axis=0)\n",
    "train_dataNC -= meanNC\n",
    "stdNC = train_dataNC.std(axis=0)\n",
    "train_dataNC /= stdNC\n",
    "\n",
    "test_dataNC -= meanNC\n",
    "test_dataNC /= stdNC"
   ]
  },
  {
   "cell_type": "code",
   "execution_count": 22,
   "metadata": {
    "colab": {},
    "colab_type": "code",
    "id": "8bTfqtUGPvsq"
   },
   "outputs": [],
   "source": [
    "from keras import models\n",
    "from keras import layers\n",
    "\n",
    "def build_model_C():\n",
    "    # 동일한 모델을 여러 번 생성할 것이므로 함수를 만들어 사용합니다\n",
    "    model = models.Sequential()\n",
    "    model.add(layers.Dense(64, activation='relu',\n",
    "                           input_shape=(train_data_C.shape[1],)))\n",
    "    model.add(layers.Dense(64, activation='relu'))\n",
    "    model.add(layers.Dense(1))\n",
    "    model.compile(optimizer='rmsprop', loss='mse', metrics=['mean_absolute_error'])\n",
    "    return model\n",
    "\n",
    "\n",
    "def build_modelNC():\n",
    "    # 동일한 모델을 여러 번 생성할 것이므로 함수를 만들어 사용합니다\n",
    "    model = models.Sequential()\n",
    "    model.add(layers.Dense(64, activation='relu',\n",
    "                           input_shape=(train_dataNC.shape[1],)))\n",
    "    model.add(layers.Dense(64, activation='relu'))\n",
    "    model.add(layers.Dense(1))\n",
    "    model.compile(optimizer='rmsprop', loss='mse', metrics=['mean_absolute_error'])\n",
    "    return model\n",
    "\n",
    "def build_model_C_100():\n",
    "  # 2. 모델의 구조를 BatchNormalization layer를 사용하여 만든다.\n",
    "  X = tf.keras.layers.Input(shape=[17])\n",
    "  \n",
    "  H = tf.keras.layers.Dense(8)(X)\n",
    "  H = tf.keras.layers.BatchNormalization()(H)\n",
    "  H = tf.keras.layers.Activation('swish')(H)\n",
    "  \n",
    "  H = tf.keras.layers.Dense(8)(H)\n",
    "  H = tf.keras.layers.BatchNormalization()(H)\n",
    "  H = tf.keras.layers.Activation('swish')(H)\n",
    "  \n",
    "  H = tf.keras.layers.Dense(8)(H)\n",
    "  H = tf.keras.layers.BatchNormalization()(H)\n",
    "  H = tf.keras.layers.Activation('swish')(H)\n",
    "  \n",
    "  Y = tf.keras.layers.Dense(1)(H)\n",
    "  model = tf.keras.models.Model(X, Y)\n",
    "  model.compile(loss='mse', metrics=[tf.keras.metrics.Accuracy()])\n",
    "  return model\n",
    "\n",
    "def build_model_NC_100():\n",
    "  # 2. 모델의 구조를 BatchNormalization layer를 사용하여 만든다.\n",
    "  X = tf.keras.layers.Input(shape=[17])\n",
    "  \n",
    "  H = tf.keras.layers.Dense(8)(X)\n",
    "  H = tf.keras.layers.BatchNormalization()(H)\n",
    "  H = tf.keras.layers.Activation('swish')(H)\n",
    "  \n",
    "  H = tf.keras.layers.Dense(8)(H)\n",
    "  H = tf.keras.layers.BatchNormalization()(H)\n",
    "  H = tf.keras.layers.Activation('swish')(H)\n",
    "  \n",
    "  H = tf.keras.layers.Dense(8)(H)\n",
    "  H = tf.keras.layers.BatchNormalization()(H)\n",
    "  H = tf.keras.layers.Activation('swish')(H)\n",
    "  \n",
    "  Y = tf.keras.layers.Dense(1)(H)\n",
    "  model = tf.keras.models.Model(X, Y)\n",
    "  model.compile(loss='mse', metrics=[tf.keras.metrics.Accuracy()])\n",
    "  return model\n"
   ]
  },
  {
   "cell_type": "code",
   "execution_count": 23,
   "metadata": {},
   "outputs": [],
   "source": [
    "import time\n",
    "start_time = time.time()"
   ]
  },
  {
   "cell_type": "code",
   "execution_count": 24,
   "metadata": {
    "colab": {
     "base_uri": "https://localhost:8080/",
     "height": 87
    },
    "colab_type": "code",
    "id": "tVswRsv4XEfC",
    "outputId": "81f31bd0-0766-4c5f-94e9-162f87fdf503"
   },
   "outputs": [
    {
     "name": "stdout",
     "output_type": "stream",
     "text": [
      "처리중인 폴드 # 0\n",
      "처리중인 폴드 # 1\n",
      "처리중인 폴드 # 2\n",
      "처리중인 폴드 # 3\n"
     ]
    }
   ],
   "source": [
    "# cure\n",
    "\n",
    "k = 4\n",
    "num_val_samples = len(train_data_C) // k\n",
    "num_epochs = 100\n",
    "all_scores_C = []\n",
    "for i in range(k):\n",
    "    print('처리중인 폴드 #', i)\n",
    "    # 검증 데이터 준비: k번째 분할\n",
    "    val_data = train_data_C[i * num_val_samples: (i + 1) * num_val_samples]\n",
    "    val_targets = train_targets_C[i * num_val_samples: (i + 1) * num_val_samples]\n",
    "\n",
    "    # 훈련 데이터 준비: 다른 분할 전체\n",
    "    partial_train_data = np.concatenate(\n",
    "        [train_data_C[:i * num_val_samples],\n",
    "         train_data_C[(i + 1) * num_val_samples:]],\n",
    "        axis=0)\n",
    "    partial_train_targets = np.concatenate(\n",
    "        [train_targets_C[:i * num_val_samples],\n",
    "         train_targets_C[(i + 1) * num_val_samples:]],\n",
    "        axis=0)\n",
    "\n",
    "    # 케라스 모델 구성(컴파일 포함)\n",
    "    model_C = build_model_C()\n",
    "    # 모델 훈련(verbose=0 이므로 훈련 과정이 출력되지 않습니다)\n",
    "    model_C.fit(partial_train_data, partial_train_targets,\n",
    "              epochs=num_epochs, batch_size=1, verbose=0)\n",
    "    # 검증 세트로 모델 평가\n",
    "    val_mse, val_mae = model_C.evaluate(val_data, val_targets, verbose=0)\n",
    "    all_scores_C.append(val_mae)"
   ]
  },
  {
   "cell_type": "code",
   "execution_count": 25,
   "metadata": {
    "colab": {
     "base_uri": "https://localhost:8080/",
     "height": 178
    },
    "colab_type": "code",
    "id": "AVhckz8IlP2L",
    "outputId": "176d9b91-696d-4955-e7c9-e6971266b619",
    "scrolled": true
   },
   "outputs": [
    {
     "name": "stdout",
     "output_type": "stream",
     "text": [
      "처리중인 폴드 # 0\n",
      "처리중인 폴드 # 1\n",
      "처리중인 폴드 # 2\n",
      "처리중인 폴드 # 3\n"
     ]
    }
   ],
   "source": [
    "# not cure\n",
    "\n",
    "k = 4\n",
    "num_val_samples = len(train_dataNC) // k\n",
    "num_epochs = 100\n",
    "all_scoresNC = []\n",
    "for i in range(k):\n",
    "    print('처리중인 폴드 #', i)\n",
    "    # 검증 데이터 준비: k번째 분할\n",
    "    val_data = train_dataNC[i * num_val_samples: (i + 1) * num_val_samples]\n",
    "    val_targets = train_targetsNC[i * num_val_samples: (i + 1) * num_val_samples]\n",
    "\n",
    "    # 훈련 데이터 준비: 다른 분할 전체\n",
    "    partial_train_data = np.concatenate(\n",
    "        [train_dataNC[:i * num_val_samples],\n",
    "         train_dataNC[(i + 1) * num_val_samples:]],\n",
    "        axis=0)\n",
    "    partial_train_targets = np.concatenate(\n",
    "        [train_targetsNC[:i * num_val_samples],\n",
    "         train_targetsNC[(i + 1) * num_val_samples:]],\n",
    "        axis=0)\n",
    "\n",
    "    # 케라스 모델 구성(컴파일 포함)\n",
    "    modelNC = build_modelNC()\n",
    "    # 모델 훈련(verbose=0 이므로 훈련 과정이 출력되지 않습니다)\n",
    "    modelNC.fit(partial_train_data, partial_train_targets,\n",
    "              epochs=num_epochs, batch_size=1, verbose=0)\n",
    "    # 검증 세트로 모델 평가\n",
    "    val_mse, val_mae = modelNC.evaluate(val_data, val_targets, verbose=0)\n",
    "    all_scoresNC.append(val_mae)"
   ]
  },
  {
   "cell_type": "code",
   "execution_count": 26,
   "metadata": {},
   "outputs": [
    {
     "data": {
      "text/plain": [
       "'00:09:00'"
      ]
     },
     "execution_count": 26,
     "metadata": {},
     "output_type": "execute_result"
    }
   ],
   "source": [
    "elapsed_time = time.time() - start_time\n",
    "time.strftime(\"%H:%M:%S\", time.gmtime(elapsed_time))"
   ]
  },
  {
   "cell_type": "code",
   "execution_count": 27,
   "metadata": {
    "colab": {
     "base_uri": "https://localhost:8080/",
     "height": 105
    },
    "colab_type": "code",
    "id": "9gaKf3b30taJ",
    "outputId": "078e7735-cfe7-4535-d30f-e085747c6965"
   },
   "outputs": [
    {
     "data": {
      "text/plain": [
       "([1.2929011631011962,\n",
       "  2.0884763622283935,\n",
       "  1.9198805713653564,\n",
       "  1.657959098815918],\n",
       " 1.739804298877716)"
      ]
     },
     "execution_count": 27,
     "metadata": {},
     "output_type": "execute_result"
    }
   ],
   "source": [
    "all_scores_C,np.mean(all_scores_C)\n"
   ]
  },
  {
   "cell_type": "code",
   "execution_count": 28,
   "metadata": {
    "colab": {
     "base_uri": "https://localhost:8080/",
     "height": 105
    },
    "colab_type": "code",
    "id": "aakg-twp0wzT",
    "outputId": "e6c7e6a9-e45a-4732-c15c-2d3a4e96dea8"
   },
   "outputs": [
    {
     "data": {
      "text/plain": [
       "([5.5326028823852536,\n",
       "  9.079362926483155,\n",
       "  7.860736846923828,\n",
       "  5.6843598937988284],\n",
       " 7.039265637397766)"
      ]
     },
     "execution_count": 28,
     "metadata": {},
     "output_type": "execute_result"
    }
   ],
   "source": [
    "all_scoresNC,np.mean(all_scoresNC)\n"
   ]
  },
  {
   "cell_type": "code",
   "execution_count": 29,
   "metadata": {
    "colab": {},
    "colab_type": "code",
    "id": "hEz40QMr01Ii"
   },
   "outputs": [],
   "source": [
    "from keras import backend as K\n",
    "\n",
    "# 메모리 해제\n",
    "K.clear_session()"
   ]
  },
  {
   "cell_type": "code",
   "execution_count": 30,
   "metadata": {},
   "outputs": [],
   "source": [
    "start_time = time.time()"
   ]
  },
  {
   "cell_type": "code",
   "execution_count": 31,
   "metadata": {
    "colab": {
     "base_uri": "https://localhost:8080/",
     "height": 72
    },
    "colab_type": "code",
    "id": "BmOzXso82FvD",
    "outputId": "d3e06e87-26c9-4e4a-eaa3-f997e560f370"
   },
   "outputs": [
    {
     "name": "stdout",
     "output_type": "stream",
     "text": [
      "처리중인 폴드 # 0\n",
      "처리중인 폴드 # 1\n",
      "처리중인 폴드 # 2\n",
      "처리중인 폴드 # 3\n"
     ]
    }
   ],
   "source": [
    "# cure\n",
    "\n",
    "num_epochs = 1000\n",
    "all_mae_histories_C = []\n",
    "for i in range(k):\n",
    "    print('처리중인 폴드 #', i)\n",
    "    # 검증 데이터 준비: k번째 분할\n",
    "    val_data = train_data_C[i * num_val_samples: (i + 1) * num_val_samples]\n",
    "    val_targets = train_targets_C[i * num_val_samples: (i + 1) * num_val_samples]\n",
    "\n",
    "    # 훈련 데이터 준비: 다른 분할 전체\n",
    "    partial_train_data = np.concatenate(\n",
    "        [train_data_C[:i * num_val_samples],\n",
    "         train_data_C[(i + 1) * num_val_samples:]],\n",
    "        axis=0)\n",
    "    partial_train_targets = np.concatenate(\n",
    "        [train_targets_C[:i * num_val_samples],\n",
    "         train_targets_C[(i + 1) * num_val_samples:]],\n",
    "        axis=0)\n",
    "\n",
    "    # 케라스 모델 구성(컴파일 포함)\n",
    "    model_C = build_model_C()\n",
    "    # 모델 훈련(verbose=0 이므로 훈련 과정이 출력되지 않습니다)\n",
    "    history = model_C.fit(partial_train_data, partial_train_targets,\n",
    "                        validation_data=(val_data, val_targets),\n",
    "                        epochs=num_epochs, batch_size=1, verbose=0)\n",
    "    mae_history = history.history['val_mean_absolute_error']\n",
    "    all_mae_histories_C.append(mae_history)"
   ]
  },
  {
   "cell_type": "code",
   "execution_count": 32,
   "metadata": {
    "colab": {},
    "colab_type": "code",
    "id": "qXAHLq2p2hpZ"
   },
   "outputs": [
    {
     "name": "stdout",
     "output_type": "stream",
     "text": [
      "처리중인 폴드 # 0\n",
      "처리중인 폴드 # 1\n",
      "처리중인 폴드 # 2\n",
      "처리중인 폴드 # 3\n"
     ]
    }
   ],
   "source": [
    "# not cure\n",
    "\n",
    "num_epochs = 1000\n",
    "all_mae_historiesNC = []\n",
    "for i in range(k):\n",
    "    print('처리중인 폴드 #', i)\n",
    "    # 검증 데이터 준비: k번째 분할\n",
    "    val_data = train_dataNC[i * num_val_samples: (i + 1) * num_val_samples]\n",
    "    val_targets = train_targetsNC[i * num_val_samples: (i + 1) * num_val_samples]\n",
    "\n",
    "    # 훈련 데이터 준비: 다른 분할 전체\n",
    "    partial_train_data = np.concatenate(\n",
    "        [train_dataNC[:i * num_val_samples],\n",
    "         train_dataNC[(i + 1) * num_val_samples:]],\n",
    "        axis=0)\n",
    "    partial_train_targets = np.concatenate(\n",
    "        [train_targetsNC[:i * num_val_samples],\n",
    "         train_targetsNC[(i + 1) * num_val_samples:]],\n",
    "        axis=0)\n",
    "\n",
    "    # 케라스 모델 구성(컴파일 포함)\n",
    "    modelNC = build_modelNC()\n",
    "    # 모델 훈련(verbose=0 이므로 훈련 과정이 출력되지 않습니다)\n",
    "    history = modelNC.fit(partial_train_data, partial_train_targets,\n",
    "                        validation_data=(val_data, val_targets),\n",
    "                        epochs=num_epochs, batch_size=1, verbose=0)\n",
    "    mae_history = history.history['val_mean_absolute_error']\n",
    "    all_mae_historiesNC.append(mae_history)"
   ]
  },
  {
   "cell_type": "code",
   "execution_count": 33,
   "metadata": {},
   "outputs": [
    {
     "data": {
      "text/plain": [
       "'01:20:16'"
      ]
     },
     "execution_count": 33,
     "metadata": {},
     "output_type": "execute_result"
    }
   ],
   "source": [
    "elapsed_time = time.time() - start_time\n",
    "time.strftime(\"%H:%M:%S\", time.gmtime(elapsed_time))"
   ]
  },
  {
   "cell_type": "code",
   "execution_count": 34,
   "metadata": {
    "colab": {},
    "colab_type": "code",
    "id": "m5Hrsk3rjSXs"
   },
   "outputs": [],
   "source": [
    "average_mae_history_C = [\n",
    "    np.mean([x[i] for x in all_mae_histories_C]) for i in range(num_epochs)]\n",
    "\n",
    "average_mae_historyNC = [\n",
    "    np.mean([x[i] for x in all_mae_historiesNC]) for i in range(num_epochs)]"
   ]
  },
  {
   "cell_type": "code",
   "execution_count": 35,
   "metadata": {
    "colab": {},
    "colab_type": "code",
    "id": "AQpC9xw1kddO"
   },
   "outputs": [],
   "source": [
    "import matplotlib.pyplot as plt"
   ]
  },
  {
   "cell_type": "code",
   "execution_count": 36,
   "metadata": {
    "colab": {},
    "colab_type": "code",
    "id": "fa-k6N4Dkmz2"
   },
   "outputs": [
    {
     "data": {
      "image/png": "[encoded data removed]",
      "text/plain": [
       "<Figure size 432x288 with 1 Axes>"
      ]
     },
     "metadata": {
      "needs_background": "light"
     },
     "output_type": "display_data"
    }
   ],
   "source": [
    "plt.plot(range(1, len(average_mae_history_C) + 1), average_mae_history_C)\n",
    "plt.title('cure')\n",
    "plt.xlabel('Epochs')\n",
    "plt.ylabel('Validation MAE')\n",
    "plt.show()"
   ]
  },
  {
   "cell_type": "code",
   "execution_count": 37,
   "metadata": {
    "colab": {},
    "colab_type": "code",
    "id": "0r0NWSoDku16"
   },
   "outputs": [
    {
     "data": {
      "image/png": "[encoded data removed]",
      "text/plain": [
       "<Figure size 432x288 with 1 Axes>"
      ]
     },
     "metadata": {
      "needs_background": "light"
     },
     "output_type": "display_data"
    }
   ],
   "source": [
    "plt.plot(range(1, len(average_mae_historyNC) + 1), average_mae_historyNC)\n",
    "plt.title('not cure')\n",
    "plt.xlabel('Epochs')\n",
    "plt.ylabel('Validation MAE')\n",
    "plt.show()"
   ]
  },
  {
   "cell_type": "code",
   "execution_count": 38,
   "metadata": {
    "colab": {},
    "colab_type": "code",
    "id": "_PdslPp8k2-H"
   },
   "outputs": [
    {
     "data": {
      "image/png": "[encoded data removed]",
      "text/plain": [
       "<Figure size 432x288 with 1 Axes>"
      ]
     },
     "metadata": {
      "needs_background": "light"
     },
     "output_type": "display_data"
    }
   ],
   "source": [
    "def smooth_curve(points, factor=0.9):\n",
    "  smoothed_points = []\n",
    "  for point in points:\n",
    "    if smoothed_points:\n",
    "      previous = smoothed_points[-1]\n",
    "      smoothed_points.append(previous * factor + point * (1 - factor))\n",
    "    else:\n",
    "      smoothed_points.append(point)\n",
    "  return smoothed_points\n",
    "\n",
    "smooth_mae_history_C = smooth_curve(average_mae_history_C[10:])\n",
    "\n",
    "plt.plot(range(1, len(smooth_mae_history_C) + 1), smooth_mae_history_C)\n",
    "plt.title('cure')\n",
    "plt.xlabel('Epochs')\n",
    "plt.ylabel('Validation MAE')\n",
    "plt.show()"
   ]
  },
  {
   "cell_type": "code",
   "execution_count": 39,
   "metadata": {
    "colab": {},
    "colab_type": "code",
    "id": "MohjFl6AnxfR"
   },
   "outputs": [
    {
     "data": {
      "image/png": "[encoded data removed]",
      "text/plain": [
       "<Figure size 432x288 with 1 Axes>"
      ]
     },
     "metadata": {
      "needs_background": "light"
     },
     "output_type": "display_data"
    }
   ],
   "source": [
    "def smooth_curve(points, factor=0.9):\n",
    "  smoothed_points = []\n",
    "  for point in points:\n",
    "    if smoothed_points:\n",
    "      previous = smoothed_points[-1]\n",
    "      smoothed_points.append(previous * factor + point * (1 - factor))\n",
    "    else:\n",
    "      smoothed_points.append(point)\n",
    "  return smoothed_points\n",
    "\n",
    "smooth_mae_historyNC = smooth_curve(average_mae_historyNC[10:])\n",
    "\n",
    "plt.plot(range(1, len(smooth_mae_historyNC) + 1), smooth_mae_historyNC)\n",
    "plt.title('not cure')\n",
    "plt.xlabel('Epochs')\n",
    "plt.ylabel('Validation MAE')\n",
    "plt.show()"
   ]
  },
  {
   "cell_type": "code",
   "execution_count": 40,
   "metadata": {
    "colab": {},
    "colab_type": "code",
    "id": "3MUIv80sn8HA"
   },
   "outputs": [
    {
     "data": {
      "text/plain": [
       "[<matplotlib.lines.Line2D at 0x1f8205f7518>]"
      ]
     },
     "execution_count": 40,
     "metadata": {},
     "output_type": "execute_result"
    },
    {
     "data": {
      "image/png": "[encoded data removed]",
      "text/plain": [
       "<Figure size 432x288 with 1 Axes>"
      ]
     },
     "metadata": {
      "needs_background": "light"
     },
     "output_type": "display_data"
    }
   ],
   "source": [
    "pred_targets=model_C.predict(test_data_C)\n",
    "\n",
    "plt.scatter(pred_targets,test_targets_C)\n",
    "plt.plot(np.arange(80),np.arange(80))"
   ]
  },
  {
   "cell_type": "markdown",
   "metadata": {
    "colab_type": "text",
    "id": "6psrzIaDlwAq"
   },
   "source": [
    "### 선형회귀"
   ]
  },
  {
   "cell_type": "code",
   "execution_count": 41,
   "metadata": {
    "colab": {},
    "colab_type": "code",
    "id": "a8QWWq9okz3M"
   },
   "outputs": [
    {
     "data": {
      "text/plain": [
       "(array([3.4763527], dtype=float32), -7.6987906)"
      ]
     },
     "execution_count": 41,
     "metadata": {},
     "output_type": "execute_result"
    }
   ],
   "source": [
    "from sklearn.linear_model import LinearRegression\n",
    "\n",
    "model = LinearRegression()\n",
    "model.fit(pred_targets, test_targets_C)\n",
    "\n",
    "model.coef_, model.intercept_ "
   ]
  },
  {
   "cell_type": "code",
   "execution_count": 42,
   "metadata": {
    "colab": {},
    "colab_type": "code",
    "id": "trkUBqINlWyt"
   },
   "outputs": [
    {
     "data": {
      "text/plain": [
       "[<matplotlib.lines.Line2D at 0x1f82172a080>]"
      ]
     },
     "execution_count": 42,
     "metadata": {},
     "output_type": "execute_result"
    },
    {
     "data": {
      "image/png": "[encoded data removed]",
      "text/plain": [
       "<Figure size 432x288 with 1 Axes>"
      ]
     },
     "metadata": {
      "needs_background": "light"
     },
     "output_type": "display_data"
    }
   ],
   "source": [
    "xs = np.arange(0, 80, 0.1)\n",
    "ys = xs*model.coef_[0] + model.intercept_\n",
    "\n",
    "plt.scatter(pred_targets,test_targets_C)\n",
    "plt.plot(xs,ys,'r-',lw=3)"
   ]
  },
  {
   "cell_type": "markdown",
   "metadata": {
    "colab_type": "text",
    "id": "lqzpJTsIlyYj"
   },
   "source": [
    "### 2차식 회귀"
   ]
  },
  {
   "cell_type": "code",
   "execution_count": 43,
   "metadata": {
    "colab": {},
    "colab_type": "code",
    "id": "mIHB4ixsl17r"
   },
   "outputs": [
    {
     "data": {
      "text/plain": [
       "(array([0.02294654, 0.08795736], dtype=float32), 0.5454273)"
      ]
     },
     "execution_count": 43,
     "metadata": {},
     "output_type": "execute_result"
    }
   ],
   "source": [
    "X = np.c_[pred_targets, pred_targets**2]\n",
    "y = test_targets_C\n",
    "\n",
    "model = LinearRegression()\n",
    "model.fit(X, y)\n",
    "\n",
    "model.coef_, model.intercept_"
   ]
  },
  {
   "cell_type": "code",
   "execution_count": 44,
   "metadata": {
    "colab": {},
    "colab_type": "code",
    "id": "zeDj7_lbp2_c"
   },
   "outputs": [
    {
     "data": {
      "text/plain": [
       "[<matplotlib.lines.Line2D at 0x1f821787ba8>]"
      ]
     },
     "execution_count": 44,
     "metadata": {},
     "output_type": "execute_result"
    },
    {
     "data": {
      "image/png": "[encoded data removed]",
      "text/plain": [
       "<Figure size 432x288 with 1 Axes>"
      ]
     },
     "metadata": {
      "needs_background": "light"
     },
     "output_type": "display_data"
    }
   ],
   "source": [
    "xs = np.arange(0,80,0.1)\n",
    "ys = xs*model.coef_[0] + (xs**2)*model.coef_[1] + model.intercept_\n",
    "\n",
    "plt.scatter(pred_targets,test_targets_C)\n",
    "plt.plot(xs,ys,'r-',lw=3)"
   ]
  },
  {
   "cell_type": "code",
   "execution_count": 45,
   "metadata": {
    "colab": {},
    "colab_type": "code",
    "id": "-dGEIibHyN7Q"
   },
   "outputs": [
    {
     "data": {
      "text/plain": [
       "[<matplotlib.lines.Line2D at 0x1f8237fda58>]"
      ]
     },
     "execution_count": 45,
     "metadata": {},
     "output_type": "execute_result"
    },
    {
     "data": {
      "image/png": "[encoded data removed]",
      "text/plain": [
       "<Figure size 432x288 with 1 Axes>"
      ]
     },
     "metadata": {
      "needs_background": "light"
     },
     "output_type": "display_data"
    }
   ],
   "source": [
    "pred_targets=modelNC.predict(test_data_C)\n",
    "\n",
    "plt.scatter(pred_targets,test_targetsNC)\n",
    "plt.plot(np.arange(80),np.arange(80))"
   ]
  },
  {
   "cell_type": "code",
   "execution_count": 46,
   "metadata": {
    "colab": {},
    "colab_type": "code",
    "id": "rrSARUUvpGpp"
   },
   "outputs": [
    {
     "data": {
      "text/plain": [
       "(67, 17)"
      ]
     },
     "execution_count": 46,
     "metadata": {},
     "output_type": "execute_result"
    }
   ],
   "source": [
    "test_data_C.shape"
   ]
  },
  {
   "cell_type": "code",
   "execution_count": 47,
   "metadata": {
    "colab": {},
    "colab_type": "code",
    "id": "qc046eoBp7xe"
   },
   "outputs": [
    {
     "data": {
      "text/plain": [
       "(200, 17)"
      ]
     },
     "execution_count": 47,
     "metadata": {},
     "output_type": "execute_result"
    }
   ],
   "source": [
    "train_data_C.shape"
   ]
  },
  {
   "cell_type": "code",
   "execution_count": 48,
   "metadata": {
    "colab": {},
    "colab_type": "code",
    "id": "iWy4wNMyqAtr"
   },
   "outputs": [
    {
     "data": {
      "text/plain": [
       "array([-0.84865574,  0.36008528, -1.98620301, -0.90460313,  1.42010076,\n",
       "        1.76434299, -0.53481187,  0.69488627,  1.71564339,  0.69345402,\n",
       "       -0.69338692, -0.7166123 ,  0.73266789, -0.51912892,  0.66488498,\n",
       "        0.88743116,  0.96925362])"
      ]
     },
     "execution_count": 48,
     "metadata": {},
     "output_type": "execute_result"
    }
   ],
   "source": [
    "test_data_C[0]"
   ]
  },
  {
   "cell_type": "code",
   "execution_count": 49,
   "metadata": {
    "colab": {},
    "colab_type": "code",
    "id": "aIOJzW8JqLj1"
   },
   "outputs": [
    {
     "name": "stdout",
     "output_type": "stream",
     "text": [
      "치료하지 마세용\n",
      "72.44 [23.027042] [90.50527] [-67.478226]\n"
     ]
    }
   ],
   "source": [
    "time_C=model_C.predict(test_data_C)[0]\n",
    "timeNC=modelNC.predict(test_data_C)[0]\n",
    "\n",
    "if time_C > timeNC:\n",
    "  print('치료하세용')\n",
    "else:\n",
    "  print('치료하지 마세용')\n",
    "\n",
    "print(test_targets_C[0],time_C,timeNC,time_C-timeNC)\n",
    "\n"
   ]
  },
  {
   "cell_type": "code",
   "execution_count": 51,
   "metadata": {
    "colab": {},
    "colab_type": "code",
    "id": "Poq3AzwFsLZ9"
   },
   "outputs": [],
   "source": [
    "import tensorflow as tf"
   ]
  },
  {
   "cell_type": "code",
   "execution_count": 52,
   "metadata": {
    "colab": {},
    "colab_type": "code",
    "id": "V8MudW8W4doW"
   },
   "outputs": [
    {
     "ename": "ValueError",
     "evalue": "Unknown activation function:swish",
     "output_type": "error",
     "traceback": [
      "\u001b[1;31m---------------------------------------------------------------------------\u001b[0m",
      "\u001b[1;31mValueError\u001b[0m                                Traceback (most recent call last)",
      "\u001b[1;32m<ipython-input-52-e9160621c953>\u001b[0m in \u001b[0;36m<module>\u001b[1;34m\u001b[0m\n\u001b[0;32m      1\u001b[0m \u001b[1;31m# 2. 모델의 구조를 만듭니다\u001b[0m\u001b[1;33m\u001b[0m\u001b[1;33m\u001b[0m\u001b[1;33m\u001b[0m\u001b[0m\n\u001b[0;32m      2\u001b[0m \u001b[0mX\u001b[0m \u001b[1;33m=\u001b[0m \u001b[0mtf\u001b[0m\u001b[1;33m.\u001b[0m\u001b[0mkeras\u001b[0m\u001b[1;33m.\u001b[0m\u001b[0mlayers\u001b[0m\u001b[1;33m.\u001b[0m\u001b[0mInput\u001b[0m\u001b[1;33m(\u001b[0m\u001b[0mshape\u001b[0m\u001b[1;33m=\u001b[0m\u001b[1;33m[\u001b[0m\u001b[1;36m13\u001b[0m\u001b[1;33m]\u001b[0m\u001b[1;33m)\u001b[0m\u001b[1;33m\u001b[0m\u001b[1;33m\u001b[0m\u001b[0m\n\u001b[1;32m----> 3\u001b[1;33m \u001b[0mH\u001b[0m \u001b[1;33m=\u001b[0m \u001b[0mtf\u001b[0m\u001b[1;33m.\u001b[0m\u001b[0mkeras\u001b[0m\u001b[1;33m.\u001b[0m\u001b[0mlayers\u001b[0m\u001b[1;33m.\u001b[0m\u001b[0mDense\u001b[0m\u001b[1;33m(\u001b[0m\u001b[1;36m8\u001b[0m\u001b[1;33m,\u001b[0m \u001b[0mactivation\u001b[0m\u001b[1;33m=\u001b[0m\u001b[1;34m'swish'\u001b[0m\u001b[1;33m)\u001b[0m\u001b[1;33m(\u001b[0m\u001b[0mX\u001b[0m\u001b[1;33m)\u001b[0m\u001b[1;33m\u001b[0m\u001b[1;33m\u001b[0m\u001b[0m\n\u001b[0m\u001b[0;32m      4\u001b[0m \u001b[0mH\u001b[0m \u001b[1;33m=\u001b[0m \u001b[0mtf\u001b[0m\u001b[1;33m.\u001b[0m\u001b[0mkeras\u001b[0m\u001b[1;33m.\u001b[0m\u001b[0mlayers\u001b[0m\u001b[1;33m.\u001b[0m\u001b[0mDense\u001b[0m\u001b[1;33m(\u001b[0m\u001b[1;36m8\u001b[0m\u001b[1;33m,\u001b[0m \u001b[0mactivation\u001b[0m\u001b[1;33m=\u001b[0m\u001b[1;34m'swish'\u001b[0m\u001b[1;33m)\u001b[0m\u001b[1;33m(\u001b[0m\u001b[0mH\u001b[0m\u001b[1;33m)\u001b[0m\u001b[1;33m\u001b[0m\u001b[1;33m\u001b[0m\u001b[0m\n\u001b[0;32m      5\u001b[0m \u001b[0mH\u001b[0m \u001b[1;33m=\u001b[0m \u001b[0mtf\u001b[0m\u001b[1;33m.\u001b[0m\u001b[0mkeras\u001b[0m\u001b[1;33m.\u001b[0m\u001b[0mlayers\u001b[0m\u001b[1;33m.\u001b[0m\u001b[0mDense\u001b[0m\u001b[1;33m(\u001b[0m\u001b[1;36m8\u001b[0m\u001b[1;33m,\u001b[0m \u001b[0mactivation\u001b[0m\u001b[1;33m=\u001b[0m\u001b[1;34m'swish'\u001b[0m\u001b[1;33m)\u001b[0m\u001b[1;33m(\u001b[0m\u001b[0mH\u001b[0m\u001b[1;33m)\u001b[0m\u001b[1;33m\u001b[0m\u001b[1;33m\u001b[0m\u001b[0m\n",
      "\u001b[1;32mc:\\users\\kosta\\anaconda3\\envs\\generative\\lib\\site-packages\\tensorflow\\python\\keras\\layers\\core.py\u001b[0m in \u001b[0;36m__init__\u001b[1;34m(self, units, activation, use_bias, kernel_initializer, bias_initializer, kernel_regularizer, bias_regularizer, activity_regularizer, kernel_constraint, bias_constraint, **kwargs)\u001b[0m\n\u001b[0;32m    984\u001b[0m         activity_regularizer=regularizers.get(activity_regularizer), **kwargs)\n\u001b[0;32m    985\u001b[0m     \u001b[0mself\u001b[0m\u001b[1;33m.\u001b[0m\u001b[0munits\u001b[0m \u001b[1;33m=\u001b[0m \u001b[0mint\u001b[0m\u001b[1;33m(\u001b[0m\u001b[0munits\u001b[0m\u001b[1;33m)\u001b[0m\u001b[1;33m\u001b[0m\u001b[1;33m\u001b[0m\u001b[0m\n\u001b[1;32m--> 986\u001b[1;33m     \u001b[0mself\u001b[0m\u001b[1;33m.\u001b[0m\u001b[0mactivation\u001b[0m \u001b[1;33m=\u001b[0m \u001b[0mactivations\u001b[0m\u001b[1;33m.\u001b[0m\u001b[0mget\u001b[0m\u001b[1;33m(\u001b[0m\u001b[0mactivation\u001b[0m\u001b[1;33m)\u001b[0m\u001b[1;33m\u001b[0m\u001b[1;33m\u001b[0m\u001b[0m\n\u001b[0m\u001b[0;32m    987\u001b[0m     \u001b[0mself\u001b[0m\u001b[1;33m.\u001b[0m\u001b[0muse_bias\u001b[0m \u001b[1;33m=\u001b[0m \u001b[0muse_bias\u001b[0m\u001b[1;33m\u001b[0m\u001b[1;33m\u001b[0m\u001b[0m\n\u001b[0;32m    988\u001b[0m     \u001b[0mself\u001b[0m\u001b[1;33m.\u001b[0m\u001b[0mkernel_initializer\u001b[0m \u001b[1;33m=\u001b[0m \u001b[0minitializers\u001b[0m\u001b[1;33m.\u001b[0m\u001b[0mget\u001b[0m\u001b[1;33m(\u001b[0m\u001b[0mkernel_initializer\u001b[0m\u001b[1;33m)\u001b[0m\u001b[1;33m\u001b[0m\u001b[1;33m\u001b[0m\u001b[0m\n",
      "\u001b[1;32mc:\\users\\kosta\\anaconda3\\envs\\generative\\lib\\site-packages\\tensorflow\\python\\keras\\activations.py\u001b[0m in \u001b[0;36mget\u001b[1;34m(identifier)\u001b[0m\n\u001b[0;32m    304\u001b[0m   \u001b[1;32mif\u001b[0m \u001b[0misinstance\u001b[0m\u001b[1;33m(\u001b[0m\u001b[0midentifier\u001b[0m\u001b[1;33m,\u001b[0m \u001b[0msix\u001b[0m\u001b[1;33m.\u001b[0m\u001b[0mstring_types\u001b[0m\u001b[1;33m)\u001b[0m\u001b[1;33m:\u001b[0m\u001b[1;33m\u001b[0m\u001b[1;33m\u001b[0m\u001b[0m\n\u001b[0;32m    305\u001b[0m     \u001b[0midentifier\u001b[0m \u001b[1;33m=\u001b[0m \u001b[0mstr\u001b[0m\u001b[1;33m(\u001b[0m\u001b[0midentifier\u001b[0m\u001b[1;33m)\u001b[0m\u001b[1;33m\u001b[0m\u001b[1;33m\u001b[0m\u001b[0m\n\u001b[1;32m--> 306\u001b[1;33m     \u001b[1;32mreturn\u001b[0m \u001b[0mdeserialize\u001b[0m\u001b[1;33m(\u001b[0m\u001b[0midentifier\u001b[0m\u001b[1;33m)\u001b[0m\u001b[1;33m\u001b[0m\u001b[1;33m\u001b[0m\u001b[0m\n\u001b[0m\u001b[0;32m    307\u001b[0m   \u001b[1;32melif\u001b[0m \u001b[0mcallable\u001b[0m\u001b[1;33m(\u001b[0m\u001b[0midentifier\u001b[0m\u001b[1;33m)\u001b[0m\u001b[1;33m:\u001b[0m\u001b[1;33m\u001b[0m\u001b[1;33m\u001b[0m\u001b[0m\n\u001b[0;32m    308\u001b[0m     \u001b[1;32mreturn\u001b[0m \u001b[0midentifier\u001b[0m\u001b[1;33m\u001b[0m\u001b[1;33m\u001b[0m\u001b[0m\n",
      "\u001b[1;32mc:\\users\\kosta\\anaconda3\\envs\\generative\\lib\\site-packages\\tensorflow\\python\\keras\\activations.py\u001b[0m in \u001b[0;36mdeserialize\u001b[1;34m(name, custom_objects)\u001b[0m\n\u001b[0;32m    295\u001b[0m       \u001b[0mmodule_objects\u001b[0m\u001b[1;33m=\u001b[0m\u001b[0mglobals\u001b[0m\u001b[1;33m(\u001b[0m\u001b[1;33m)\u001b[0m\u001b[1;33m,\u001b[0m\u001b[1;33m\u001b[0m\u001b[1;33m\u001b[0m\u001b[0m\n\u001b[0;32m    296\u001b[0m       \u001b[0mcustom_objects\u001b[0m\u001b[1;33m=\u001b[0m\u001b[0mcustom_objects\u001b[0m\u001b[1;33m,\u001b[0m\u001b[1;33m\u001b[0m\u001b[1;33m\u001b[0m\u001b[0m\n\u001b[1;32m--> 297\u001b[1;33m       printable_module_name='activation function')\n\u001b[0m\u001b[0;32m    298\u001b[0m \u001b[1;33m\u001b[0m\u001b[0m\n\u001b[0;32m    299\u001b[0m \u001b[1;33m\u001b[0m\u001b[0m\n",
      "\u001b[1;32mc:\\users\\kosta\\anaconda3\\envs\\generative\\lib\\site-packages\\tensorflow\\python\\keras\\utils\\generic_utils.py\u001b[0m in \u001b[0;36mdeserialize_keras_object\u001b[1;34m(identifier, module_objects, custom_objects, printable_module_name)\u001b[0m\n\u001b[0;32m    209\u001b[0m       \u001b[0mobj\u001b[0m \u001b[1;33m=\u001b[0m \u001b[0mmodule_objects\u001b[0m\u001b[1;33m.\u001b[0m\u001b[0mget\u001b[0m\u001b[1;33m(\u001b[0m\u001b[0mobject_name\u001b[0m\u001b[1;33m)\u001b[0m\u001b[1;33m\u001b[0m\u001b[1;33m\u001b[0m\u001b[0m\n\u001b[0;32m    210\u001b[0m       \u001b[1;32mif\u001b[0m \u001b[0mobj\u001b[0m \u001b[1;32mis\u001b[0m \u001b[1;32mNone\u001b[0m\u001b[1;33m:\u001b[0m\u001b[1;33m\u001b[0m\u001b[1;33m\u001b[0m\u001b[0m\n\u001b[1;32m--> 211\u001b[1;33m         \u001b[1;32mraise\u001b[0m \u001b[0mValueError\u001b[0m\u001b[1;33m(\u001b[0m\u001b[1;34m'Unknown '\u001b[0m \u001b[1;33m+\u001b[0m \u001b[0mprintable_module_name\u001b[0m \u001b[1;33m+\u001b[0m \u001b[1;34m':'\u001b[0m \u001b[1;33m+\u001b[0m \u001b[0mobject_name\u001b[0m\u001b[1;33m)\u001b[0m\u001b[1;33m\u001b[0m\u001b[1;33m\u001b[0m\u001b[0m\n\u001b[0m\u001b[0;32m    212\u001b[0m     \u001b[1;31m# Classes passed by name are instantiated with no args, functions are\u001b[0m\u001b[1;33m\u001b[0m\u001b[1;33m\u001b[0m\u001b[1;33m\u001b[0m\u001b[0m\n\u001b[0;32m    213\u001b[0m     \u001b[1;31m# returned as-is.\u001b[0m\u001b[1;33m\u001b[0m\u001b[1;33m\u001b[0m\u001b[1;33m\u001b[0m\u001b[0m\n",
      "\u001b[1;31mValueError\u001b[0m: Unknown activation function:swish"
     ]
    }
   ],
   "source": [
    "# 2. 모델의 구조를 만듭니다\n",
    "X = tf.keras.layers.Input(shape=[13])\n",
    "H = tf.keras.layers.Dense(8, activation='swish')(X)\n",
    "H = tf.keras.layers.Dense(8, activation='swish')(H)\n",
    "H = tf.keras.layers.Dense(8, activation='swish')(H)\n",
    "Y = tf.keras.layers.Dense(1)(H)\n",
    "model = tf.keras.models.Model(X, Y)\n",
    "model.compile(loss='mse')"
   ]
  },
  {
   "cell_type": "code",
   "execution_count": null,
   "metadata": {
    "colab": {},
    "colab_type": "code",
    "id": "2R_yaLaF4n_b"
   },
   "outputs": [],
   "source": [
    "# 2. 모델의 구조를 BatchNormalization layer를 사용하여 만든다.\n",
    "X = tf.keras.layers.Input(shape=[17])\n",
    "\n",
    "H = tf.keras.layers.Dense(16)(X)\n",
    "H = tf.keras.layers.BatchNormalization()(H)\n",
    "H = tf.keras.layers.Activation('swish')(H)\n",
    "\n",
    "H = tf.keras.layers.Dense(8)(H)\n",
    "H = tf.keras.layers.BatchNormalization()(H)\n",
    "H = tf.keras.layers.Activation('swish')(H)\n",
    "\n",
    "H = tf.keras.layers.Dense(8)(H)\n",
    "H = tf.keras.layers.BatchNormalization()(H)\n",
    "H = tf.keras.layers.Activation('swish')(H)\n",
    "\n",
    "Y = tf.keras.layers.Dense(1)(H)\n",
    "model = tf.keras.models.Model(X, Y)\n",
    "model.compile(loss='mse')"
   ]
  },
  {
   "cell_type": "code",
   "execution_count": null,
   "metadata": {
    "colab": {},
    "colab_type": "code",
    "id": "82abpmfb4p-i"
   },
   "outputs": [],
   "source": [
    "# 3.데이터로 모델을 학습(FIT)합니다.\n",
    "model.fit(train_data_C, train_targets_C, epochs=1000)"
   ]
  },
  {
   "cell_type": "code",
   "execution_count": null,
   "metadata": {
    "colab": {},
    "colab_type": "code",
    "id": "kUtgoBq556zy"
   },
   "outputs": [],
   "source": [
    "# 4. 모델을 이용합니다\n",
    "print(model.predict(test_data_C))"
   ]
  },
  {
   "cell_type": "code",
   "execution_count": null,
   "metadata": {
    "colab": {},
    "colab_type": "code",
    "id": "6yETBB9_eO-m"
   },
   "outputs": [],
   "source": [
    "# 종속변수 확인\n",
    "print(test_targets_C)"
   ]
  },
  {
   "cell_type": "code",
   "execution_count": null,
   "metadata": {
    "colab": {},
    "colab_type": "code",
    "id": "6_VtqNHtsz5I"
   },
   "outputs": [],
   "source": [
    "# 환자 특성 분포\n",
    "plt.plot(data_CX, 'o')"
   ]
  },
  {
   "cell_type": "code",
   "execution_count": null,
   "metadata": {
    "colab": {},
    "colab_type": "code",
    "id": "Y64UkgK4Znnv"
   },
   "outputs": [],
   "source": [
    "dataX[np.where((dataA == 1) & (dataY <= 100))[0]]"
   ]
  },
  {
   "cell_type": "code",
   "execution_count": null,
   "metadata": {
    "colab": {},
    "colab_type": "code",
    "id": "y_IC6ZP6NqaA"
   },
   "outputs": [],
   "source": [
    "# 치료받은 사람들 중 생존시간이 100이하인 사람들만 고른다.\n",
    "dataCX_100 = dataX[np.where((dataA == 1) & (dataY <= 100))[0]]\n",
    "dataCY_100 = dataY[np.where((dataA == 1) & (dataY <= 100))[0]]\n",
    "\n",
    "# 치료받지 않은 사람들 중 생존시간이 100이하인 사람들만 고른다.\n",
    "dataNCX_100 = dataX[np.where((dataA == 0) & (dataY <= 100))[0]]\n",
    "dataNCY_100 = dataY[np.where((dataA == 0) & (dataY <= 100))[0]]"
   ]
  },
  {
   "cell_type": "code",
   "execution_count": null,
   "metadata": {
    "colab": {},
    "colab_type": "code",
    "id": "nkgMKEk9YHdm"
   },
   "outputs": [],
   "source": [
    "import tensorflow as tf\n",
    "\n",
    "###########################\n",
    "# 2. 모델의 구조를 만듭니다\n",
    "X = tf.keras.layers.Input(shape=[17])\n",
    "H = tf.keras.layers.Dense(8, activation='swish')(X)\n",
    "H = tf.keras.layers.Dense(8, activation='swish')(H)\n",
    "H = tf.keras.layers.Dense(8, activation='swish')(H)\n",
    "Y = tf.keras.layers.Dense(1)(H)\n",
    "model = tf.keras.models.Model(X, Y)\n",
    "model.compile(loss='mse')\n",
    " \n",
    "# 2. 모델의 구조를 BatchNormalization layer를 사용하여 만든다.\n",
    "X = tf.keras.layers.Input(shape=[17])\n",
    " \n",
    "H = tf.keras.layers.Dense(8)(X)\n",
    "H = tf.keras.layers.BatchNormalization()(H)\n",
    "H = tf.keras.layers.Activation('swish')(H)\n",
    " \n",
    "H = tf.keras.layers.Dense(8)(H)\n",
    "H = tf.keras.layers.BatchNormalization()(H)\n",
    "H = tf.keras.layers.Activation('swish')(H)\n",
    " \n",
    "H = tf.keras.layers.Dense(8)(H)\n",
    "H = tf.keras.layers.BatchNormalization()(H)\n",
    "H = tf.keras.layers.Activation('swish')(H)\n",
    " \n",
    "Y = tf.keras.layers.Dense(1)(H)\n",
    "model = tf.keras.models.Model(X, Y)\n",
    "model.compile(loss='mse')"
   ]
  },
  {
   "cell_type": "code",
   "execution_count": null,
   "metadata": {
    "colab": {},
    "colab_type": "code",
    "id": "STly2Tk5WUjT"
   },
   "outputs": [],
   "source": [
    "train_data_C,test_data_C,train_targets_C,test_targets_C=train_test_split(dataCX_100,dataCY_100)\n",
    "train_dataNC,test_dataNC,train_targetsNC,test_targetsNC=train_test_split(dataNCX_100,dataNCY_100)"
   ]
  },
  {
   "cell_type": "code",
   "execution_count": null,
   "metadata": {},
   "outputs": [],
   "source": [
    "start_time = time.time()"
   ]
  },
  {
   "cell_type": "code",
   "execution_count": null,
   "metadata": {
    "colab": {},
    "colab_type": "code",
    "id": "0oeHzl4DXr4P"
   },
   "outputs": [],
   "source": [
    "# 3.데이터로 모델을 학습(FIT)합니다.\n",
    "model = build_model_C_100()\n",
    "model.fit(train_data_C, train_targets_C, epochs=1000)"
   ]
  },
  {
   "cell_type": "code",
   "execution_count": null,
   "metadata": {},
   "outputs": [],
   "source": [
    "elapsed_time = time.time() - start_time\n",
    "time.strftime(\"%H:%M:%S\", time.gmtime(elapsed_time))"
   ]
  },
  {
   "cell_type": "code",
   "execution_count": null,
   "metadata": {
    "colab": {},
    "colab_type": "code",
    "id": "XsrH0QYoX_jf"
   },
   "outputs": [],
   "source": [
    "# 4. 모델을 이용합니다\n",
    "pred_y = model.predict(test_data_C) \n",
    "print(pred_y)"
   ]
  },
  {
   "cell_type": "code",
   "execution_count": null,
   "metadata": {
    "colab": {},
    "colab_type": "code",
    "id": "Ji2C6AsQaf5t"
   },
   "outputs": [],
   "source": [
    "# 종속변수 확인\n",
    "print(test_targets_C)"
   ]
  },
  {
   "cell_type": "code",
   "execution_count": null,
   "metadata": {
    "colab": {},
    "colab_type": "code",
    "id": "LTssexuTazWQ"
   },
   "outputs": [],
   "source": [
    "# 종속변수 확인\n",
    "error = test_targets_C - pred_y\n",
    "print(error)"
   ]
  },
  {
   "cell_type": "code",
   "execution_count": null,
   "metadata": {
    "colab": {},
    "colab_type": "code",
    "id": "xKtlDB8ToFEm"
   },
   "outputs": [],
   "source": [
    "error.shape"
   ]
  },
  {
   "cell_type": "code",
   "execution_count": null,
   "metadata": {
    "colab": {},
    "colab_type": "code",
    "id": "DAlzl6iYmldm"
   },
   "outputs": [],
   "source": [
    "plt.plot(error, 'bo')"
   ]
  },
  {
   "cell_type": "code",
   "execution_count": null,
   "metadata": {
    "colab": {},
    "colab_type": "code",
    "id": "n3Crrlwva9fT"
   },
   "outputs": [],
   "source": [
    "mae_C = tf.keras.losses.MAE(test_targets_C, pred_y)"
   ]
  },
  {
   "cell_type": "code",
   "execution_count": null,
   "metadata": {
    "colab": {},
    "colab_type": "code",
    "id": "7GRNoNPlyJv-"
   },
   "outputs": [],
   "source": [
    "mae_C.shape"
   ]
  },
  {
   "cell_type": "code",
   "execution_count": null,
   "metadata": {
    "colab": {},
    "colab_type": "code",
    "id": "aspovIAPx-sg"
   },
   "outputs": [],
   "source": [
    "# 생존 시간 오차가 10 이하인 개수\n",
    "np.sum(np.where(mae_C <= 10, 1, 0))"
   ]
  },
  {
   "cell_type": "code",
   "execution_count": null,
   "metadata": {
    "colab": {},
    "colab_type": "code",
    "id": "PKmD95zmxr8Z"
   },
   "outputs": [],
   "source": [
    "# 생존 시간 오차가 10 초과인 개수\n",
    "np.sum(np.where(mae_C > 10, 1, 0))"
   ]
  },
  {
   "cell_type": "code",
   "execution_count": null,
   "metadata": {
    "colab": {},
    "colab_type": "code",
    "id": "4Q2eoLrUkD5-"
   },
   "outputs": [],
   "source": [
    "test_dataNC.shape"
   ]
  },
  {
   "cell_type": "code",
   "execution_count": null,
   "metadata": {},
   "outputs": [],
   "source": [
    "start_time = time.time()"
   ]
  },
  {
   "cell_type": "code",
   "execution_count": null,
   "metadata": {
    "colab": {},
    "colab_type": "code",
    "id": "kzsyJB09b3t6"
   },
   "outputs": [],
   "source": [
    "# 3.데이터로 모델을 학습(FIT)합니다.\n",
    "model_NC = build_model_NC_100()\n",
    "model_NC.fit(train_dataNC, train_targetsNC, epochs=1000)"
   ]
  },
  {
   "cell_type": "code",
   "execution_count": null,
   "metadata": {},
   "outputs": [],
   "source": [
    "elapsed_time = time.time() - start_time\n",
    "time.strftime(\"%H:%M:%S\", time.gmtime(elapsed_time))"
   ]
  },
  {
   "cell_type": "code",
   "execution_count": null,
   "metadata": {
    "colab": {},
    "colab_type": "code",
    "id": "OOZwF15ncdJ_"
   },
   "outputs": [],
   "source": [
    "pred_y_NC = model_NC.predict(test_dataNC)"
   ]
  },
  {
   "cell_type": "code",
   "execution_count": null,
   "metadata": {
    "colab": {},
    "colab_type": "code",
    "id": "HysRVJTkc626"
   },
   "outputs": [],
   "source": [
    "mae_NC = tf.keras.losses.MAE(pred_y_NC, test_targetsNC)"
   ]
  },
  {
   "cell_type": "code",
   "execution_count": null,
   "metadata": {
    "colab": {},
    "colab_type": "code",
    "id": "cKeZDOfun3sH"
   },
   "outputs": [],
   "source": [
    "mae_NC.shape"
   ]
  },
  {
   "cell_type": "code",
   "execution_count": null,
   "metadata": {
    "colab": {},
    "colab_type": "code",
    "id": "zAsxqLC6dGCb"
   },
   "outputs": [],
   "source": [
    "plt.plot(mae_NC, 'ro')"
   ]
  },
  {
   "cell_type": "code",
   "execution_count": null,
   "metadata": {
    "colab": {},
    "colab_type": "code",
    "id": "k5vCs13pjopC"
   },
   "outputs": [],
   "source": [
    "pred_y[0] > pred_y_NC[0]"
   ]
  },
  {
   "cell_type": "code",
   "execution_count": null,
   "metadata": {
    "colab": {},
    "colab_type": "code",
    "id": "zjgh6cl2jByw"
   },
   "outputs": [],
   "source": [
    "train_data_C.shape"
   ]
  },
  {
   "cell_type": "code",
   "execution_count": null,
   "metadata": {
    "colab": {},
    "colab_type": "code",
    "id": "SxF1xzTQvo3Q"
   },
   "outputs": [],
   "source": [
    "type(mae_NC)"
   ]
  },
  {
   "cell_type": "code",
   "execution_count": null,
   "metadata": {
    "colab": {},
    "colab_type": "code",
    "id": "2SvUoduswJ_X"
   },
   "outputs": [],
   "source": [
    "mae_NC[0]"
   ]
  },
  {
   "cell_type": "code",
   "execution_count": null,
   "metadata": {
    "colab": {},
    "colab_type": "code",
    "id": "vPwb0xLRwR64"
   },
   "outputs": [],
   "source": [
    "# 오차가 10 이하인 개수\n",
    "np.sum(np.where(mae_NC <= 10, 1, 0))"
   ]
  },
  {
   "cell_type": "code",
   "execution_count": null,
   "metadata": {
    "colab": {},
    "colab_type": "code",
    "id": "l-4_AhIqxUzX"
   },
   "outputs": [],
   "source": [
    "# 오차가 10 초과인 개수\n",
    "np.sum(np.where(mae_NC > 10, 1, 0))"
   ]
  },
  {
   "cell_type": "code",
   "execution_count": null,
   "metadata": {
    "colab": {},
    "colab_type": "code",
    "id": "wB6Tbk-2-DcQ"
   },
   "outputs": [],
   "source": []
  }
 ],
 "metadata": {
  "accelerator": "GPU",
  "colab": {
   "collapsed_sections": [
    "6psrzIaDlwAq"
   ],
   "name": "DHH 127page .ipynb",
   "provenance": [],
   "toc_visible": true
  },
  "kernelspec": {
   "display_name": "Python 3",
   "language": "python",
   "name": "python3"
  },
  "language_info": {
   "codemirror_mode": {
    "name": "ipython",
    "version": 3
   },
   "file_extension": ".py",
   "mimetype": "text/x-python",
   "name": "python",
   "nbconvert_exporter": "python",
   "pygments_lexer": "ipython3",
   "version": "3.6.10"
  }
 },
 "nbformat": 4,
 "nbformat_minor": 1
}
