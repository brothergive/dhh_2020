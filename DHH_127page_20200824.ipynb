{
  "nbformat": 4,
  "nbformat_minor": 0,
  "metadata": {
    "colab": {
      "name": "DHH 127page .ipynb",
      "provenance": [],
      "collapsed_sections": [
        "6psrzIaDlwAq"
      ]
    },
    "kernelspec": {
      "name": "python3",
      "display_name": "Python 3"
    },
    "accelerator": "TPU"
  },
  "cells": [
    {
      "cell_type": "markdown",
      "metadata": {
        "id": "vZe8oEJj2EZR",
        "colab_type": "text"
      },
      "source": [
        ""
      ]
    },
    {
      "cell_type": "code",
      "metadata": {
        "id": "SfoWbIwk2H51",
        "colab_type": "code",
        "colab": {
          "base_uri": "https://localhost:8080/",
          "height": 34
        },
        "outputId": "9d40a6d9-53b5-4d4c-f422-51f19aaf82c6"
      },
      "source": [
        "from google.colab import drive\n",
        "drive.mount('/content/drive')"
      ],
      "execution_count": 91,
      "outputs": [
        {
          "output_type": "stream",
          "text": [
            "Drive already mounted at /content/drive; to attempt to forcibly remount, call drive.mount(\"/content/drive\", force_remount=True).\n"
          ],
          "name": "stdout"
        }
      ]
    },
    {
      "cell_type": "code",
      "metadata": {
        "id": "6Ks9_kkrCIQi",
        "colab_type": "code",
        "colab": {}
      },
      "source": [
        "import numpy as np\n",
        "import pandas as pd"
      ],
      "execution_count": 161,
      "outputs": []
    },
    {
      "cell_type": "code",
      "metadata": {
        "id": "0f8wsbilD3VG",
        "colab_type": "code",
        "colab": {}
      },
      "source": [
        "# load data\n",
        "\n",
        "dataX=pd.read_csv(\"/content/drive/My Drive/traindata/trainX.csv\")\n",
        "dataA=pd.read_csv(\"/content/drive/My Drive/traindata/trainA.csv\")\n",
        "dataY=pd.read_csv(\"/content/drive/My Drive/traindata/trainY.csv\")\n",
        "\n",
        "# remove index\n",
        "\n",
        "dataX=dataX.values[:,1:]\n",
        "dataY=dataY.values[:,1:-1]\n",
        "dataA=dataA.values[:,1:]"
      ],
      "execution_count": 162,
      "outputs": []
    },
    {
      "cell_type": "code",
      "metadata": {
        "id": "tvpQ5CZBVCRM",
        "colab_type": "code",
        "colab": {
          "base_uri": "https://localhost:8080/",
          "height": 386
        },
        "outputId": "879d9c94-45c7-4309-fa29-0e385209d5dd"
      },
      "source": [
        "np.where(dataA==1)[0]"
      ],
      "execution_count": 163,
      "outputs": [
        {
          "output_type": "execute_result",
          "data": {
            "text/plain": [
              "array([  4,   5,   9,  11,  13,  14,  19,  26,  35,  38,  40,  42,  43,\n",
              "        44,  45,  49,  51,  53,  54,  61,  63,  64,  67,  69,  72,  73,\n",
              "        76,  78,  79,  81,  82,  83,  85,  88,  90,  94,  95,  98, 102,\n",
              "       103, 104, 106, 108, 109, 110, 111, 112, 113, 114, 123, 125, 126,\n",
              "       128, 130, 133, 135, 139, 141, 143, 146, 147, 150, 159, 162, 167,\n",
              "       168, 171, 173, 177, 181, 183, 184, 186, 187, 188, 189, 190, 192,\n",
              "       193, 195, 196, 200, 201, 203, 206, 210, 212, 214, 216, 218, 221,\n",
              "       223, 226, 227, 230, 233, 238, 240, 243, 244, 254, 255, 260, 263,\n",
              "       264, 266, 270, 276, 277, 280, 283, 289, 292, 294, 297, 298, 299,\n",
              "       300, 301, 306, 311, 312, 315, 318, 321, 322, 323, 325, 329, 331,\n",
              "       332, 333, 336, 338, 343, 346, 348, 350, 352, 354, 357, 358, 359,\n",
              "       361, 364, 365, 367, 376, 377, 382, 383, 384, 387, 390, 392, 393,\n",
              "       397, 398, 399, 404, 405, 407, 409, 411, 412, 417, 418, 419, 421,\n",
              "       429, 433, 434, 439, 441, 448, 449, 450, 451, 457, 459, 460, 462,\n",
              "       463, 465, 468, 471, 472, 473, 474, 477, 481, 486, 494, 495, 497,\n",
              "       498, 499, 501, 502, 510, 511, 512, 514, 516, 518, 523, 527, 528,\n",
              "       530, 531, 537, 539, 540, 541, 547, 548, 549, 554, 555, 556, 557,\n",
              "       559, 560, 561, 564, 571, 574, 575, 576, 577, 578, 582, 583, 587,\n",
              "       588, 591, 592, 595, 599, 602, 603, 604, 607, 610, 611, 613, 618,\n",
              "       622, 623, 624, 628, 631, 632, 634, 635, 641, 644, 647, 648, 649,\n",
              "       651, 652, 655, 659, 660, 661, 662])"
            ]
          },
          "metadata": {
            "tags": []
          },
          "execution_count": 163
        }
      ]
    },
    {
      "cell_type": "code",
      "metadata": {
        "id": "h7PJQSvHM3M4",
        "colab_type": "code",
        "colab": {
          "base_uri": "https://localhost:8080/",
          "height": 34
        },
        "outputId": "abad51a8-1dd3-419f-d688-2d9d400d9914"
      },
      "source": [
        "dataX.shape"
      ],
      "execution_count": 164,
      "outputs": [
        {
          "output_type": "execute_result",
          "data": {
            "text/plain": [
              "(666, 17)"
            ]
          },
          "metadata": {
            "tags": []
          },
          "execution_count": 164
        }
      ]
    },
    {
      "cell_type": "code",
      "metadata": {
        "id": "d1teNlZvMIQA",
        "colab_type": "code",
        "colab": {}
      },
      "source": [
        "# split cure or not cure\n",
        "\n",
        "data_CX=dataX[np.where(dataA==1)[0]]\n",
        "dataNCX=dataX[np.where(dataA!=1)[0]]\n",
        "data_CY=dataY[np.where(dataA==1)]\n",
        "dataNCY=dataY[np.where(dataA!=1)]"
      ],
      "execution_count": 165,
      "outputs": []
    },
    {
      "cell_type": "code",
      "metadata": {
        "id": "IC7oqnBa5pAW",
        "colab_type": "code",
        "colab": {
          "base_uri": "https://localhost:8080/",
          "height": 140
        },
        "outputId": "050a98fb-85c6-44b8-ef4f-debf0e7eb378"
      },
      "source": [
        "data_CX"
      ],
      "execution_count": 166,
      "outputs": [
        {
          "output_type": "execute_result",
          "data": {
            "text/plain": [
              "array([[0.82, 0.  , 0.26, ..., 0.82, 0.37, 0.09],\n",
              "       [0.78, 0.32, 0.62, ..., 0.89, 0.86, 0.32],\n",
              "       [0.52, 0.03, 0.7 , ..., 0.39, 0.37, 0.95],\n",
              "       ...,\n",
              "       [0.41, 0.07, 0.99, ..., 0.09, 0.16, 0.33],\n",
              "       [0.5 , 0.99, 0.61, ..., 0.73, 0.76, 0.01],\n",
              "       [0.62, 0.19, 0.51, ..., 0.19, 0.39, 0.17]])"
            ]
          },
          "metadata": {
            "tags": []
          },
          "execution_count": 166
        }
      ]
    },
    {
      "cell_type": "code",
      "metadata": {
        "id": "zUWyAYg-5r2G",
        "colab_type": "code",
        "colab": {
          "base_uri": "https://localhost:8080/",
          "height": 967
        },
        "outputId": "c8e629b0-15ad-47d8-b5fe-ec5432c99685"
      },
      "source": [
        "data_CY"
      ],
      "execution_count": 167,
      "outputs": [
        {
          "output_type": "execute_result",
          "data": {
            "text/plain": [
              "array([2.0700e+00, 1.6530e+01, 4.8100e+00, 2.7000e-01, 5.2800e+00,\n",
              "       1.5000e-01, 3.4210e+01, 4.6730e+01, 3.4000e-01, 2.9000e-01,\n",
              "       1.7000e-01, 4.7000e-01, 0.0000e+00, 9.0000e-02, 4.9100e+00,\n",
              "       1.0000e-01, 1.0700e+01, 3.4900e+01, 4.0000e-02, 9.0000e-02,\n",
              "       1.4000e-01, 7.2400e+00, 1.0000e-01, 9.8000e-01, 0.0000e+00,\n",
              "       5.6000e+00, 4.6820e+01, 4.6000e-01, 8.7700e+00, 1.3000e-01,\n",
              "       1.4000e-01, 1.2000e-01, 1.0000e-01, 1.0000e-01, 3.3600e+00,\n",
              "       4.3000e-01, 6.0000e-02, 1.7000e-01, 1.2000e-01, 1.1700e+00,\n",
              "       6.2000e-01, 1.9000e-01, 2.3000e-01, 2.3000e-01, 9.8000e-01,\n",
              "       3.2000e-01, 2.2000e-01, 2.4850e+01, 7.5000e-01, 0.0000e+00,\n",
              "       2.3700e+00, 3.2000e-01, 1.1000e-01, 2.1000e+00, 8.0000e-02,\n",
              "       1.0000e-01, 1.4000e-01, 3.3200e+00, 1.0750e+01, 6.1130e+01,\n",
              "       1.4440e+01, 2.3800e+00, 9.8900e+00, 8.7400e+00, 1.4878e+02,\n",
              "       5.1000e-01, 1.2400e+00, 2.6000e-01, 9.6900e+00, 1.6800e+00,\n",
              "       4.3000e+00, 5.5900e+00, 1.0000e+00, 2.0600e+00, 5.8000e-01,\n",
              "       4.2100e+00, 2.4000e-01, 4.5000e-01, 1.1000e+00, 6.1100e+00,\n",
              "       1.2100e+00, 2.7000e-01, 1.0983e+02, 3.2100e+00, 3.8000e-01,\n",
              "       3.6800e+00, 8.0000e-02, 0.0000e+00, 7.1000e-01, 6.0000e-02,\n",
              "       4.2000e-01, 5.6000e-01, 4.0000e-02, 9.0000e-02, 1.0000e-02,\n",
              "       4.1560e+01, 1.1000e-01, 2.2300e+00, 1.0000e-02, 1.1740e+01,\n",
              "       3.7500e+00, 3.8900e+00, 5.5200e+00, 1.6400e+00, 5.6500e+00,\n",
              "       2.3700e+00, 1.0000e-02, 4.4000e-01, 1.1100e+00, 9.0000e-01,\n",
              "       0.0000e+00, 9.0000e-02, 7.0000e-02, 3.4000e-01, 4.4900e+00,\n",
              "       3.3000e-01, 7.9000e-01, 5.0000e-01, 3.9900e+00, 1.3000e-01,\n",
              "       7.0000e-02, 1.4000e-01, 4.6000e-01, 4.3900e+00, 7.6000e-01,\n",
              "       5.5000e-01, 1.0000e-02, 1.1000e-01, 3.2324e+02, 1.8300e+00,\n",
              "       1.6000e-01, 7.2440e+01, 3.4800e+00, 1.3350e+01, 3.8900e+00,\n",
              "       9.0000e-02, 1.2260e+01, 6.1000e-01, 7.9100e+00, 2.8000e-01,\n",
              "       7.2200e+00, 7.1000e-01, 8.0000e-01, 2.7700e+00, 1.7000e-01,\n",
              "       9.0000e-01, 2.3200e+00, 4.8000e-01, 4.9000e-01, 4.0000e-01,\n",
              "       2.3500e+00, 4.1000e-01, 9.1000e-01, 8.8600e+00, 2.6000e-01,\n",
              "       1.3000e+00, 3.7400e+00, 5.2600e+00, 1.1300e+00, 5.3400e+00,\n",
              "       3.9100e+00, 7.1600e+00, 1.2000e-01, 2.9200e+00, 2.4300e+00,\n",
              "       1.4040e+01, 4.7000e-01, 3.4200e+00, 2.0240e+01, 5.0000e-01,\n",
              "       2.0000e-01, 1.1560e+01, 1.2000e-01, 6.5000e-01, 8.3800e+00,\n",
              "       8.4000e-01, 2.7400e+00, 2.7400e+00, 6.0000e-02, 1.1000e-01,\n",
              "       2.3000e+00, 3.2000e-01, 2.6000e+00, 1.1000e-01, 1.0000e-02,\n",
              "       2.6000e-01, 3.4000e-01, 2.1000e-01, 1.0000e-01, 1.6600e+00,\n",
              "       3.2000e-01, 2.4400e+00, 3.0200e+00, 6.6900e+00, 1.0100e+00,\n",
              "       1.5200e+00, 8.5000e-01, 8.5200e+00, 9.8000e-01, 2.2820e+01,\n",
              "       7.2000e-01, 3.7330e+01, 8.0000e-02, 6.7000e-01, 2.8100e+00,\n",
              "       8.2000e-01, 2.0700e+00, 3.8300e+00, 1.7900e+00, 8.1500e+00,\n",
              "       3.3000e-01, 2.0000e-01, 1.6900e+00, 3.0000e-02, 9.8400e+00,\n",
              "       1.4200e+00, 8.0000e-02, 1.8000e-01, 2.2600e+00, 3.0000e-02,\n",
              "       2.2500e+00, 6.0800e+00, 2.3400e+00, 1.3260e+01, 5.0000e-02,\n",
              "       5.7200e+00, 1.3300e+00, 4.7000e-01, 1.9000e+00, 1.5100e+00,\n",
              "       4.7000e-01, 1.4000e-01, 6.1000e-01, 1.5080e+01, 8.0000e-01,\n",
              "       1.7100e+00, 9.0000e-02, 8.4400e+00, 2.2250e+01, 5.0000e-02,\n",
              "       3.0000e-02, 2.0000e-01, 1.6970e+01, 1.4300e+00, 3.6000e-01,\n",
              "       2.0000e-02, 1.8100e+00, 7.8800e+00, 1.0000e-01, 2.7000e-01,\n",
              "       3.0000e-01, 2.2600e+00, 5.3000e-01, 1.1000e-01, 1.3400e+00,\n",
              "       2.8800e+00, 6.0000e-02, 1.2400e+00, 4.3400e+00, 1.1000e+00,\n",
              "       1.0000e-02, 0.0000e+00, 8.0000e-02, 5.2000e-01, 1.8490e+01,\n",
              "       4.7700e+00, 3.0000e-02])"
            ]
          },
          "metadata": {
            "tags": []
          },
          "execution_count": 167
        }
      ]
    },
    {
      "cell_type": "code",
      "metadata": {
        "id": "bCipqhgVIJba",
        "colab_type": "code",
        "colab": {}
      },
      "source": [
        "from sklearn.model_selection import train_test_split\n",
        "\n",
        "train_data_C,test_data_C,train_targets_C,test_targets_C=train_test_split(data_CX,data_CY)\n",
        "train_dataNC,test_dataNC,train_targetsNC,test_targetsNC=train_test_split(data_CX,data_CY)\n"
      ],
      "execution_count": 168,
      "outputs": []
    },
    {
      "cell_type": "code",
      "metadata": {
        "id": "OwRht6oYo7LJ",
        "colab_type": "code",
        "colab": {}
      },
      "source": [
        "mean_C = train_data_C.mean(axis=0)\n",
        "train_data_C -= mean_C\n",
        "std_C = train_data_C.std(axis=0)\n",
        "train_data_C /= std_C\n",
        "\n",
        "test_data_C -= mean_C\n",
        "test_data_C /= std_C\n",
        "\n",
        "\n",
        "meanNC = train_dataNC.mean(axis=0)\n",
        "train_dataNC -= meanNC\n",
        "stdNC = train_dataNC.std(axis=0)\n",
        "train_dataNC /= stdNC\n",
        "\n",
        "test_dataNC -= meanNC\n",
        "test_dataNC /= stdNC"
      ],
      "execution_count": 169,
      "outputs": []
    },
    {
      "cell_type": "code",
      "metadata": {
        "id": "8bTfqtUGPvsq",
        "colab_type": "code",
        "colab": {}
      },
      "source": [
        "from keras import models\n",
        "from keras import layers\n",
        "\n",
        "def build_model_C():\n",
        "    # 동일한 모델을 여러 번 생성할 것이므로 함수를 만들어 사용합니다\n",
        "    model = models.Sequential()\n",
        "    model.add(layers.Dense(64, activation='relu',\n",
        "                           input_shape=(train_data_C.shape[1],)))\n",
        "    model.add(layers.Dense(64, activation='relu'))\n",
        "    model.add(layers.Dense(1))\n",
        "    model.compile(optimizer='rmsprop', loss='mse', metrics=['mean_absolute_error'])\n",
        "    return model\n",
        "\n",
        "\n",
        "def build_modelNC():\n",
        "    # 동일한 모델을 여러 번 생성할 것이므로 함수를 만들어 사용합니다\n",
        "    model = models.Sequential()\n",
        "    model.add(layers.Dense(64, activation='relu',\n",
        "                           input_shape=(train_dataNC.shape[1],)))\n",
        "    model.add(layers.Dense(64, activation='relu'))\n",
        "    model.add(layers.Dense(1))\n",
        "    model.compile(optimizer='rmsprop', loss='mse', metrics=['mean_absolute_error'])\n",
        "    return model\n",
        "\n",
        "def build_model_C_100():\n",
        "  # 2. 모델의 구조를 BatchNormalization layer를 사용하여 만든다.\n",
        "  X = tf.keras.layers.Input(shape=[17])\n",
        "  \n",
        "  H = tf.keras.layers.Dense(8)(X)\n",
        "  H = tf.keras.layers.BatchNormalization()(H)\n",
        "  H = tf.keras.layers.Activation('swish')(H)\n",
        "  \n",
        "  H = tf.keras.layers.Dense(8)(H)\n",
        "  H = tf.keras.layers.BatchNormalization()(H)\n",
        "  H = tf.keras.layers.Activation('swish')(H)\n",
        "  \n",
        "  H = tf.keras.layers.Dense(8)(H)\n",
        "  H = tf.keras.layers.BatchNormalization()(H)\n",
        "  H = tf.keras.layers.Activation('swish')(H)\n",
        "  \n",
        "  Y = tf.keras.layers.Dense(1)(H)\n",
        "  model = tf.keras.models.Model(X, Y)\n",
        "  model.compile(loss='mse', metrics=[tf.keras.metrics.Accuracy()])\n",
        "  return model\n",
        "\n",
        "def build_model_C_100_16():\n",
        "  # 2. 모델의 구조를 BatchNormalization layer를 사용하여 만든다.\n",
        "  X = tf.keras.layers.Input(shape=[17])\n",
        "  \n",
        "  H = tf.keras.layers.Dense(16)(X)\n",
        "  H = tf.keras.layers.BatchNormalization()(H)\n",
        "  H = tf.keras.layers.Activation('swish')(H)\n",
        "  \n",
        "  H = tf.keras.layers.Dense(16)(H)\n",
        "  H = tf.keras.layers.BatchNormalization()(H)\n",
        "  H = tf.keras.layers.Activation('swish')(H)\n",
        "  \n",
        "  H = tf.keras.layers.Dense(16)(H)\n",
        "  H = tf.keras.layers.BatchNormalization()(H)\n",
        "  H = tf.keras.layers.Activation('swish')(H)\n",
        "  \n",
        "  Y = tf.keras.layers.Dense(1)(H)\n",
        "  model = tf.keras.models.Model(X, Y)\n",
        "  model.compile(loss='mse', metrics=[tf.keras.metrics.Accuracy()])\n",
        "  return model\n",
        "\n",
        "def build_model_NC_100():\n",
        "  # 2. 모델의 구조를 BatchNormalization layer를 사용하여 만든다.\n",
        "  X = tf.keras.layers.Input(shape=[17])\n",
        "  \n",
        "  H = tf.keras.layers.Dense(8)(X)\n",
        "  H = tf.keras.layers.BatchNormalization()(H)\n",
        "  H = tf.keras.layers.Activation('swish')(H)\n",
        "  \n",
        "  H = tf.keras.layers.Dense(8)(H)\n",
        "  H = tf.keras.layers.BatchNormalization()(H)\n",
        "  H = tf.keras.layers.Activation('swish')(H)\n",
        "  \n",
        "  H = tf.keras.layers.Dense(8)(H)\n",
        "  H = tf.keras.layers.BatchNormalization()(H)\n",
        "  H = tf.keras.layers.Activation('swish')(H)\n",
        "  \n",
        "  Y = tf.keras.layers.Dense(1)(H)\n",
        "  model = tf.keras.models.Model(X, Y)\n",
        "  model.compile(loss='mse', metrics=[tf.keras.metrics.Accuracy()])\n",
        "  return model\n",
        "\n",
        "def build_model_NC_100_16():\n",
        "  # 2. 모델의 구조를 BatchNormalization layer를 사용하여 만든다.\n",
        "  X = tf.keras.layers.Input(shape=[17])\n",
        "  \n",
        "  H = tf.keras.layers.Dense(16)(X)\n",
        "  H = tf.keras.layers.BatchNormalization()(H)\n",
        "  H = tf.keras.layers.Activation('swish')(H)\n",
        "  \n",
        "  H = tf.keras.layers.Dense(16)(H)\n",
        "  H = tf.keras.layers.BatchNormalization()(H)\n",
        "  H = tf.keras.layers.Activation('swish')(H)\n",
        "  \n",
        "  H = tf.keras.layers.Dense(16)(H)\n",
        "  H = tf.keras.layers.BatchNormalization()(H)\n",
        "  H = tf.keras.layers.Activation('swish')(H)\n",
        "  \n",
        "  Y = tf.keras.layers.Dense(1)(H)\n",
        "  model = tf.keras.models.Model(X, Y)\n",
        "  model.compile(loss='mse', metrics=[tf.keras.metrics.Accuracy()])\n",
        "  return model\n"
      ],
      "execution_count": 170,
      "outputs": []
    },
    {
      "cell_type": "code",
      "metadata": {
        "id": "tVswRsv4XEfC",
        "colab_type": "code",
        "colab": {
          "base_uri": "https://localhost:8080/",
          "height": 125
        },
        "outputId": "e657c076-b8b4-4ac6-fb1c-b5a3c91f37af"
      },
      "source": [
        "# cure\n",
        "\n",
        "k = 4\n",
        "num_val_samples = len(train_data_C) // k\n",
        "num_epochs = 100\n",
        "all_scores_C = []\n",
        "for i in range(k):\n",
        "    print('처리중인 폴드 #', i)\n",
        "    # 검증 데이터 준비: k번째 분할\n",
        "    val_data = train_data_C[i * num_val_samples: (i + 1) * num_val_samples]\n",
        "    val_targets = train_targets_C[i * num_val_samples: (i + 1) * num_val_samples]\n",
        "\n",
        "    # 훈련 데이터 준비: 다른 분할 전체\n",
        "    partial_train_data = np.concatenate(\n",
        "        [train_data_C[:i * num_val_samples],\n",
        "         train_data_C[(i + 1) * num_val_samples:]],\n",
        "        axis=0)\n",
        "    partial_train_targets = np.concatenate(\n",
        "        [train_targets_C[:i * num_val_samples],\n",
        "         train_targets_C[(i + 1) * num_val_samples:]],\n",
        "        axis=0)\n",
        "\n",
        "    # 케라스 모델 구성(컴파일 포함)\n",
        "    model_C = build_model_C()\n",
        "    # 모델 훈련(verbose=0 이므로 훈련 과정이 출력되지 않습니다)\n",
        "    model_C.fit(partial_train_data, partial_train_targets,\n",
        "              epochs=num_epochs, batch_size=1, verbose=0)\n",
        "    # 검증 세트로 모델 평가\n",
        "    val_mse, val_mae = model_C.evaluate(val_data, val_targets, verbose=0)\n",
        "    all_scores_C.append(val_mae)"
      ],
      "execution_count": 171,
      "outputs": [
        {
          "output_type": "stream",
          "text": [
            "처리중인 폴드 # 0\n",
            "처리중인 폴드 # 1\n",
            "처리중인 폴드 # 2\n",
            "처리중인 폴드 # 3\n",
            "WARNING:tensorflow:5 out of the last 50007 calls to <function Model.make_test_function.<locals>.test_function at 0x7f9fe8fce950> triggered tf.function retracing. Tracing is expensive and the excessive number of tracings could be due to (1) creating @tf.function repeatedly in a loop, (2) passing tensors with different shapes, (3) passing Python objects instead of tensors. For (1), please define your @tf.function outside of the loop. For (2), @tf.function has experimental_relax_shapes=True option that relaxes argument shapes that can avoid unnecessary retracing. For (3), please refer to https://www.tensorflow.org/tutorials/customization/performance#python_or_tensor_args and https://www.tensorflow.org/api_docs/python/tf/function for  more details.\n"
          ],
          "name": "stdout"
        }
      ]
    },
    {
      "cell_type": "code",
      "metadata": {
        "id": "AVhckz8IlP2L",
        "colab_type": "code",
        "colab": {
          "base_uri": "https://localhost:8080/",
          "height": 178
        },
        "outputId": "5358bc87-5eee-4a61-f834-db4e7bb34a18"
      },
      "source": [
        "# not cure\n",
        "\n",
        "k = 4\n",
        "num_val_samples = len(train_dataNC) // k\n",
        "num_epochs = 100\n",
        "all_scoresNC = []\n",
        "for i in range(k):\n",
        "    print('처리중인 폴드 #', i)\n",
        "    # 검증 데이터 준비: k번째 분할\n",
        "    val_data = train_dataNC[i * num_val_samples: (i + 1) * num_val_samples]\n",
        "    val_targets = train_targetsNC[i * num_val_samples: (i + 1) * num_val_samples]\n",
        "\n",
        "    # 훈련 데이터 준비: 다른 분할 전체\n",
        "    partial_train_data = np.concatenate(\n",
        "        [train_dataNC[:i * num_val_samples],\n",
        "         train_dataNC[(i + 1) * num_val_samples:]],\n",
        "        axis=0)\n",
        "    partial_train_targets = np.concatenate(\n",
        "        [train_targetsNC[:i * num_val_samples],\n",
        "         train_targetsNC[(i + 1) * num_val_samples:]],\n",
        "        axis=0)\n",
        "\n",
        "    # 케라스 모델 구성(컴파일 포함)\n",
        "    modelNC = build_modelNC()\n",
        "    # 모델 훈련(verbose=0 이므로 훈련 과정이 출력되지 않습니다)\n",
        "    modelNC.fit(partial_train_data, partial_train_targets,\n",
        "              epochs=num_epochs, batch_size=1, verbose=0)\n",
        "    # 검증 세트로 모델 평가\n",
        "    val_mse, val_mae = modelNC.evaluate(val_data, val_targets, verbose=0)\n",
        "    all_scoresNC.append(val_mae)"
      ],
      "execution_count": 172,
      "outputs": [
        {
          "output_type": "stream",
          "text": [
            "처리중인 폴드 # 0\n",
            "WARNING:tensorflow:6 out of the last 50009 calls to <function Model.make_test_function.<locals>.test_function at 0x7f9fe350fb70> triggered tf.function retracing. Tracing is expensive and the excessive number of tracings could be due to (1) creating @tf.function repeatedly in a loop, (2) passing tensors with different shapes, (3) passing Python objects instead of tensors. For (1), please define your @tf.function outside of the loop. For (2), @tf.function has experimental_relax_shapes=True option that relaxes argument shapes that can avoid unnecessary retracing. For (3), please refer to https://www.tensorflow.org/tutorials/customization/performance#python_or_tensor_args and https://www.tensorflow.org/api_docs/python/tf/function for  more details.\n",
            "처리중인 폴드 # 1\n",
            "WARNING:tensorflow:6 out of the last 11 calls to <function Model.make_test_function.<locals>.test_function at 0x7f9fe350fd90> triggered tf.function retracing. Tracing is expensive and the excessive number of tracings could be due to (1) creating @tf.function repeatedly in a loop, (2) passing tensors with different shapes, (3) passing Python objects instead of tensors. For (1), please define your @tf.function outside of the loop. For (2), @tf.function has experimental_relax_shapes=True option that relaxes argument shapes that can avoid unnecessary retracing. For (3), please refer to https://www.tensorflow.org/tutorials/customization/performance#python_or_tensor_args and https://www.tensorflow.org/api_docs/python/tf/function for  more details.\n",
            "처리중인 폴드 # 2\n",
            "WARNING:tensorflow:6 out of the last 11 calls to <function Model.make_test_function.<locals>.test_function at 0x7f9fe329f950> triggered tf.function retracing. Tracing is expensive and the excessive number of tracings could be due to (1) creating @tf.function repeatedly in a loop, (2) passing tensors with different shapes, (3) passing Python objects instead of tensors. For (1), please define your @tf.function outside of the loop. For (2), @tf.function has experimental_relax_shapes=True option that relaxes argument shapes that can avoid unnecessary retracing. For (3), please refer to https://www.tensorflow.org/tutorials/customization/performance#python_or_tensor_args and https://www.tensorflow.org/api_docs/python/tf/function for  more details.\n",
            "처리중인 폴드 # 3\n",
            "WARNING:tensorflow:6 out of the last 11 calls to <function Model.make_test_function.<locals>.test_function at 0x7f9fe31762f0> triggered tf.function retracing. Tracing is expensive and the excessive number of tracings could be due to (1) creating @tf.function repeatedly in a loop, (2) passing tensors with different shapes, (3) passing Python objects instead of tensors. For (1), please define your @tf.function outside of the loop. For (2), @tf.function has experimental_relax_shapes=True option that relaxes argument shapes that can avoid unnecessary retracing. For (3), please refer to https://www.tensorflow.org/tutorials/customization/performance#python_or_tensor_args and https://www.tensorflow.org/api_docs/python/tf/function for  more details.\n"
          ],
          "name": "stdout"
        }
      ]
    },
    {
      "cell_type": "code",
      "metadata": {
        "id": "9gaKf3b30taJ",
        "colab_type": "code",
        "colab": {
          "base_uri": "https://localhost:8080/",
          "height": 52
        },
        "outputId": "aba64b51-25a4-465f-99b2-131ff34be55e"
      },
      "source": [
        "all_scores_C,np.mean(all_scores_C)\n"
      ],
      "execution_count": 173,
      "outputs": [
        {
          "output_type": "execute_result",
          "data": {
            "text/plain": [
              "([9.392365455627441, 5.061303615570068, 3.232748508453369, 7.834311485290527],\n",
              " 6.380182266235352)"
            ]
          },
          "metadata": {
            "tags": []
          },
          "execution_count": 173
        }
      ]
    },
    {
      "cell_type": "code",
      "metadata": {
        "id": "aakg-twp0wzT",
        "colab_type": "code",
        "colab": {
          "base_uri": "https://localhost:8080/",
          "height": 105
        },
        "outputId": "60e4a61f-59f9-4a9b-ddfb-9a3daf508870"
      },
      "source": [
        "all_scoresNC,np.mean(all_scoresNC)\n"
      ],
      "execution_count": 174,
      "outputs": [
        {
          "output_type": "execute_result",
          "data": {
            "text/plain": [
              "([10.201766014099121,\n",
              "  4.468865871429443,\n",
              "  12.001134872436523,\n",
              "  4.0381035804748535],\n",
              " 7.677467584609985)"
            ]
          },
          "metadata": {
            "tags": []
          },
          "execution_count": 174
        }
      ]
    },
    {
      "cell_type": "code",
      "metadata": {
        "id": "hEz40QMr01Ii",
        "colab_type": "code",
        "colab": {}
      },
      "source": [
        "from keras import backend as K\n",
        "\n",
        "# 메모리 해제\n",
        "K.clear_session()"
      ],
      "execution_count": 175,
      "outputs": []
    },
    {
      "cell_type": "code",
      "metadata": {
        "id": "BmOzXso82FvD",
        "colab_type": "code",
        "colab": {
          "base_uri": "https://localhost:8080/",
          "height": 72
        },
        "outputId": "cae5b357-da06-4e24-b357-06a86c692998"
      },
      "source": [
        "# cure\n",
        "\n",
        "num_epochs = 1000\n",
        "all_mae_histories_C = []\n",
        "for i in range(k):\n",
        "    print('처리중인 폴드 #', i)\n",
        "    # 검증 데이터 준비: k번째 분할\n",
        "    val_data = train_data_C[i * num_val_samples: (i + 1) * num_val_samples]\n",
        "    val_targets = train_targets_C[i * num_val_samples: (i + 1) * num_val_samples]\n",
        "\n",
        "    # 훈련 데이터 준비: 다른 분할 전체\n",
        "    partial_train_data = np.concatenate(\n",
        "        [train_data_C[:i * num_val_samples],\n",
        "         train_data_C[(i + 1) * num_val_samples:]],\n",
        "        axis=0)\n",
        "    partial_train_targets = np.concatenate(\n",
        "        [train_targets_C[:i * num_val_samples],\n",
        "         train_targets_C[(i + 1) * num_val_samples:]],\n",
        "        axis=0)\n",
        "\n",
        "    # 케라스 모델 구성(컴파일 포함)\n",
        "    model_C = build_model_C()\n",
        "    # 모델 훈련(verbose=0 이므로 훈련 과정이 출력되지 않습니다)\n",
        "    history = model_C.fit(partial_train_data, partial_train_targets,\n",
        "                        validation_data=(val_data, val_targets),\n",
        "                        epochs=num_epochs, batch_size=1, verbose=0)\n",
        "    mae_history = history.history['val_mean_absolute_error']\n",
        "    all_mae_histories_C.append(mae_history)"
      ],
      "execution_count": null,
      "outputs": [
        {
          "output_type": "stream",
          "text": [
            "처리중인 폴드 # 0\n",
            "WARNING:tensorflow:6 out of the last 11 calls to <function Model.make_test_function.<locals>.test_function at 0x7f9fefe12e18> triggered tf.function retracing. Tracing is expensive and the excessive number of tracings could be due to (1) creating @tf.function repeatedly in a loop, (2) passing tensors with different shapes, (3) passing Python objects instead of tensors. For (1), please define your @tf.function outside of the loop. For (2), @tf.function has experimental_relax_shapes=True option that relaxes argument shapes that can avoid unnecessary retracing. For (3), please refer to https://www.tensorflow.org/tutorials/customization/performance#python_or_tensor_args and https://www.tensorflow.org/api_docs/python/tf/function for  more details.\n"
          ],
          "name": "stdout"
        }
      ]
    },
    {
      "cell_type": "code",
      "metadata": {
        "id": "qXAHLq2p2hpZ",
        "colab_type": "code",
        "colab": {}
      },
      "source": [
        "# not cure\n",
        "\n",
        "num_epochs = 1000\n",
        "all_mae_historiesNC = []\n",
        "for i in range(k):\n",
        "    print('처리중인 폴드 #', i)\n",
        "    # 검증 데이터 준비: k번째 분할\n",
        "    val_data = train_dataNC[i * num_val_samples: (i + 1) * num_val_samples]\n",
        "    val_targets = train_targetsNC[i * num_val_samples: (i + 1) * num_val_samples]\n",
        "\n",
        "    # 훈련 데이터 준비: 다른 분할 전체\n",
        "    partial_train_data = np.concatenate(\n",
        "        [train_dataNC[:i * num_val_samples],\n",
        "         train_dataNC[(i + 1) * num_val_samples:]],\n",
        "        axis=0)\n",
        "    partial_train_targets = np.concatenate(\n",
        "        [train_targetsNC[:i * num_val_samples],\n",
        "         train_targetsNC[(i + 1) * num_val_samples:]],\n",
        "        axis=0)\n",
        "\n",
        "    # 케라스 모델 구성(컴파일 포함)\n",
        "    modelNC = build_modelNC()\n",
        "    # 모델 훈련(verbose=0 이므로 훈련 과정이 출력되지 않습니다)\n",
        "    history = modelNC.fit(partial_train_data, partial_train_targets,\n",
        "                        validation_data=(val_data, val_targets),\n",
        "                        epochs=num_epochs, batch_size=1, verbose=0)\n",
        "    mae_history = history.history['val_mean_absolute_error']\n",
        "    all_mae_historiesNC.append(mae_history)"
      ],
      "execution_count": null,
      "outputs": []
    },
    {
      "cell_type": "code",
      "metadata": {
        "id": "m5Hrsk3rjSXs",
        "colab_type": "code",
        "colab": {}
      },
      "source": [
        "average_mae_history_C = [\n",
        "    np.mean([x[i] for x in all_mae_histories_C]) for i in range(num_epochs)]\n",
        "\n",
        "average_mae_historyNC = [\n",
        "    np.mean([x[i] for x in all_mae_historiesNC]) for i in range(num_epochs)]"
      ],
      "execution_count": null,
      "outputs": []
    },
    {
      "cell_type": "code",
      "metadata": {
        "id": "AQpC9xw1kddO",
        "colab_type": "code",
        "colab": {}
      },
      "source": [
        "import matplotlib.pyplot as plt"
      ],
      "execution_count": null,
      "outputs": []
    },
    {
      "cell_type": "code",
      "metadata": {
        "id": "fa-k6N4Dkmz2",
        "colab_type": "code",
        "colab": {}
      },
      "source": [
        "plt.plot(range(1, len(average_mae_history_C) + 1), average_mae_history_C)\n",
        "plt.title('cure')\n",
        "plt.xlabel('Epochs')\n",
        "plt.ylabel('Validation MAE')\n",
        "plt.show()"
      ],
      "execution_count": null,
      "outputs": []
    },
    {
      "cell_type": "code",
      "metadata": {
        "id": "0r0NWSoDku16",
        "colab_type": "code",
        "colab": {}
      },
      "source": [
        "plt.plot(range(1, len(average_mae_historyNC) + 1), average_mae_historyNC)\n",
        "plt.title('not cure')\n",
        "plt.xlabel('Epochs')\n",
        "plt.ylabel('Validation MAE')\n",
        "plt.show()"
      ],
      "execution_count": null,
      "outputs": []
    },
    {
      "cell_type": "code",
      "metadata": {
        "id": "_PdslPp8k2-H",
        "colab_type": "code",
        "colab": {}
      },
      "source": [
        "def smooth_curve(points, factor=0.9):\n",
        "  smoothed_points = []\n",
        "  for point in points:\n",
        "    if smoothed_points:\n",
        "      previous = smoothed_points[-1]\n",
        "      smoothed_points.append(previous * factor + point * (1 - factor))\n",
        "    else:\n",
        "      smoothed_points.append(point)\n",
        "  return smoothed_points\n",
        "\n",
        "smooth_mae_history_C = smooth_curve(average_mae_history_C[10:])\n",
        "\n",
        "plt.plot(range(1, len(smooth_mae_history_C) + 1), smooth_mae_history_C)\n",
        "plt.title('cure')\n",
        "plt.xlabel('Epochs')\n",
        "plt.ylabel('Validation MAE')\n",
        "plt.show()"
      ],
      "execution_count": null,
      "outputs": []
    },
    {
      "cell_type": "code",
      "metadata": {
        "id": "MohjFl6AnxfR",
        "colab_type": "code",
        "colab": {}
      },
      "source": [
        "def smooth_curve(points, factor=0.9):\n",
        "  smoothed_points = []\n",
        "  for point in points:\n",
        "    if smoothed_points:\n",
        "      previous = smoothed_points[-1]\n",
        "      smoothed_points.append(previous * factor + point * (1 - factor))\n",
        "    else:\n",
        "      smoothed_points.append(point)\n",
        "  return smoothed_points\n",
        "\n",
        "smooth_mae_historyNC = smooth_curve(average_mae_historyNC[10:])\n",
        "\n",
        "plt.plot(range(1, len(smooth_mae_historyNC) + 1), smooth_mae_historyNC)\n",
        "plt.title('not cure')\n",
        "plt.xlabel('Epochs')\n",
        "plt.ylabel('Validation MAE')\n",
        "plt.show()"
      ],
      "execution_count": null,
      "outputs": []
    },
    {
      "cell_type": "code",
      "metadata": {
        "id": "3MUIv80sn8HA",
        "colab_type": "code",
        "colab": {}
      },
      "source": [
        "pred_targets=model_C.predict(test_data_C)\n",
        "\n",
        "plt.scatter(pred_targets,test_targets_C)\n",
        "plt.plot(np.arange(80),np.arange(80))"
      ],
      "execution_count": null,
      "outputs": []
    },
    {
      "cell_type": "markdown",
      "metadata": {
        "id": "6psrzIaDlwAq",
        "colab_type": "text"
      },
      "source": [
        "### 선형회귀"
      ]
    },
    {
      "cell_type": "code",
      "metadata": {
        "id": "a8QWWq9okz3M",
        "colab_type": "code",
        "colab": {}
      },
      "source": [
        "from sklearn.linear_model import LinearRegression\n",
        "\n",
        "model = LinearRegression()\n",
        "model.fit(pred_targets, test_targets_C)\n",
        "\n",
        "model.coef_, model.intercept_ "
      ],
      "execution_count": null,
      "outputs": []
    },
    {
      "cell_type": "code",
      "metadata": {
        "id": "trkUBqINlWyt",
        "colab_type": "code",
        "colab": {}
      },
      "source": [
        "xs = np.arange(0, 80, 0.1)\n",
        "ys = xs*model.coef_[0] + model.intercept_\n",
        "\n",
        "plt.scatter(pred_targets,test_targets_C)\n",
        "plt.plot(xs,ys,'r-',lw=3)"
      ],
      "execution_count": null,
      "outputs": []
    },
    {
      "cell_type": "markdown",
      "metadata": {
        "id": "lqzpJTsIlyYj",
        "colab_type": "text"
      },
      "source": [
        "### 2차식 회귀"
      ]
    },
    {
      "cell_type": "code",
      "metadata": {
        "id": "mIHB4ixsl17r",
        "colab_type": "code",
        "colab": {}
      },
      "source": [
        "X = np.c_[pred_targets, pred_targets**2]\n",
        "y = test_targets_C\n",
        "\n",
        "model = LinearRegression()\n",
        "model.fit(X, y)\n",
        "\n",
        "model.coef_, model.intercept_"
      ],
      "execution_count": null,
      "outputs": []
    },
    {
      "cell_type": "code",
      "metadata": {
        "id": "zeDj7_lbp2_c",
        "colab_type": "code",
        "colab": {}
      },
      "source": [
        "xs = np.arange(0,80,0.1)\n",
        "ys = xs*model.coef_[0] + (xs**2)*model.coef_[1] + model.intercept_\n",
        "\n",
        "plt.scatter(pred_targets,test_targets_C)\n",
        "plt.plot(xs,ys,'r-',lw=3)"
      ],
      "execution_count": null,
      "outputs": []
    },
    {
      "cell_type": "code",
      "metadata": {
        "id": "-dGEIibHyN7Q",
        "colab_type": "code",
        "colab": {}
      },
      "source": [
        "pred_targets=modelNC.predict(test_data_C)\n",
        "\n",
        "plt.scatter(pred_targets,test_targetsNC)\n",
        "plt.plot(np.arange(80),np.arange(80))"
      ],
      "execution_count": null,
      "outputs": []
    },
    {
      "cell_type": "code",
      "metadata": {
        "id": "rrSARUUvpGpp",
        "colab_type": "code",
        "colab": {}
      },
      "source": [
        "test_data_C.shape"
      ],
      "execution_count": null,
      "outputs": []
    },
    {
      "cell_type": "code",
      "metadata": {
        "id": "qc046eoBp7xe",
        "colab_type": "code",
        "colab": {}
      },
      "source": [
        "train_data_C.shape"
      ],
      "execution_count": null,
      "outputs": []
    },
    {
      "cell_type": "code",
      "metadata": {
        "id": "iWy4wNMyqAtr",
        "colab_type": "code",
        "colab": {}
      },
      "source": [
        "test_data_C[0]"
      ],
      "execution_count": null,
      "outputs": []
    },
    {
      "cell_type": "code",
      "metadata": {
        "id": "aIOJzW8JqLj1",
        "colab_type": "code",
        "colab": {}
      },
      "source": [
        "time_C=model_C.predict(test_data_C)[0]\n",
        "timeNC=modelNC.predict(test_data_C)[0]\n",
        "\n",
        "if time_C > timeNC:\n",
        "  print('치료하세용')\n",
        "else:\n",
        "  print('치료하지 마세용')\n",
        "\n",
        "print(test_targets_C[0],time_C,timeNC,time_C-timeNC)\n",
        "\n"
      ],
      "execution_count": null,
      "outputs": []
    },
    {
      "cell_type": "code",
      "metadata": {
        "id": "efWVZ03OqTE4",
        "colab_type": "code",
        "colab": {}
      },
      "source": [
        "# import lightgbm"
      ],
      "execution_count": null,
      "outputs": []
    },
    {
      "cell_type": "code",
      "metadata": {
        "id": "Poq3AzwFsLZ9",
        "colab_type": "code",
        "colab": {}
      },
      "source": [
        "import tensorflow as tf"
      ],
      "execution_count": null,
      "outputs": []
    },
    {
      "cell_type": "code",
      "metadata": {
        "id": "V8MudW8W4doW",
        "colab_type": "code",
        "colab": {}
      },
      "source": [
        "# 2. 모델의 구조를 만듭니다\n",
        "X = tf.keras.layers.Input(shape=[13])\n",
        "H = tf.keras.layers.Dense(8, activation='swish')(X)\n",
        "H = tf.keras.layers.Dense(8, activation='swish')(H)\n",
        "H = tf.keras.layers.Dense(8, activation='swish')(H)\n",
        "Y = tf.keras.layers.Dense(1)(H)\n",
        "model = tf.keras.models.Model(X, Y)\n",
        "model.compile(loss='mse')"
      ],
      "execution_count": null,
      "outputs": []
    },
    {
      "cell_type": "code",
      "metadata": {
        "id": "2R_yaLaF4n_b",
        "colab_type": "code",
        "colab": {}
      },
      "source": [
        "# 2. 모델의 구조를 BatchNormalization layer를 사용하여 만든다.\n",
        "X = tf.keras.layers.Input(shape=[17])\n",
        "\n",
        "H = tf.keras.layers.Dense(16)(X)\n",
        "H = tf.keras.layers.BatchNormalization()(H)\n",
        "H = tf.keras.layers.Activation('swish')(H)\n",
        "\n",
        "H = tf.keras.layers.Dense(8)(H)\n",
        "H = tf.keras.layers.BatchNormalization()(H)\n",
        "H = tf.keras.layers.Activation('swish')(H)\n",
        "\n",
        "H = tf.keras.layers.Dense(8)(H)\n",
        "H = tf.keras.layers.BatchNormalization()(H)\n",
        "H = tf.keras.layers.Activation('swish')(H)\n",
        "\n",
        "Y = tf.keras.layers.Dense(1)(H)\n",
        "model = tf.keras.models.Model(X, Y)\n",
        "model.compile(loss='mse')"
      ],
      "execution_count": null,
      "outputs": []
    },
    {
      "cell_type": "code",
      "metadata": {
        "id": "82abpmfb4p-i",
        "colab_type": "code",
        "colab": {}
      },
      "source": [
        "# 3.데이터로 모델을 학습(FIT)합니다.\n",
        "model.fit(train_data_C, train_targets_C, epochs=1000)"
      ],
      "execution_count": null,
      "outputs": []
    },
    {
      "cell_type": "code",
      "metadata": {
        "id": "kUtgoBq556zy",
        "colab_type": "code",
        "colab": {}
      },
      "source": [
        "# 4. 모델을 이용합니다\n",
        "print(model.predict(test_data_C))"
      ],
      "execution_count": null,
      "outputs": []
    },
    {
      "cell_type": "code",
      "metadata": {
        "id": "6yETBB9_eO-m",
        "colab_type": "code",
        "colab": {}
      },
      "source": [
        "# 종속변수 확인\n",
        "print(test_targets_C)"
      ],
      "execution_count": null,
      "outputs": []
    },
    {
      "cell_type": "code",
      "metadata": {
        "id": "6_VtqNHtsz5I",
        "colab_type": "code",
        "colab": {}
      },
      "source": [
        "# 환자 특성 분포\n",
        "plt.plot(data_CX, 'o')"
      ],
      "execution_count": null,
      "outputs": []
    },
    {
      "cell_type": "code",
      "metadata": {
        "id": "Y64UkgK4Znnv",
        "colab_type": "code",
        "colab": {}
      },
      "source": [
        "dataX[np.where((dataA == 1) & (dataY <= 100))[0]]"
      ],
      "execution_count": null,
      "outputs": []
    },
    {
      "cell_type": "code",
      "metadata": {
        "id": "y_IC6ZP6NqaA",
        "colab_type": "code",
        "colab": {}
      },
      "source": [
        "# 치료받은 사람들 중 생존시간이 100이하인 사람들만 고른다.\n",
        "dataCX_100 = dataX[np.where((dataA == 1) & (dataY <= 100))[0]]\n",
        "dataCY_100 = dataY[np.where((dataA == 1) & (dataY <= 100))[0]]\n",
        "\n",
        "# 치료받지 않은 사람들 중 생존시간이 100이하인 사람들만 고른다.\n",
        "dataNCX_100 = dataX[np.where((dataA == 0) & (dataY <= 100))[0]]\n",
        "dataNCY_100 = dataY[np.where((dataA == 0) & (dataY <= 100))[0]]"
      ],
      "execution_count": null,
      "outputs": []
    },
    {
      "cell_type": "code",
      "metadata": {
        "id": "nkgMKEk9YHdm",
        "colab_type": "code",
        "colab": {}
      },
      "source": [
        "import tensorflow as tf\n",
        "\n",
        "###########################\n",
        "# 2. 모델의 구조를 만듭니다\n",
        "X = tf.keras.layers.Input(shape=[17])\n",
        "H = tf.keras.layers.Dense(8, activation='swish')(X)\n",
        "H = tf.keras.layers.Dense(8, activation='swish')(H)\n",
        "H = tf.keras.layers.Dense(8, activation='swish')(H)\n",
        "Y = tf.keras.layers.Dense(1)(H)\n",
        "model = tf.keras.models.Model(X, Y)\n",
        "model.compile(loss='mse')\n",
        " \n",
        "# 2. 모델의 구조를 BatchNormalization layer를 사용하여 만든다.\n",
        "X = tf.keras.layers.Input(shape=[17])\n",
        " \n",
        "H = tf.keras.layers.Dense(8)(X)\n",
        "H = tf.keras.layers.BatchNormalization()(H)\n",
        "H = tf.keras.layers.Activation('swish')(H)\n",
        " \n",
        "H = tf.keras.layers.Dense(8)(H)\n",
        "H = tf.keras.layers.BatchNormalization()(H)\n",
        "H = tf.keras.layers.Activation('swish')(H)\n",
        " \n",
        "H = tf.keras.layers.Dense(8)(H)\n",
        "H = tf.keras.layers.BatchNormalization()(H)\n",
        "H = tf.keras.layers.Activation('swish')(H)\n",
        " \n",
        "Y = tf.keras.layers.Dense(1)(H)\n",
        "model = tf.keras.models.Model(X, Y)\n",
        "model.compile(loss='mse')"
      ],
      "execution_count": null,
      "outputs": []
    },
    {
      "cell_type": "code",
      "metadata": {
        "id": "STly2Tk5WUjT",
        "colab_type": "code",
        "colab": {}
      },
      "source": [
        "train_data_C,test_data_C,train_targets_C,test_targets_C=train_test_split(dataCX_100,dataCY_100)\n",
        "train_dataNC,test_dataNC,train_targetsNC,test_targetsNC=train_test_split(dataNCX_100,dataNCY_100)"
      ],
      "execution_count": null,
      "outputs": []
    },
    {
      "cell_type": "code",
      "metadata": {
        "id": "0oeHzl4DXr4P",
        "colab_type": "code",
        "colab": {}
      },
      "source": [
        "# 3.데이터로 모델을 학습(FIT)합니다.\n",
        "# model = build_model_C_100()\n",
        "model = build_model_C_100_16()\n",
        "history = model.fit(train_data_C, train_targets_C, epochs=1000)"
      ],
      "execution_count": null,
      "outputs": []
    },
    {
      "cell_type": "code",
      "metadata": {
        "id": "XsrH0QYoX_jf",
        "colab_type": "code",
        "colab": {}
      },
      "source": [
        "# 4. 모델을 이용합니다\n",
        "pred_y = model.predict(test_data_C) \n",
        "print(pred_y)"
      ],
      "execution_count": null,
      "outputs": []
    },
    {
      "cell_type": "code",
      "metadata": {
        "id": "Ji2C6AsQaf5t",
        "colab_type": "code",
        "colab": {}
      },
      "source": [
        "# 종속변수 확인\n",
        "print(test_targets_C)"
      ],
      "execution_count": null,
      "outputs": []
    },
    {
      "cell_type": "code",
      "metadata": {
        "id": "LTssexuTazWQ",
        "colab_type": "code",
        "colab": {}
      },
      "source": [
        "# 종속변수 확인\n",
        "error = test_targets_C - pred_y\n",
        "print(error)"
      ],
      "execution_count": null,
      "outputs": []
    },
    {
      "cell_type": "code",
      "metadata": {
        "id": "xKtlDB8ToFEm",
        "colab_type": "code",
        "colab": {}
      },
      "source": [
        "error.shape"
      ],
      "execution_count": null,
      "outputs": []
    },
    {
      "cell_type": "code",
      "metadata": {
        "id": "DAlzl6iYmldm",
        "colab_type": "code",
        "colab": {}
      },
      "source": [
        "plt.plot(error, 'bo')"
      ],
      "execution_count": null,
      "outputs": []
    },
    {
      "cell_type": "code",
      "metadata": {
        "id": "n3Crrlwva9fT",
        "colab_type": "code",
        "colab": {}
      },
      "source": [
        "mae_C = tf.keras.losses.MAE(test_targets_C, pred_y)"
      ],
      "execution_count": null,
      "outputs": []
    },
    {
      "cell_type": "code",
      "metadata": {
        "id": "7GRNoNPlyJv-",
        "colab_type": "code",
        "colab": {}
      },
      "source": [
        "mae_C.shape"
      ],
      "execution_count": null,
      "outputs": []
    },
    {
      "cell_type": "code",
      "metadata": {
        "id": "aspovIAPx-sg",
        "colab_type": "code",
        "colab": {}
      },
      "source": [
        "# 생존 시간 오차가 10 이하인 개수\n",
        "np.sum(np.where(mae_C <= 10, 1, 0))"
      ],
      "execution_count": null,
      "outputs": []
    },
    {
      "cell_type": "code",
      "metadata": {
        "id": "PKmD95zmxr8Z",
        "colab_type": "code",
        "colab": {}
      },
      "source": [
        "# 생존 시간 오차가 10 초과인 개수\n",
        "np.sum(np.where(mae_C > 10, 1, 0))"
      ],
      "execution_count": null,
      "outputs": []
    },
    {
      "cell_type": "code",
      "metadata": {
        "id": "4Q2eoLrUkD5-",
        "colab_type": "code",
        "colab": {}
      },
      "source": [
        "test_dataNC.shape"
      ],
      "execution_count": null,
      "outputs": []
    },
    {
      "cell_type": "code",
      "metadata": {
        "id": "ffn4GxHgBzoY",
        "colab_type": "code",
        "colab": {}
      },
      "source": [
        "train_dataNC.shape"
      ],
      "execution_count": null,
      "outputs": []
    },
    {
      "cell_type": "code",
      "metadata": {
        "id": "WAOyL3ZRB2ao",
        "colab_type": "code",
        "colab": {}
      },
      "source": [
        "train_targetsNC.shape"
      ],
      "execution_count": null,
      "outputs": []
    },
    {
      "cell_type": "code",
      "metadata": {
        "id": "kzsyJB09b3t6",
        "colab_type": "code",
        "colab": {}
      },
      "source": [
        "# 3.치료하지 않았고 생존시간이 100 이하인 환자 데이터로 모델을 학습(FIT)합니다.\n",
        "# model_NC = build_model_NC_100()\n",
        "model_NC = build_model_NC_100_16()\n",
        "model_NC.fit(train_dataNC, train_targetsNC, epochs=1000)"
      ],
      "execution_count": null,
      "outputs": []
    },
    {
      "cell_type": "code",
      "metadata": {
        "id": "OOZwF15ncdJ_",
        "colab_type": "code",
        "colab": {}
      },
      "source": [
        "pred_y_NC = model_NC.predict(test_dataNC)"
      ],
      "execution_count": null,
      "outputs": []
    },
    {
      "cell_type": "code",
      "metadata": {
        "id": "HysRVJTkc626",
        "colab_type": "code",
        "colab": {}
      },
      "source": [
        "mae_NC = tf.keras.losses.MAE(pred_y_NC, test_targetsNC)"
      ],
      "execution_count": null,
      "outputs": []
    },
    {
      "cell_type": "code",
      "metadata": {
        "id": "cKeZDOfun3sH",
        "colab_type": "code",
        "colab": {}
      },
      "source": [
        "mae_NC.shape"
      ],
      "execution_count": null,
      "outputs": []
    },
    {
      "cell_type": "code",
      "metadata": {
        "id": "zAsxqLC6dGCb",
        "colab_type": "code",
        "colab": {}
      },
      "source": [
        "plt.plot(mae_NC, 'ro')"
      ],
      "execution_count": null,
      "outputs": []
    },
    {
      "cell_type": "code",
      "metadata": {
        "id": "k5vCs13pjopC",
        "colab_type": "code",
        "colab": {}
      },
      "source": [
        "pred_y[0] > pred_y_NC[0]"
      ],
      "execution_count": null,
      "outputs": []
    },
    {
      "cell_type": "code",
      "metadata": {
        "id": "zjgh6cl2jByw",
        "colab_type": "code",
        "colab": {}
      },
      "source": [
        "train_data_C.shape"
      ],
      "execution_count": null,
      "outputs": []
    },
    {
      "cell_type": "code",
      "metadata": {
        "id": "SxF1xzTQvo3Q",
        "colab_type": "code",
        "colab": {}
      },
      "source": [
        "type(mae_NC)"
      ],
      "execution_count": null,
      "outputs": []
    },
    {
      "cell_type": "code",
      "metadata": {
        "id": "2SvUoduswJ_X",
        "colab_type": "code",
        "colab": {}
      },
      "source": [
        "mae_NC[0]"
      ],
      "execution_count": null,
      "outputs": []
    },
    {
      "cell_type": "code",
      "metadata": {
        "id": "vPwb0xLRwR64",
        "colab_type": "code",
        "colab": {}
      },
      "source": [
        "# 오차가 10 이하인 개수\n",
        "np.sum(np.where(mae_NC <= 10, 1, 0))"
      ],
      "execution_count": null,
      "outputs": []
    },
    {
      "cell_type": "code",
      "metadata": {
        "id": "l-4_AhIqxUzX",
        "colab_type": "code",
        "colab": {}
      },
      "source": [
        "# 오차가 10 초과인 개수\n",
        "np.sum(np.where(mae_NC > 10, 1, 0))"
      ],
      "execution_count": null,
      "outputs": []
    },
    {
      "cell_type": "code",
      "metadata": {
        "id": "wB6Tbk-2-DcQ",
        "colab_type": "code",
        "colab": {}
      },
      "source": [
        ""
      ],
      "execution_count": null,
      "outputs": []
    }
  ]
}