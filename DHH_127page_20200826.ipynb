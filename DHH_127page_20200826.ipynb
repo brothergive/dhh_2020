{
  "nbformat": 4,
  "nbformat_minor": 0,
  "metadata": {
    "colab": {
      "name": "DHH 127page_20200825.ipynb",
      "provenance": [],
      "collapsed_sections": [
        "6psrzIaDlwAq"
      ]
    },
    "kernelspec": {
      "name": "python3",
      "display_name": "Python 3"
    },
    "accelerator": "GPU"
  },
  "cells": [
    {
      "cell_type": "markdown",
      "metadata": {
        "id": "vZe8oEJj2EZR",
        "colab_type": "text"
      },
      "source": [
        ""
      ]
    },
    {
      "cell_type": "code",
      "metadata": {
        "id": "SfoWbIwk2H51",
        "colab_type": "code",
        "colab": {
          "base_uri": "https://localhost:8080/",
          "height": 125
        },
        "outputId": "3959998a-8ad1-487c-98dc-0921518af79b"
      },
      "source": [
        "from google.colab import drive\n",
        "drive.mount('/content/drive')"
      ],
      "execution_count": null,
      "outputs": [
        {
          "output_type": "stream",
          "text": [
            "Go to this URL in a browser: https://accounts.google.com/o/oauth2/auth?client_id=947318989803-6bn6qk8qdgf4n4g3pfee6491hc0brc4i.apps.googleusercontent.com&redirect_uri=urn%3aietf%3awg%3aoauth%3a2.0%3aoob&scope=email%20https%3a%2f%2fwww.googleapis.com%2fauth%2fdocs.test%20https%3a%2f%2fwww.googleapis.com%2fauth%2fdrive%20https%3a%2f%2fwww.googleapis.com%2fauth%2fdrive.photos.readonly%20https%3a%2f%2fwww.googleapis.com%2fauth%2fpeopleapi.readonly&response_type=code\n",
            "\n",
            "Enter your authorization code:\n",
            "··········\n",
            "Mounted at /content/drive\n"
          ],
          "name": "stdout"
        }
      ]
    },
    {
      "cell_type": "code",
      "metadata": {
        "id": "6Ks9_kkrCIQi",
        "colab_type": "code",
        "colab": {}
      },
      "source": [
        "import numpy as np\n",
        "import pandas as pd"
      ],
      "execution_count": null,
      "outputs": []
    },
    {
      "cell_type": "code",
      "metadata": {
        "id": "0f8wsbilD3VG",
        "colab_type": "code",
        "colab": {}
      },
      "source": [
        "# load data\n",
        "\n",
        "dataX=pd.read_csv(\"/content/drive/My Drive/KOSTA 시각 인지 기능 기반 AI 개발자 양성 과정/팀 프로젝트/trainX.csv\")\n",
        "dataA=pd.read_csv(\"/content/drive/My Drive/KOSTA 시각 인지 기능 기반 AI 개발자 양성 과정/팀 프로젝트/trainA.csv\")\n",
        "dataY=pd.read_csv(\"/content/drive/My Drive/KOSTA 시각 인지 기능 기반 AI 개발자 양성 과정/팀 프로젝트/trainY.csv\")\n",
        "\n",
        "# remove index\n",
        "\n",
        "dataX=dataX.values[:,1:]\n",
        "dataY=dataY.values[:,1:-1]\n",
        "dataA=dataA.values[:,1:]"
      ],
      "execution_count": null,
      "outputs": []
    },
    {
      "cell_type": "code",
      "metadata": {
        "id": "F77bYonkF8AE",
        "colab_type": "code",
        "colab": {}
      },
      "source": [
        "# split cure or not cure\n",
        "data_CX=dataX[np.where(dataA==1)[0]]\n",
        "dataNCX=dataX[np.where(dataA!=1)[0]]\n",
        "data_CY=dataY[np.where(dataA==1)]\n",
        "dataNCY=dataY[np.where(dataA!=1)]"
      ],
      "execution_count": null,
      "outputs": []
    },
    {
      "cell_type": "code",
      "metadata": {
        "id": "bCipqhgVIJba",
        "colab_type": "code",
        "colab": {}
      },
      "source": [
        "from sklearn.model_selection import train_test_split\n",
        "\n",
        "train_data_C,test_data_C,train_targets_C,test_targets_C=train_test_split(data_CX,data_CY)\n",
        "train_dataNC,test_dataNC,train_targetsNC,test_targetsNC=train_test_split(data_CX,data_CY)"
      ],
      "execution_count": null,
      "outputs": []
    },
    {
      "cell_type": "code",
      "metadata": {
        "id": "8bTfqtUGPvsq",
        "colab_type": "code",
        "colab": {}
      },
      "source": [
        "from keras import models\n",
        "from keras import layers\n",
        "\n",
        "def build_model_C():\n",
        "    # 동일한 모델을 여러 번 생성할 것이므로 함수를 만들어 사용합니다\n",
        "    model = models.Sequential()\n",
        "    model.add(layers.Dense(64, activation='relu',\n",
        "                           input_shape=(train_data_C.shape[1],)))\n",
        "    model.add(layers.Dense(64, activation='relu'))\n",
        "    model.add(layers.Dense(1))\n",
        "    model.compile(optimizer='rmsprop', loss='mse', metrics=['mean_absolute_error'])\n",
        "    return model\n",
        "\n",
        "\n",
        "def build_modelNC():\n",
        "    # 동일한 모델을 여러 번 생성할 것이므로 함수를 만들어 사용합니다\n",
        "    model = models.Sequential()\n",
        "    model.add(layers.Dense(64, activation='relu',\n",
        "                           input_shape=(train_dataNC.shape[1],)))\n",
        "    model.add(layers.Dense(64, activation='relu'))\n",
        "    model.add(layers.Dense(1))\n",
        "    model.compile(optimizer='rmsprop', loss='mse', metrics=['mean_absolute_error'])\n",
        "    return model\n",
        "\n",
        "def build_model_C_100():\n",
        "  # 2. 모델의 구조를 BatchNormalization layer를 사용하여 만든다.\n",
        "  X = tf.keras.layers.Input(shape=[17])\n",
        "  \n",
        "  H = tf.keras.layers.Dense(8)(X)\n",
        "  H = tf.keras.layers.BatchNormalization()(H)\n",
        "  H = tf.keras.layers.Activation('swish')(H)\n",
        "  \n",
        "  H = tf.keras.layers.Dense(8)(H)\n",
        "  H = tf.keras.layers.BatchNormalization()(H)\n",
        "  H = tf.keras.layers.Activation('swish')(H)\n",
        "  \n",
        "  H = tf.keras.layers.Dense(8)(H)\n",
        "  H = tf.keras.layers.BatchNormalization()(H)\n",
        "  H = tf.keras.layers.Activation('swish')(H)\n",
        "  \n",
        "  Y = tf.keras.layers.Dense(1)(H)\n",
        "  model = tf.keras.models.Model(X, Y)\n",
        "  model.compile(loss='mse', metrics=[tf.keras.metrics.Accuracy()])\n",
        "  return model\n",
        "\n",
        "def build_model_C_100_16():\n",
        "  # 2. 모델의 구조를 BatchNormalization layer를 사용하여 만든다.\n",
        "  X = tf.keras.layers.Input(shape=[17])\n",
        "  \n",
        "  H = tf.keras.layers.Dense(16)(X)\n",
        "  H = tf.keras.layers.BatchNormalization()(H)\n",
        "  H = tf.keras.layers.Activation('swish')(H)\n",
        "  \n",
        "  H = tf.keras.layers.Dense(16)(H)\n",
        "  H = tf.keras.layers.BatchNormalization()(H)\n",
        "  H = tf.keras.layers.Activation('swish')(H)\n",
        "  \n",
        "  H = tf.keras.layers.Dense(16)(H)\n",
        "  H = tf.keras.layers.BatchNormalization()(H)\n",
        "  H = tf.keras.layers.Activation('swish')(H)\n",
        "\n",
        "  H = tf.keras.layers.Dense(16)(H)\n",
        "  H = tf.keras.layers.BatchNormalization()(H)\n",
        "  H = tf.keras.layers.Activation('swish')(H)\n",
        "\n",
        "  H = tf.keras.layers.Dense(16)(H)\n",
        "  H = tf.keras.layers.BatchNormalization()(H)\n",
        "  H = tf.keras.layers.Activation('swish')(H)\n",
        "\n",
        "  H = tf.keras.layers.Dense(16)(H)\n",
        "  H = tf.keras.layers.BatchNormalization()(H)\n",
        "  H = tf.keras.layers.Activation('swish')(H)\n",
        "  \n",
        "  Y = tf.keras.layers.Dense(1)(H)\n",
        "  model = tf.keras.models.Model(X, Y)\n",
        "  model.compile(loss='mse', metrics=[tf.keras.metrics.Accuracy()])\n",
        "  return model\n",
        "\n",
        "def build_model_C_100_32():\n",
        "  # 2. 모델의 구조를 BatchNormalization layer를 사용하여 만든다.\n",
        "  X = tf.keras.layers.Input(shape=[17])\n",
        "  \n",
        "  H = tf.keras.layers.Dense(32)(X)\n",
        "  H = tf.keras.layers.BatchNormalization()(H)\n",
        "  H = tf.keras.layers.Activation('swish')(H)\n",
        "  \n",
        "  H = tf.keras.layers.Dense(32)(H)\n",
        "  H = tf.keras.layers.BatchNormalization()(H)\n",
        "  H = tf.keras.layers.Activation('swish')(H)\n",
        "  \n",
        "  H = tf.keras.layers.Dense(32)(H)\n",
        "  H = tf.keras.layers.BatchNormalization()(H)\n",
        "  H = tf.keras.layers.Activation('swish')(H)\n",
        "\n",
        "  H = tf.keras.layers.Dense(32)(H)\n",
        "  H = tf.keras.layers.BatchNormalization()(H)\n",
        "  H = tf.keras.layers.Activation('swish')(H)\n",
        "\n",
        "  H = tf.keras.layers.Dense(32)(H)\n",
        "  H = tf.keras.layers.BatchNormalization()(H)\n",
        "  H = tf.keras.layers.Activation('swish')(H)\n",
        "\n",
        "  H = tf.keras.layers.Dense(32)(H)\n",
        "  H = tf.keras.layers.BatchNormalization()(H)\n",
        "  H = tf.keras.layers.Activation('swish')(H)\n",
        "  \n",
        "  Y = tf.keras.layers.Dense(1)(H)\n",
        "  model = tf.keras.models.Model(X, Y)\n",
        "  model.compile(loss='mse', metrics=[tf.keras.metrics.Accuracy()])\n",
        "  return model\n",
        "\n",
        "def build_model_C_100_64():\n",
        "  # 2. 모델의 구조를 BatchNormalization layer를 사용하여 만든다.\n",
        "  X = tf.keras.layers.Input(shape=[17])\n",
        "  \n",
        "  H = tf.keras.layers.Dense(64)(X)\n",
        "  H = tf.keras.layers.BatchNormalization()(H)\n",
        "  H = tf.keras.layers.Activation('swish')(H)\n",
        "  \n",
        "  H = tf.keras.layers.Dense(64)(H)\n",
        "  H = tf.keras.layers.BatchNormalization()(H)\n",
        "  H = tf.keras.layers.Activation('swish')(H)\n",
        "  \n",
        "  H = tf.keras.layers.Dense(64)(H)\n",
        "  H = tf.keras.layers.BatchNormalization()(H)\n",
        "  H = tf.keras.layers.Activation('swish')(H)\n",
        "\n",
        "  H = tf.keras.layers.Dense(64)(H)\n",
        "  H = tf.keras.layers.BatchNormalization()(H)\n",
        "  H = tf.keras.layers.Activation('swish')(H)\n",
        "\n",
        "  H = tf.keras.layers.Dense(64)(H)\n",
        "  H = tf.keras.layers.BatchNormalization()(H)\n",
        "  H = tf.keras.layers.Activation('swish')(H)\n",
        "\n",
        "  H = tf.keras.layers.Dense(64)(H)\n",
        "  H = tf.keras.layers.BatchNormalization()(H)\n",
        "  H = tf.keras.layers.Activation('swish')(H)\n",
        "  \n",
        "  Y = tf.keras.layers.Dense(1)(H)\n",
        "  model = tf.keras.models.Model(X, Y)\n",
        "  model.compile(loss='mse', metrics=[tf.keras.metrics.Accuracy()])\n",
        "  return model\n",
        "\n",
        "def build_model_C_100_128():\n",
        "  # 2. 모델의 구조를 BatchNormalization layer를 사용하여 만든다.\n",
        "  X = tf.keras.layers.Input(shape=[17])\n",
        "  \n",
        "  H = tf.keras.layers.Dense(128)(X)\n",
        "  H = tf.keras.layers.BatchNormalization()(H)\n",
        "  H = tf.keras.layers.Activation('swish')(H)\n",
        "  \n",
        "  H = tf.keras.layers.Dense(128)(H)\n",
        "  H = tf.keras.layers.BatchNormalization()(H)\n",
        "  H = tf.keras.layers.Activation('swish')(H)\n",
        "  \n",
        "  H = tf.keras.layers.Dense(128)(H)\n",
        "  H = tf.keras.layers.BatchNormalization()(H)\n",
        "  H = tf.keras.layers.Activation('swish')(H)\n",
        "\n",
        "  H = tf.keras.layers.Dense(128)(H)\n",
        "  H = tf.keras.layers.BatchNormalization()(H)\n",
        "  H = tf.keras.layers.Activation('swish')(H)\n",
        "\n",
        "  H = tf.keras.layers.Dense(128)(H)\n",
        "  H = tf.keras.layers.BatchNormalization()(H)\n",
        "  H = tf.keras.layers.Activation('swish')(H)\n",
        "\n",
        "  H = tf.keras.layers.Dense(128)(H)\n",
        "  H = tf.keras.layers.BatchNormalization()(H)\n",
        "  H = tf.keras.layers.Activation('swish')(H)\n",
        "  \n",
        "  Y = tf.keras.layers.Dense(1)(H)\n",
        "  model = tf.keras.models.Model(X, Y)\n",
        "  model.compile(loss='mse', metrics=[tf.keras.metrics.Accuracy()])\n",
        "  return model\n",
        "\n",
        "def build_model_C_100_256():\n",
        "  # 2. 모델의 구조를 BatchNormalization layer를 사용하여 만든다.\n",
        "  X = tf.keras.layers.Input(shape=[17])\n",
        "  \n",
        "  H = tf.keras.layers.Dense(256)(X)\n",
        "  H = tf.keras.layers.BatchNormalization()(H)\n",
        "  H = tf.keras.layers.Activation('swish')(H)\n",
        "  \n",
        "  H = tf.keras.layers.Dense(256)(H)\n",
        "  H = tf.keras.layers.BatchNormalization()(H)\n",
        "  H = tf.keras.layers.Activation('swish')(H)\n",
        "  \n",
        "  H = tf.keras.layers.Dense(256)(H)\n",
        "  H = tf.keras.layers.BatchNormalization()(H)\n",
        "  H = tf.keras.layers.Activation('swish')(H)\n",
        "\n",
        "  H = tf.keras.layers.Dense(256)(H)\n",
        "  H = tf.keras.layers.BatchNormalization()(H)\n",
        "  H = tf.keras.layers.Activation('swish')(H)\n",
        "\n",
        "  H = tf.keras.layers.Dense(256)(H)\n",
        "  H = tf.keras.layers.BatchNormalization()(H)\n",
        "  H = tf.keras.layers.Activation('swish')(H)\n",
        "\n",
        "  H = tf.keras.layers.Dense(256)(H)\n",
        "  H = tf.keras.layers.BatchNormalization()(H)\n",
        "  H = tf.keras.layers.Activation('swish')(H)\n",
        "  \n",
        "  Y = tf.keras.layers.Dense(1)(H)\n",
        "  model = tf.keras.models.Model(X, Y)\n",
        "  model.compile(loss='mse', metrics=[tf.keras.metrics.Accuracy()])\n",
        "  return model\n",
        "\n",
        "def build_model_C_100_512():\n",
        "  # 2. 모델의 구조를 BatchNormalization layer를 사용하여 만든다.\n",
        "  X = tf.keras.layers.Input(shape=[17])\n",
        "  \n",
        "  H = tf.keras.layers.Dense(512)(X)\n",
        "  H = tf.keras.layers.BatchNormalization()(H)\n",
        "  H = tf.keras.layers.Activation('swish')(H)\n",
        "  \n",
        "  H = tf.keras.layers.Dense(512)(H)\n",
        "  H = tf.keras.layers.BatchNormalization()(H)\n",
        "  H = tf.keras.layers.Activation('swish')(H)\n",
        "  \n",
        "  H = tf.keras.layers.Dense(512)(H)\n",
        "  H = tf.keras.layers.BatchNormalization()(H)\n",
        "  H = tf.keras.layers.Activation('swish')(H)\n",
        "\n",
        "  H = tf.keras.layers.Dense(512)(H)\n",
        "  H = tf.keras.layers.BatchNormalization()(H)\n",
        "  H = tf.keras.layers.Activation('swish')(H)\n",
        "\n",
        "  H = tf.keras.layers.Dense(512)(H)\n",
        "  H = tf.keras.layers.BatchNormalization()(H)\n",
        "  H = tf.keras.layers.Activation('swish')(H)\n",
        "\n",
        "  H = tf.keras.layers.Dense(512)(H)\n",
        "  H = tf.keras.layers.BatchNormalization()(H)\n",
        "  H = tf.keras.layers.Activation('swish')(H)\n",
        "  \n",
        "  Y = tf.keras.layers.Dense(1)(H)\n",
        "  model = tf.keras.models.Model(X, Y)\n",
        "  model.compile(loss='mse', metrics=[tf.keras.metrics.Accuracy()])\n",
        "  return model\n",
        "\n",
        "def build_model_NC_100():\n",
        "  # 2. 모델의 구조를 BatchNormalization layer를 사용하여 만든다.\n",
        "  X = tf.keras.layers.Input(shape=[17])\n",
        "  \n",
        "  H = tf.keras.layers.Dense(8)(X)\n",
        "  H = tf.keras.layers.BatchNormalization()(H)\n",
        "  H = tf.keras.layers.Activation('swish')(H)\n",
        "  \n",
        "  H = tf.keras.layers.Dense(8)(H)\n",
        "  H = tf.keras.layers.BatchNormalization()(H)\n",
        "  H = tf.keras.layers.Activation('swish')(H)\n",
        "  \n",
        "  H = tf.keras.layers.Dense(8)(H)\n",
        "  H = tf.keras.layers.BatchNormalization()(H)\n",
        "  H = tf.keras.layers.Activation('swish')(H)\n",
        "  \n",
        "  Y = tf.keras.layers.Dense(1)(H)\n",
        "  model = tf.keras.models.Model(X, Y)\n",
        "  model.compile(loss='mse', metrics=[tf.keras.metrics.Accuracy()])\n",
        "  return model\n",
        "\n",
        "def build_model_NC_100_16():\n",
        "  # 2. 모델의 구조를 BatchNormalization layer를 사용하여 만든다.\n",
        "  X = tf.keras.layers.Input(shape=[17])\n",
        "  \n",
        "  H = tf.keras.layers.Dense(16)(X)\n",
        "  H = tf.keras.layers.BatchNormalization()(H)\n",
        "  H = tf.keras.layers.Activation('swish')(H)\n",
        "  \n",
        "  H = tf.keras.layers.Dense(16)(H)\n",
        "  H = tf.keras.layers.BatchNormalization()(H)\n",
        "  H = tf.keras.layers.Activation('swish')(H)\n",
        "  \n",
        "  H = tf.keras.layers.Dense(16)(H)\n",
        "  H = tf.keras.layers.BatchNormalization()(H)\n",
        "  H = tf.keras.layers.Activation('swish')(H)\n",
        "\n",
        "  H = tf.keras.layers.Dense(16)(H)\n",
        "  H = tf.keras.layers.BatchNormalization()(H)\n",
        "  H = tf.keras.layers.Activation('swish')(H)\n",
        "  \n",
        "  Y = tf.keras.layers.Dense(1)(H)\n",
        "  model = tf.keras.models.Model(X, Y)\n",
        "  model.compile(loss='mse', metrics=[tf.keras.metrics.Accuracy()])\n",
        "  return model\n",
        "\n",
        "def build_model_NC_100_32():\n",
        "  # 2. 모델의 구조를 BatchNormalization layer를 사용하여 만든다.\n",
        "  X = tf.keras.layers.Input(shape=[17])\n",
        "  \n",
        "  H = tf.keras.layers.Dense(32)(X)\n",
        "  H = tf.keras.layers.BatchNormalization()(H)\n",
        "  H = tf.keras.layers.Activation('swish')(H)\n",
        "  \n",
        "  H = tf.keras.layers.Dense(32)(H)\n",
        "  H = tf.keras.layers.BatchNormalization()(H)\n",
        "  H = tf.keras.layers.Activation('swish')(H)\n",
        "  \n",
        "  H = tf.keras.layers.Dense(32)(H)\n",
        "  H = tf.keras.layers.BatchNormalization()(H)\n",
        "  H = tf.keras.layers.Activation('swish')(H)\n",
        "\n",
        "  H = tf.keras.layers.Dense(32)(H)\n",
        "  H = tf.keras.layers.BatchNormalization()(H)\n",
        "  H = tf.keras.layers.Activation('swish')(H)\n",
        "\n",
        "  H = tf.keras.layers.Dense(32)(H)\n",
        "  H = tf.keras.layers.BatchNormalization()(H)\n",
        "  H = tf.keras.layers.Activation('swish')(H)\n",
        "  \n",
        "  Y = tf.keras.layers.Dense(1)(H)\n",
        "  model = tf.keras.models.Model(X, Y)\n",
        "  model.compile(loss='mse', metrics=[tf.keras.metrics.Accuracy()])\n",
        "  return model\n",
        "\n",
        "def build_model_NC_100_64():\n",
        "  # 2. 모델의 구조를 BatchNormalization layer를 사용하여 만든다.\n",
        "  X = tf.keras.layers.Input(shape=[17])\n",
        "  \n",
        "  H = tf.keras.layers.Dense(64)(X)\n",
        "  H = tf.keras.layers.BatchNormalization()(H)\n",
        "  H = tf.keras.layers.Activation('swish')(H)\n",
        "  \n",
        "  H = tf.keras.layers.Dense(64)(H)\n",
        "  H = tf.keras.layers.BatchNormalization()(H)\n",
        "  H = tf.keras.layers.Activation('swish')(H)\n",
        "  \n",
        "  H = tf.keras.layers.Dense(64)(H)\n",
        "  H = tf.keras.layers.BatchNormalization()(H)\n",
        "  H = tf.keras.layers.Activation('swish')(H)\n",
        "\n",
        "  H = tf.keras.layers.Dense(64)(H)\n",
        "  H = tf.keras.layers.BatchNormalization()(H)\n",
        "  H = tf.keras.layers.Activation('swish')(H)\n",
        "\n",
        "  H = tf.keras.layers.Dense(64)(H)\n",
        "  H = tf.keras.layers.BatchNormalization()(H)\n",
        "  H = tf.keras.layers.Activation('swish')(H)\n",
        "  \n",
        "  Y = tf.keras.layers.Dense(1)(H)\n",
        "  model = tf.keras.models.Model(X, Y)\n",
        "  model.compile(loss='mse', metrics=[tf.keras.metrics.Accuracy()])\n",
        "  return model\n",
        "\n",
        "def build_model_NC_100_128():\n",
        "  # 2. 모델의 구조를 BatchNormalization layer를 사용하여 만든다.\n",
        "  X = tf.keras.layers.Input(shape=[17])\n",
        "  \n",
        "  H = tf.keras.layers.Dense(128)(X)\n",
        "  H = tf.keras.layers.BatchNormalization()(H)\n",
        "  H = tf.keras.layers.Activation('swish')(H)\n",
        "  \n",
        "  H = tf.keras.layers.Dense(128)(H)\n",
        "  H = tf.keras.layers.BatchNormalization()(H)\n",
        "  H = tf.keras.layers.Activation('swish')(H)\n",
        "  \n",
        "  H = tf.keras.layers.Dense(128)(H)\n",
        "  H = tf.keras.layers.BatchNormalization()(H)\n",
        "  H = tf.keras.layers.Activation('swish')(H)\n",
        "\n",
        "  H = tf.keras.layers.Dense(128)(H)\n",
        "  H = tf.keras.layers.BatchNormalization()(H)\n",
        "  H = tf.keras.layers.Activation('swish')(H)\n",
        "\n",
        "  H = tf.keras.layers.Dense(128)(H)\n",
        "  H = tf.keras.layers.BatchNormalization()(H)\n",
        "  H = tf.keras.layers.Activation('swish')(H)\n",
        "  \n",
        "  Y = tf.keras.layers.Dense(1)(H)\n",
        "  model = tf.keras.models.Model(X, Y)\n",
        "  model.compile(loss='mse', metrics=[tf.keras.metrics.Accuracy()])\n",
        "  return model\n",
        "\n",
        "def build_model_NC_100_256():\n",
        "  # 2. 모델의 구조를 BatchNormalization layer를 사용하여 만든다.\n",
        "  X = tf.keras.layers.Input(shape=[17])\n",
        "  \n",
        "  H = tf.keras.layers.Dense(256)(X)\n",
        "  H = tf.keras.layers.BatchNormalization()(H)\n",
        "  H = tf.keras.layers.Activation('swish')(H)\n",
        "  \n",
        "  H = tf.keras.layers.Dense(256)(H)\n",
        "  H = tf.keras.layers.BatchNormalization()(H)\n",
        "  H = tf.keras.layers.Activation('swish')(H)\n",
        "  \n",
        "  H = tf.keras.layers.Dense(256)(H)\n",
        "  H = tf.keras.layers.BatchNormalization()(H)\n",
        "  H = tf.keras.layers.Activation('swish')(H)\n",
        "\n",
        "  H = tf.keras.layers.Dense(256)(H)\n",
        "  H = tf.keras.layers.BatchNormalization()(H)\n",
        "  H = tf.keras.layers.Activation('swish')(H)\n",
        "\n",
        "  H = tf.keras.layers.Dense(256)(H)\n",
        "  H = tf.keras.layers.BatchNormalization()(H)\n",
        "  H = tf.keras.layers.Activation('swish')(H)\n",
        "  \n",
        "  Y = tf.keras.layers.Dense(1)(H)\n",
        "  model = tf.keras.models.Model(X, Y)\n",
        "  model.compile(loss='mse', metrics=[tf.keras.metrics.Accuracy()])\n",
        "  return model\n",
        "\n",
        "def build_model_NC_100_512():\n",
        "  # 2. 모델의 구조를 BatchNormalization layer를 사용하여 만든다.\n",
        "  X = tf.keras.layers.Input(shape=[17])\n",
        "  \n",
        "  H = tf.keras.layers.Dense(512)(X)\n",
        "  H = tf.keras.layers.BatchNormalization()(H)\n",
        "  H = tf.keras.layers.Activation('swish')(H)\n",
        "  \n",
        "  H = tf.keras.layers.Dense(512)(H)\n",
        "  H = tf.keras.layers.BatchNormalization()(H)\n",
        "  H = tf.keras.layers.Activation('swish')(H)\n",
        "  \n",
        "  H = tf.keras.layers.Dense(512)(H)\n",
        "  H = tf.keras.layers.BatchNormalization()(H)\n",
        "  H = tf.keras.layers.Activation('swish')(H)\n",
        "\n",
        "  H = tf.keras.layers.Dense(512)(H)\n",
        "  H = tf.keras.layers.BatchNormalization()(H)\n",
        "  H = tf.keras.layers.Activation('swish')(H)\n",
        "\n",
        "  H = tf.keras.layers.Dense(512)(H)\n",
        "  H = tf.keras.layers.BatchNormalization()(H)\n",
        "  H = tf.keras.layers.Activation('swish')(H)\n",
        "  \n",
        "  Y = tf.keras.layers.Dense(1)(H)\n",
        "  model = tf.keras.models.Model(X, Y)\n",
        "  model.compile(loss='mse', metrics=[tf.keras.metrics.Accuracy()])\n",
        "  return model"
      ],
      "execution_count": null,
      "outputs": []
    },
    {
      "cell_type": "code",
      "metadata": {
        "id": "Poq3AzwFsLZ9",
        "colab_type": "code",
        "colab": {}
      },
      "source": [
        "import tensorflow as tf"
      ],
      "execution_count": null,
      "outputs": []
    },
    {
      "cell_type": "code",
      "metadata": {
        "id": "y_IC6ZP6NqaA",
        "colab_type": "code",
        "colab": {}
      },
      "source": [
        "# 치료받은 사람들 중 생존시간이 100이하인 사람들만 고른다.\n",
        "dataCX_100 = dataX[np.where((dataA == 1) & (dataY <= 100))[0]]\n",
        "dataCY_100 = dataY[np.where((dataA == 1) & (dataY <= 100))[0]]\n",
        "\n",
        "# 치료받지 않은 사람들 중 생존시간이 100이하인 사람들만 고른다.\n",
        "dataNCX_100 = dataX[np.where((dataA == 0) & (dataY <= 100))[0]]\n",
        "dataNCY_100 = dataY[np.where((dataA == 0) & (dataY <= 100))[0]]"
      ],
      "execution_count": null,
      "outputs": []
    },
    {
      "cell_type": "code",
      "metadata": {
        "id": "STly2Tk5WUjT",
        "colab_type": "code",
        "colab": {}
      },
      "source": [
        "train_data_C,test_data_C,train_targets_C,test_targets_C=train_test_split(dataCX_100,dataCY_100)\n",
        "train_dataNC,test_dataNC,train_targetsNC,test_targetsNC=train_test_split(dataNCX_100,dataNCY_100)"
      ],
      "execution_count": null,
      "outputs": []
    },
    {
      "cell_type": "code",
      "metadata": {
        "id": "4oVEhRswxqjL",
        "colab_type": "code",
        "colab": {
          "base_uri": "https://localhost:8080/",
          "height": 239
        },
        "outputId": "97a6e2c7-7500-4bb6-cd83-60ca3a48ba88"
      },
      "source": [
        "# 치료할 경우 생존 시간을 예측하는 모델의 history를 구한다.\n",
        "\n",
        "num_epochs = 1000\n",
        "all_mae_histories_C = []\n",
        "k = 4\n",
        "num_val_samples = len(train_dataNC) // k\n",
        "for i in range(k):\n",
        "    print('처리중인 폴드 #', i)\n",
        "    # 검증 데이터 준비: k번째 분할\n",
        "    val_data = train_data_C[i * num_val_samples: (i + 1) * num_val_samples]\n",
        "    val_targets = train_targets_C[i * num_val_samples: (i + 1) * num_val_samples]\n",
        "\n",
        "    # 훈련 데이터 준비: 다른 분할 전체\n",
        "    partial_train_data = np.concatenate(\n",
        "        [train_data_C[:i * num_val_samples],\n",
        "         train_data_C[(i + 1) * num_val_samples:]],\n",
        "        axis=0)\n",
        "    partial_train_targets = np.concatenate(\n",
        "        [train_targets_C[:i * num_val_samples],\n",
        "         train_targets_C[(i + 1) * num_val_samples:]],\n",
        "        axis=0)\n",
        "\n",
        "    # 케라스 모델 구성(컴파일 포함)\n",
        "    # model_C = build_model_C()\n",
        "    model_C = build_model_C_100_512()\n",
        "\n",
        "    # 모델 훈련(verbose=0 이므로 훈련 과정이 출력되지 않습니다)\n",
        "    history = model_C.fit(partial_train_data, partial_train_targets,\n",
        "                        validation_data=(val_data, val_targets),\n",
        "                        epochs=num_epochs, batch_size=1, verbose=0)\n",
        "    mae_history = history.history['mean_absolute_error']\n",
        "    all_mae_histories_C.append(mae_history)"
      ],
      "execution_count": null,
      "outputs": [
        {
          "output_type": "stream",
          "text": [
            "처리중인 폴드 # 0\n"
          ],
          "name": "stdout"
        },
        {
          "output_type": "error",
          "ename": "KeyError",
          "evalue": "ignored",
          "traceback": [
            "\u001b[0;31m---------------------------------------------------------------------------\u001b[0m",
            "\u001b[0;31mKeyError\u001b[0m                                  Traceback (most recent call last)",
            "\u001b[0;32m<ipython-input-77-2a5bba354c73>\u001b[0m in \u001b[0;36m<module>\u001b[0;34m()\u001b[0m\n\u001b[1;32m     29\u001b[0m                         \u001b[0mvalidation_data\u001b[0m\u001b[0;34m=\u001b[0m\u001b[0;34m(\u001b[0m\u001b[0mval_data\u001b[0m\u001b[0;34m,\u001b[0m \u001b[0mval_targets\u001b[0m\u001b[0;34m)\u001b[0m\u001b[0;34m,\u001b[0m\u001b[0;34m\u001b[0m\u001b[0;34m\u001b[0m\u001b[0m\n\u001b[1;32m     30\u001b[0m                         epochs=num_epochs, batch_size=1, verbose=0)\n\u001b[0;32m---> 31\u001b[0;31m     \u001b[0mmae_history\u001b[0m \u001b[0;34m=\u001b[0m \u001b[0mhistory\u001b[0m\u001b[0;34m.\u001b[0m\u001b[0mhistory\u001b[0m\u001b[0;34m[\u001b[0m\u001b[0;34m'mean_absolute_error'\u001b[0m\u001b[0;34m]\u001b[0m\u001b[0;34m\u001b[0m\u001b[0;34m\u001b[0m\u001b[0m\n\u001b[0m\u001b[1;32m     32\u001b[0m     \u001b[0mall_mae_histories_C\u001b[0m\u001b[0;34m.\u001b[0m\u001b[0mappend\u001b[0m\u001b[0;34m(\u001b[0m\u001b[0mmae_history\u001b[0m\u001b[0;34m)\u001b[0m\u001b[0;34m\u001b[0m\u001b[0;34m\u001b[0m\u001b[0m\n",
            "\u001b[0;31mKeyError\u001b[0m: 'mean_absolute_error'"
          ]
        }
      ]
    },
    {
      "cell_type": "code",
      "metadata": {
        "id": "E7a-LWznxtYi",
        "colab_type": "code",
        "colab": {}
      },
      "source": [
        "# 치료하지 않는 경우 생존 시간을 예측하는 모델의 history를 구한다.\n",
        "\n",
        "num_epochs = 1000\n",
        "all_mae_historiesNC = []\n",
        "for i in range(k):\n",
        "    print('처리중인 폴드 #', i)\n",
        "    # 검증 데이터 준비: k번째 분할\n",
        "    val_data = train_dataNC[i * num_val_samples: (i + 1) * num_val_samples]\n",
        "    val_targets = train_targetsNC[i * num_val_samples: (i + 1) * num_val_samples]\n",
        "\n",
        "    # 훈련 데이터 준비: 다른 분할 전체\n",
        "    partial_train_data = np.concatenate(\n",
        "        [train_dataNC[:i * num_val_samples],\n",
        "         train_dataNC[(i + 1) * num_val_samples:]],\n",
        "        axis=0)\n",
        "    partial_train_targets = np.concatenate(\n",
        "        [train_targetsNC[:i * num_val_samples],\n",
        "         train_targetsNC[(i + 1) * num_val_samples:]],\n",
        "        axis=0)\n",
        "\n",
        "    # 케라스 모델 구성(컴파일 포함)\n",
        "    # modelNC = build_modelNC()\n",
        "    modelNC = build_modelNC_100_512()\n",
        "\n",
        "    # 모델 훈련(verbose=0 이므로 훈련 과정이 출력되지 않습니다)\n",
        "    history = modelNC.fit(partial_train_data, partial_train_targets,\n",
        "                        validation_data=(val_data, val_targets),\n",
        "                        epochs=num_epochs, batch_size=1, verbose=0)\n",
        "    mae_history = history.history['val_mean_absolute_error']\n",
        "    all_mae_historiesNC.append(mae_history)"
      ],
      "execution_count": null,
      "outputs": []
    },
    {
      "cell_type": "code",
      "metadata": {
        "id": "22jvm3w4x1nw",
        "colab_type": "code",
        "colab": {}
      },
      "source": [
        "average_mae_history_C = [\n",
        "    np.mean([x[i] for x in all_mae_histories_C]) for i in range(num_epochs)]\n",
        "\n",
        "average_mae_historyNC = [\n",
        "    np.mean([x[i] for x in all_mae_historiesNC]) for i in range(num_epochs)]"
      ],
      "execution_count": null,
      "outputs": []
    },
    {
      "cell_type": "code",
      "metadata": {
        "id": "gsKOfDcoyKQJ",
        "colab_type": "code",
        "colab": {}
      },
      "source": [
        "import matplotlib.pyplot as plt"
      ],
      "execution_count": null,
      "outputs": []
    },
    {
      "cell_type": "code",
      "metadata": {
        "id": "61nKaNEByOK6",
        "colab_type": "code",
        "colab": {}
      },
      "source": [
        "# 치료를 한 경우 생존 시간을 예측하는 모델의 epoch 수와 유효 MAE 사이의 관계를 그래프로 출력한다.\n",
        "plt.plot(range(1, len(average_mae_history_C) + 1), average_mae_history_C)\n",
        "plt.title('cure')\n",
        "plt.xlabel('Epochs')\n",
        "plt.ylabel('Validation MAE')\n",
        "plt.show()"
      ],
      "execution_count": null,
      "outputs": []
    },
    {
      "cell_type": "code",
      "metadata": {
        "id": "5IUDV9KVyzUS",
        "colab_type": "code",
        "colab": {}
      },
      "source": [
        "# 치료를 하지 않은 경우 생존 시간을 예측하는 모델의 epoch 수와 유효 MAE 사이의 관계를 그래프로 출력한다.\n",
        "plt.plot(range(1, len(average_mae_historyNC) + 1), average_mae_historyNC)\n",
        "plt.title('not cure')\n",
        "plt.xlabel('Epochs')\n",
        "plt.ylabel('Validation MAE')\n",
        "plt.show()"
      ],
      "execution_count": null,
      "outputs": []
    },
    {
      "cell_type": "code",
      "metadata": {
        "id": "0oeHzl4DXr4P",
        "colab_type": "code",
        "colab": {
          "base_uri": "https://localhost:8080/",
          "height": 386
        },
        "outputId": "bce1bdc4-0d5f-4248-97cb-ab58fb9f0e97"
      },
      "source": [
        "# 3.데이터로 모델을 학습(FIT)합니다.\n",
        "# model = build_model_C_100() # 최저 loss 값 :\n",
        "# model = build_model_C_100_16() # 최저 loss 값 : 0.5022\n",
        "# model = build_model_C_100_32() # 최저 loss 값 : 0.1546\n",
        "# model = build_model_C_100_64() # 최저 loss 값 : 0.1233\n",
        "# model = build_model_C_100_128() # 최저 loss 값 : 0.0560\n",
        "# model = build_model_C_100_256() # 최저 loss 값 : 0.0416\n",
        "model = build_model_C_100_512() # 최저 loss 값 : 0.0438\n",
        "history = model.fit(train_data_C, train_targets_C, epochs=20000, verbose=0)\n",
        "model.fit(train_data_C, train_targets_C, epochs=10)"
      ],
      "execution_count": null,
      "outputs": [
        {
          "output_type": "stream",
          "text": [
            "Epoch 1/10\n",
            "7/7 [==============================] - 0s 6ms/step - loss: 0.0391 - accuracy: 0.0000e+00\n",
            "Epoch 2/10\n",
            "7/7 [==============================] - 0s 6ms/step - loss: 0.0735 - accuracy: 0.0000e+00\n",
            "Epoch 3/10\n",
            "7/7 [==============================] - 0s 5ms/step - loss: 0.0690 - accuracy: 0.0000e+00\n",
            "Epoch 4/10\n",
            "7/7 [==============================] - 0s 6ms/step - loss: 0.1035 - accuracy: 0.0000e+00\n",
            "Epoch 5/10\n",
            "7/7 [==============================] - 0s 6ms/step - loss: 0.0612 - accuracy: 0.0000e+00\n",
            "Epoch 6/10\n",
            "7/7 [==============================] - 0s 6ms/step - loss: 0.0824 - accuracy: 0.0000e+00\n",
            "Epoch 7/10\n",
            "7/7 [==============================] - 0s 6ms/step - loss: 0.1704 - accuracy: 0.0000e+00\n",
            "Epoch 8/10\n",
            "7/7 [==============================] - 0s 6ms/step - loss: 1.0382 - accuracy: 0.0000e+00\n",
            "Epoch 9/10\n",
            "7/7 [==============================] - 0s 6ms/step - loss: 0.1098 - accuracy: 0.0000e+00\n",
            "Epoch 10/10\n",
            "7/7 [==============================] - 0s 6ms/step - loss: 0.0438 - accuracy: 0.0000e+00\n"
          ],
          "name": "stdout"
        },
        {
          "output_type": "execute_result",
          "data": {
            "text/plain": [
              "<tensorflow.python.keras.callbacks.History at 0x7f430103c5c0>"
            ]
          },
          "metadata": {
            "tags": []
          },
          "execution_count": 99
        }
      ]
    },
    {
      "cell_type": "code",
      "metadata": {
        "id": "XsrH0QYoX_jf",
        "colab_type": "code",
        "colab": {
          "base_uri": "https://localhost:8080/",
          "height": 1000
        },
        "outputId": "5a109fd5-7119-46c3-c1ca-79ea3d7ae47b"
      },
      "source": [
        "# 4. 모델을 이용합니다\n",
        "pred_y = model.predict(test_data_C) \n",
        "print(pred_y)"
      ],
      "execution_count": null,
      "outputs": [
        {
          "output_type": "stream",
          "text": [
            "[[  2.0495348 ]\n",
            " [  4.1103077 ]\n",
            " [ 10.685902  ]\n",
            " [  0.6104442 ]\n",
            " [ -0.446737  ]\n",
            " [  0.05423622]\n",
            " [ -0.03821082]\n",
            " [  1.1798462 ]\n",
            " [  6.280095  ]\n",
            " [  0.31898862]\n",
            " [  0.9646259 ]\n",
            " [ 31.983559  ]\n",
            " [  4.7520027 ]\n",
            " [ -0.14363627]\n",
            " [  0.5753047 ]\n",
            " [  4.614726  ]\n",
            " [  0.7716288 ]\n",
            " [  0.8664648 ]\n",
            " [  5.5974503 ]\n",
            " [  2.2831743 ]\n",
            " [  2.1154716 ]\n",
            " [ 18.745153  ]\n",
            " [  2.0116317 ]\n",
            " [  0.32379937]\n",
            " [ 10.489131  ]\n",
            " [ -1.1924181 ]\n",
            " [ -0.84227717]\n",
            " [ -2.368869  ]\n",
            " [  4.363589  ]\n",
            " [  3.934055  ]\n",
            " [  1.6064544 ]\n",
            " [  0.49893   ]\n",
            " [  0.7158021 ]\n",
            " [  1.143899  ]\n",
            " [ -1.260262  ]\n",
            " [  1.4448516 ]\n",
            " [ 13.147143  ]\n",
            " [ 26.604227  ]\n",
            " [  0.33198538]\n",
            " [  2.6791518 ]\n",
            " [  0.13734378]\n",
            " [  0.95196086]\n",
            " [  6.0950975 ]\n",
            " [  0.73775977]\n",
            " [ 12.956872  ]\n",
            " [-13.5766535 ]\n",
            " [  0.21038084]\n",
            " [ -1.0330832 ]\n",
            " [  4.469579  ]\n",
            " [  9.122528  ]\n",
            " [  3.0919957 ]\n",
            " [  0.10448103]\n",
            " [  3.0144022 ]\n",
            " [  5.1595654 ]\n",
            " [  0.46542883]\n",
            " [  0.09374623]\n",
            " [  0.73641247]\n",
            " [  2.0684247 ]\n",
            " [ 31.59994   ]\n",
            " [ 27.996527  ]\n",
            " [  1.4807739 ]\n",
            " [  2.2849336 ]\n",
            " [  1.4232408 ]\n",
            " [  7.8792195 ]\n",
            " [  1.4639144 ]\n",
            " [  0.14292921]]\n"
          ],
          "name": "stdout"
        }
      ]
    },
    {
      "cell_type": "code",
      "metadata": {
        "id": "LTssexuTazWQ",
        "colab_type": "code",
        "colab": {
          "base_uri": "https://localhost:8080/",
          "height": 1000
        },
        "outputId": "a0e9bb90-a3c8-4f80-f2d7-5f6e95d2600d"
      },
      "source": [
        "# 종속변수 확인\n",
        "error = test_targets_C - pred_y\n",
        "print(error)"
      ],
      "execution_count": null,
      "outputs": [
        {
          "output_type": "stream",
          "text": [
            "[[-3.69534798e-01]\n",
            " [-1.85030769e+00]\n",
            " [-2.16590164e+00]\n",
            " [-1.50444188e-01]\n",
            " [ 5.36736991e-01]\n",
            " [ 8.57637779e-02]\n",
            " [ 4.82108204e-02]\n",
            " [-3.79846168e-01]\n",
            " [ 8.79904900e-01]\n",
            " [ 1.21011379e-01]\n",
            " [-3.44625895e-01]\n",
            " [-1.86335587e+01]\n",
            " [ 8.97997284e-01]\n",
            " [ 1.43636271e-01]\n",
            " [-1.75304687e-01]\n",
            " [ 4.15527393e+00]\n",
            " [-2.61628797e-01]\n",
            " [ 4.35352063e-02]\n",
            " [-1.68745026e+00]\n",
            " [-7.73174276e-01]\n",
            " [ 6.24528399e-01]\n",
            " [-1.08651534e+01]\n",
            " [-7.71631727e-01]\n",
            " [-3.79937172e-03]\n",
            " [-1.62913097e+00]\n",
            " [ 1.29241810e+00]\n",
            " [ 9.22277169e-01]\n",
            " [ 2.49886907e+00]\n",
            " [ 2.87641119e+00]\n",
            " [-1.84055090e-01]\n",
            " [-3.06454372e-01]\n",
            " [-2.88930007e-01]\n",
            " [-1.55802073e-01]\n",
            " [-6.43898964e-01]\n",
            " [ 1.26026201e+00]\n",
            " [-2.04851637e-01]\n",
            " [-8.87143364e-01]\n",
            " [-6.36422707e+00]\n",
            " [-2.51985384e-01]\n",
            " [-3.29151773e-01]\n",
            " [-1.27343779e-01]\n",
            " [-6.11960862e-01]\n",
            " [ 4.60490246e+00]\n",
            " [-4.07759769e-01]\n",
            " [-2.20687199e+00]\n",
            " [ 1.36466535e+01]\n",
            " [ 1.09619163e-01]\n",
            " [ 1.15308320e+00]\n",
            " [-6.39579220e-01]\n",
            " [ 1.31274719e+01]\n",
            " [-1.26199572e+00]\n",
            " [-1.44810265e-02]\n",
            " [ 1.19559785e+00]\n",
            " [ 1.00434551e-01]\n",
            " [-3.85428829e-01]\n",
            " [-5.37462300e-02]\n",
            " [-5.36412466e-01]\n",
            " [ 3.15752983e-02]\n",
            " [-1.50699393e+01]\n",
            " [ 9.33347328e+00]\n",
            " [-9.60773926e-01]\n",
            " [ 1.50664330e-02]\n",
            " [-7.03240781e-01]\n",
            " [ 8.60780468e-01]\n",
            " [-4.83914394e-01]\n",
            " [ 1.77070789e-01]]\n"
          ],
          "name": "stdout"
        }
      ]
    },
    {
      "cell_type": "code",
      "metadata": {
        "id": "-8geJa0eOE0m",
        "colab_type": "code",
        "colab": {}
      },
      "source": [
        "import matplotlib.pyplot as plt"
      ],
      "execution_count": null,
      "outputs": []
    },
    {
      "cell_type": "code",
      "metadata": {
        "id": "DAlzl6iYmldm",
        "colab_type": "code",
        "colab": {
          "base_uri": "https://localhost:8080/",
          "height": 286
        },
        "outputId": "1a8d84a0-4a98-4668-b555-7bff82db32a0"
      },
      "source": [
        "plt.plot(error, 'bo')"
      ],
      "execution_count": null,
      "outputs": [
        {
          "output_type": "execute_result",
          "data": {
            "text/plain": [
              "[<matplotlib.lines.Line2D at 0x7f42f8cff630>]"
            ]
          },
          "metadata": {
            "tags": []
          },
          "execution_count": 102
        },
        {
          "output_type": "display_data",
          "data": {
            "image/png": "[encoded data removed]",
            "text/plain": [
              "<Figure size 432x288 with 1 Axes>"
            ]
          },
          "metadata": {
            "tags": [],
            "needs_background": "light"
          }
        }
      ]
    },
    {
      "cell_type": "code",
      "metadata": {
        "id": "n3Crrlwva9fT",
        "colab_type": "code",
        "colab": {}
      },
      "source": [
        "mae_C = tf.keras.losses.MAE(test_targets_C, pred_y)"
      ],
      "execution_count": null,
      "outputs": []
    },
    {
      "cell_type": "code",
      "metadata": {
        "id": "7GRNoNPlyJv-",
        "colab_type": "code",
        "colab": {
          "base_uri": "https://localhost:8080/",
          "height": 34
        },
        "outputId": "59f2168a-c23c-4bd8-b10d-17e477284df0"
      },
      "source": [
        "mae_C.shape"
      ],
      "execution_count": null,
      "outputs": [
        {
          "output_type": "execute_result",
          "data": {
            "text/plain": [
              "TensorShape([66])"
            ]
          },
          "metadata": {
            "tags": []
          },
          "execution_count": 104
        }
      ]
    },
    {
      "cell_type": "code",
      "metadata": {
        "id": "aspovIAPx-sg",
        "colab_type": "code",
        "colab": {
          "base_uri": "https://localhost:8080/",
          "height": 34
        },
        "outputId": "1e0cc0fa-3ff4-416c-e401-0d301402f1cf"
      },
      "source": [
        "# 생존 시간 오차가 10 이하인 개수\n",
        "np.sum(np.where(mae_C <= 10, 1, 0))"
      ],
      "execution_count": null,
      "outputs": [
        {
          "output_type": "execute_result",
          "data": {
            "text/plain": [
              "61"
            ]
          },
          "metadata": {
            "tags": []
          },
          "execution_count": 105
        }
      ]
    },
    {
      "cell_type": "code",
      "metadata": {
        "id": "PKmD95zmxr8Z",
        "colab_type": "code",
        "colab": {
          "base_uri": "https://localhost:8080/",
          "height": 34
        },
        "outputId": "39226871-4414-4393-8b90-95dd760126b1"
      },
      "source": [
        "# 생존 시간 오차가 10 초과인 개수\n",
        "np.sum(np.where(mae_C > 10, 1, 0))"
      ],
      "execution_count": null,
      "outputs": [
        {
          "output_type": "execute_result",
          "data": {
            "text/plain": [
              "5"
            ]
          },
          "metadata": {
            "tags": []
          },
          "execution_count": 106
        }
      ]
    },
    {
      "cell_type": "code",
      "metadata": {
        "id": "kzsyJB09b3t6",
        "colab_type": "code",
        "colab": {
          "base_uri": "https://localhost:8080/",
          "height": 386
        },
        "outputId": "e055dd26-b991-41b4-9228-2369b7091043"
      },
      "source": [
        "# 3.치료하지 않았고 생존시간이 100 이하인 환자 데이터로 모델을 학습(FIT)합니다.\n",
        "# model_NC = build_model_NC_100() # 최저 loss 값 : 0.7344\n",
        "# model_NC = build_model_NC_100_16() # 최저 loss 값 : 0.2470\n",
        "# model_NC = build_model_NC_100_32() # 최저 loss 값 : 0.1436\n",
        "# model_NC = build_model_NC_100_64() # 최저 loss 값 : 0.0329\n",
        "# model_NC = build_model_NC_100_128() # 최저 loss 값 : 0.0304\n",
        "model_NC = build_model_NC_100_512() # 최저 loss 값 : 0.0301\n",
        "model_NC.fit(train_dataNC, train_targetsNC, epochs=20000, verbose=0)\n",
        "model_NC.fit(train_dataNC, train_targetsNC, epochs=10)"
      ],
      "execution_count": null,
      "outputs": [
        {
          "output_type": "stream",
          "text": [
            "Epoch 1/10\n",
            "10/10 [==============================] - 0s 5ms/step - loss: 0.0337 - accuracy: 0.0000e+00\n",
            "Epoch 2/10\n",
            "10/10 [==============================] - 0s 7ms/step - loss: 0.0428 - accuracy: 0.0000e+00\n",
            "Epoch 3/10\n",
            "10/10 [==============================] - 0s 5ms/step - loss: 0.0290 - accuracy: 0.0000e+00\n",
            "Epoch 4/10\n",
            "10/10 [==============================] - 0s 5ms/step - loss: 0.0324 - accuracy: 0.0000e+00\n",
            "Epoch 5/10\n",
            "10/10 [==============================] - 0s 5ms/step - loss: 0.0586 - accuracy: 0.0000e+00\n",
            "Epoch 6/10\n",
            "10/10 [==============================] - 0s 5ms/step - loss: 0.0462 - accuracy: 0.0000e+00\n",
            "Epoch 7/10\n",
            "10/10 [==============================] - 0s 5ms/step - loss: 0.0184 - accuracy: 0.0000e+00\n",
            "Epoch 8/10\n",
            "10/10 [==============================] - 0s 5ms/step - loss: 0.0496 - accuracy: 0.0000e+00\n",
            "Epoch 9/10\n",
            "10/10 [==============================] - 0s 5ms/step - loss: 0.0426 - accuracy: 0.0000e+00\n",
            "Epoch 10/10\n",
            "10/10 [==============================] - 0s 5ms/step - loss: 0.0301 - accuracy: 0.0000e+00\n"
          ],
          "name": "stdout"
        },
        {
          "output_type": "execute_result",
          "data": {
            "text/plain": [
              "<tensorflow.python.keras.callbacks.History at 0x7f42fe643b38>"
            ]
          },
          "metadata": {
            "tags": []
          },
          "execution_count": 68
        }
      ]
    },
    {
      "cell_type": "code",
      "metadata": {
        "id": "OOZwF15ncdJ_",
        "colab_type": "code",
        "colab": {}
      },
      "source": [
        "pred_y_NC = model_NC.predict(test_dataNC)"
      ],
      "execution_count": null,
      "outputs": []
    },
    {
      "cell_type": "code",
      "metadata": {
        "id": "HysRVJTkc626",
        "colab_type": "code",
        "colab": {}
      },
      "source": [
        "mae_NC = tf.keras.losses.MAE(pred_y_NC, test_targetsNC)"
      ],
      "execution_count": null,
      "outputs": []
    },
    {
      "cell_type": "code",
      "metadata": {
        "id": "zAsxqLC6dGCb",
        "colab_type": "code",
        "colab": {
          "base_uri": "https://localhost:8080/",
          "height": 282
        },
        "outputId": "59649d52-60e6-46d4-bc10-ba44e8fb4dfa"
      },
      "source": [
        "plt.plot(mae_NC, 'ro')"
      ],
      "execution_count": null,
      "outputs": [
        {
          "output_type": "execute_result",
          "data": {
            "text/plain": [
              "[<matplotlib.lines.Line2D at 0x7f42febc5390>]"
            ]
          },
          "metadata": {
            "tags": []
          },
          "execution_count": 109
        },
        {
          "output_type": "display_data",
          "data": {
            "image/png": "[encoded data removed]",
            "text/plain": [
              "<Figure size 432x288 with 1 Axes>"
            ]
          },
          "metadata": {
            "tags": [],
            "needs_background": "light"
          }
        }
      ]
    },
    {
      "cell_type": "code",
      "metadata": {
        "id": "vPwb0xLRwR64",
        "colab_type": "code",
        "colab": {
          "base_uri": "https://localhost:8080/",
          "height": 34
        },
        "outputId": "09df8876-f27a-45d9-d575-0e99435df95d"
      },
      "source": [
        "# 오차가 10 이하인 개수\n",
        "np.sum(np.where(mae_NC <= 10, 1, 0))"
      ],
      "execution_count": null,
      "outputs": [
        {
          "output_type": "execute_result",
          "data": {
            "text/plain": [
              "99"
            ]
          },
          "metadata": {
            "tags": []
          },
          "execution_count": 110
        }
      ]
    },
    {
      "cell_type": "code",
      "metadata": {
        "id": "l-4_AhIqxUzX",
        "colab_type": "code",
        "colab": {
          "base_uri": "https://localhost:8080/",
          "height": 34
        },
        "outputId": "3928fd55-7393-4b1d-f2b1-a5ef5ca0e1fe"
      },
      "source": [
        "# 오차가 10 초과인 개수\n",
        "np.sum(np.where(mae_NC > 10, 1, 0))"
      ],
      "execution_count": null,
      "outputs": [
        {
          "output_type": "execute_result",
          "data": {
            "text/plain": [
              "1"
            ]
          },
          "metadata": {
            "tags": []
          },
          "execution_count": 111
        }
      ]
    },
    {
      "cell_type": "code",
      "metadata": {
        "id": "B6OBWoPGHuWw",
        "colab_type": "code",
        "colab": {
          "base_uri": "https://localhost:8080/",
          "height": 34
        },
        "outputId": "39bbf48d-1173-4a33-db56-929520b75c3f"
      },
      "source": [
        "파일경로 = '/content/drive/My Drive/KOSTA 시각 인지 기능 기반 AI 개발자 양성 과정/팀 프로젝트/testX.csv'\n",
        "testX = pd.read_csv(파일경로)\n",
        "testX=testX.values[:,1:]\n",
        "print(testX.shape)"
      ],
      "execution_count": null,
      "outputs": [
        {
          "output_type": "stream",
          "text": [
            "(286, 17)\n"
          ],
          "name": "stdout"
        }
      ]
    },
    {
      "cell_type": "code",
      "metadata": {
        "id": "wB6Tbk-2-DcQ",
        "colab_type": "code",
        "colab": {
          "base_uri": "https://localhost:8080/",
          "height": 1000
        },
        "outputId": "dd6f2c5a-ab7f-46da-fbad-5b7bb6f54240"
      },
      "source": [
        "# 치료하지 않은 경우 예상 수명을 구한다.\n",
        "pred_y_NC = model_NC.predict(testX)\n",
        "print(pred_y_NC)"
      ],
      "execution_count": null,
      "outputs": [
        {
          "output_type": "stream",
          "text": [
            "[[4.32467699e-01]\n",
            " [8.58522296e-01]\n",
            " [3.19038820e+00]\n",
            " [5.32369375e-01]\n",
            " [1.55163109e-01]\n",
            " [9.94254827e-01]\n",
            " [3.00723433e-01]\n",
            " [2.78103232e-01]\n",
            " [7.90126562e-01]\n",
            " [6.12196827e+00]\n",
            " [3.90556479e+00]\n",
            " [5.52799034e+00]\n",
            " [4.93105233e-01]\n",
            " [6.83533311e-01]\n",
            " [1.58596396e+00]\n",
            " [2.55998363e+01]\n",
            " [1.02622831e+00]\n",
            " [3.27675743e+01]\n",
            " [3.69290352e-01]\n",
            " [9.25335884e-01]\n",
            " [4.46594357e-02]\n",
            " [1.31980312e+00]\n",
            " [1.05184722e+00]\n",
            " [2.99785347e+01]\n",
            " [3.99385035e-01]\n",
            " [1.85481727e+00]\n",
            " [6.98290229e-01]\n",
            " [2.71629143e+00]\n",
            " [1.27571428e+00]\n",
            " [2.33747625e+00]\n",
            " [8.43185604e-01]\n",
            " [3.95664215e-01]\n",
            " [1.54480875e-01]\n",
            " [1.31555438e-01]\n",
            " [9.96099114e-01]\n",
            " [9.68884826e-02]\n",
            " [3.37449849e-01]\n",
            " [3.23112965e+00]\n",
            " [3.45139563e-01]\n",
            " [9.42050576e-01]\n",
            " [7.15501904e-01]\n",
            " [2.01766491e-01]\n",
            " [3.38918567e-01]\n",
            " [6.15491199e+00]\n",
            " [1.79108584e+00]\n",
            " [7.35910475e-01]\n",
            " [2.59307241e+00]\n",
            " [2.01218581e+00]\n",
            " [6.22583199e+00]\n",
            " [1.32385027e+00]\n",
            " [4.79763359e-01]\n",
            " [3.40510445e+01]\n",
            " [1.86791086e+00]\n",
            " [5.60405731e-01]\n",
            " [8.76379371e-01]\n",
            " [6.23103714e+00]\n",
            " [6.84020281e-01]\n",
            " [1.94174707e-01]\n",
            " [5.95934629e-01]\n",
            " [2.29388762e+00]\n",
            " [7.47905672e-01]\n",
            " [5.47310650e-01]\n",
            " [8.94585729e-01]\n",
            " [6.13850772e-01]\n",
            " [3.83183479e-01]\n",
            " [1.40865028e-01]\n",
            " [3.01967502e-01]\n",
            " [2.54096127e+00]\n",
            " [2.43088484e-01]\n",
            " [2.05824642e+01]\n",
            " [2.14656887e+01]\n",
            " [3.80029261e-01]\n",
            " [1.56768966e+00]\n",
            " [1.39151251e+00]\n",
            " [1.30446994e+00]\n",
            " [1.31327331e+00]\n",
            " [6.45745039e-01]\n",
            " [4.22424269e+00]\n",
            " [8.79733980e-01]\n",
            " [2.00889373e+00]\n",
            " [3.38374674e-01]\n",
            " [6.67736149e+00]\n",
            " [4.79768181e+00]\n",
            " [5.56863213e+00]\n",
            " [9.49837029e-01]\n",
            " [2.09350276e+00]\n",
            " [3.05978203e+00]\n",
            " [7.83482611e-01]\n",
            " [4.16928577e+00]\n",
            " [3.88668585e+00]\n",
            " [3.46475554e+00]\n",
            " [4.33368027e-01]\n",
            " [2.04547048e-01]\n",
            " [2.14234650e-01]\n",
            " [1.33185148e-01]\n",
            " [1.30728683e+01]\n",
            " [1.81698170e+01]\n",
            " [9.25339985e+00]\n",
            " [1.02143860e+00]\n",
            " [2.07395887e+00]\n",
            " [5.72226286e-01]\n",
            " [1.13159835e+00]\n",
            " [1.86115563e-01]\n",
            " [1.13088095e+00]\n",
            " [6.02558661e+00]\n",
            " [3.91976404e+00]\n",
            " [4.82376785e+01]\n",
            " [1.00396557e+01]\n",
            " [1.77591920e+00]\n",
            " [3.42733264e-01]\n",
            " [1.02321625e+00]\n",
            " [1.78643334e+00]\n",
            " [1.78403568e+01]\n",
            " [2.64302552e-01]\n",
            " [1.06659079e+00]\n",
            " [3.74993801e-01]\n",
            " [1.11643887e+00]\n",
            " [1.96527405e+01]\n",
            " [1.11729276e+00]\n",
            " [1.03804493e+00]\n",
            " [7.22304225e-01]\n",
            " [1.18810999e+00]\n",
            " [1.08736515e+00]\n",
            " [3.52063954e-01]\n",
            " [1.36041999e-01]\n",
            " [2.55655289e-01]\n",
            " [3.90358925e-01]\n",
            " [6.33217633e-01]\n",
            " [1.87473202e+00]\n",
            " [2.59169281e-01]\n",
            " [3.76116395e-01]\n",
            " [3.95582557e-01]\n",
            " [5.62715292e+00]\n",
            " [1.70371234e-01]\n",
            " [1.45742464e+00]\n",
            " [6.40639603e-01]\n",
            " [6.47403479e-01]\n",
            " [4.98295069e-01]\n",
            " [9.24107075e-01]\n",
            " [6.12452745e-01]\n",
            " [2.99333692e-01]\n",
            " [1.31534350e+00]\n",
            " [1.36167228e-01]\n",
            " [6.62156105e+00]\n",
            " [1.35687721e+00]\n",
            " [4.13816881e+00]\n",
            " [7.06902146e-01]\n",
            " [3.01971018e-01]\n",
            " [6.68172896e-01]\n",
            " [1.71613395e-01]\n",
            " [1.31987333e-02]\n",
            " [4.63021040e-01]\n",
            " [4.47721303e-01]\n",
            " [3.99466419e+00]\n",
            " [1.18381619e-01]\n",
            " [2.48882008e+00]\n",
            " [2.80818892e+00]\n",
            " [1.20455706e+00]\n",
            " [5.27415276e-01]\n",
            " [3.54929876e+00]\n",
            " [9.92659926e-02]\n",
            " [2.84800625e+00]\n",
            " [3.25487733e-01]\n",
            " [1.16494036e+00]\n",
            " [2.62590706e-01]\n",
            " [9.32158828e-02]\n",
            " [6.59015059e-01]\n",
            " [1.08087504e+00]\n",
            " [3.11008930e-01]\n",
            " [6.78526819e-01]\n",
            " [6.09496117e+00]\n",
            " [6.39205980e+00]\n",
            " [3.61889935e+00]\n",
            " [1.80013418e+00]\n",
            " [8.69235933e-01]\n",
            " [2.31697917e-01]\n",
            " [5.98208904e+00]\n",
            " [4.40732539e-01]\n",
            " [3.37720203e+00]\n",
            " [5.59500515e-01]\n",
            " [1.00239906e+01]\n",
            " [1.56916082e-01]\n",
            " [1.53167200e+00]\n",
            " [7.96087980e-02]\n",
            " [1.43729270e-01]\n",
            " [2.06202984e+00]\n",
            " [1.97165966e-01]\n",
            " [1.85216081e+00]\n",
            " [4.10497725e-01]\n",
            " [3.76420856e-01]\n",
            " [3.66845322e+00]\n",
            " [1.18336594e+00]\n",
            " [7.53608644e-01]\n",
            " [8.36088598e-01]\n",
            " [3.61903906e-01]\n",
            " [1.35789318e+01]\n",
            " [2.20121622e-01]\n",
            " [2.44618893e-01]\n",
            " [1.67358570e+01]\n",
            " [6.18448377e-01]\n",
            " [3.30969930e-01]\n",
            " [1.51895595e+00]\n",
            " [2.77865469e-01]\n",
            " [5.75400054e-01]\n",
            " [3.47175717e-01]\n",
            " [1.08223600e+01]\n",
            " [2.59865713e+00]\n",
            " [9.08702374e-01]\n",
            " [8.97198486e+00]\n",
            " [8.95379543e-01]\n",
            " [2.65209866e+00]\n",
            " [1.47672498e+00]\n",
            " [6.10343695e+00]\n",
            " [5.01579165e-01]\n",
            " [4.19394433e-01]\n",
            " [1.22270405e-01]\n",
            " [2.92910755e-01]\n",
            " [1.00183308e-01]\n",
            " [1.37800131e+01]\n",
            " [1.06211746e+00]\n",
            " [3.85052586e+00]\n",
            " [8.73885036e-01]\n",
            " [1.52005577e+00]\n",
            " [1.27838254e-01]\n",
            " [4.25780475e-01]\n",
            " [9.11585748e-01]\n",
            " [1.35283840e+00]\n",
            " [5.36182899e+01]\n",
            " [6.68244660e-01]\n",
            " [4.84235525e+00]\n",
            " [1.22153580e+00]\n",
            " [2.19946146e-01]\n",
            " [5.93152523e-01]\n",
            " [7.15051413e-01]\n",
            " [1.94913540e+01]\n",
            " [7.77379870e-02]\n",
            " [2.73559570e+00]\n",
            " [1.22336950e+01]\n",
            " [5.59799969e-01]\n",
            " [2.14461327e-01]\n",
            " [2.86909714e+01]\n",
            " [6.04452610e+00]\n",
            " [2.46569991e-01]\n",
            " [9.51525509e-01]\n",
            " [4.04828012e-01]\n",
            " [9.03539360e-01]\n",
            " [2.51174355e+00]\n",
            " [4.82502365e+00]\n",
            " [1.79710732e+01]\n",
            " [1.29599416e+00]\n",
            " [9.17485237e+00]\n",
            " [3.18444443e+00]\n",
            " [7.52184272e-01]\n",
            " [7.52737641e-01]\n",
            " [4.15934324e-01]\n",
            " [1.39958489e+00]\n",
            " [7.93117225e-01]\n",
            " [9.04496908e-02]\n",
            " [7.75863886e-01]\n",
            " [2.30089188e-01]\n",
            " [6.29129887e-01]\n",
            " [1.07747746e+01]\n",
            " [1.44810066e+01]\n",
            " [2.33647776e+00]\n",
            " [2.45390720e+01]\n",
            " [2.25735188e+00]\n",
            " [8.08765054e-01]\n",
            " [3.58637142e+00]\n",
            " [5.14068031e+00]\n",
            " [3.37235570e-01]\n",
            " [1.81008399e-01]\n",
            " [3.21023583e-01]\n",
            " [2.21102905e+00]\n",
            " [4.46481562e+00]\n",
            " [7.09125698e-01]\n",
            " [1.25797570e-01]\n",
            " [3.60721254e+00]\n",
            " [2.19806969e-01]\n",
            " [3.19814205e-01]\n",
            " [4.65351164e-01]\n",
            " [1.31679773e-02]\n",
            " [7.71511376e-01]\n",
            " [9.11803603e-01]\n",
            " [1.30135441e+01]\n",
            " [2.94644535e-01]\n",
            " [2.35956043e-01]]\n"
          ],
          "name": "stdout"
        }
      ]
    },
    {
      "cell_type": "code",
      "metadata": {
        "id": "iEzT2ja2IWrd",
        "colab_type": "code",
        "colab": {
          "base_uri": "https://localhost:8080/",
          "height": 34
        },
        "outputId": "ca5255c5-e5d1-4b9d-9046-804c860da42a"
      },
      "source": [
        "# 치료할 경우 생존 시간을 구한다.\n",
        "cured = model.predict(testX)\n",
        "# 치료하지 않을 경우 생존 시간을 구한다.\n",
        "non_cured = model_NC.predict(testX)\n",
        "\n",
        "# 치료한 경우 생존 시간 > 치료하지 않은 경우 생존 시간 : 1, \n",
        "# 치료한 경우 생존 시간 > 치료하지 않은 경우 생존 시간 : 0\n",
        "result = np.where(cured > non_cured, 1, 0)\n",
        "print(result.shape)"
      ],
      "execution_count": null,
      "outputs": [
        {
          "output_type": "stream",
          "text": [
            "(286, 1)\n"
          ],
          "name": "stdout"
        }
      ]
    },
    {
      "cell_type": "code",
      "metadata": {
        "id": "xdWBw8y0NZMB",
        "colab_type": "code",
        "colab": {}
      },
      "source": [
        "import csv \n",
        "\n",
        "# 이차원 리스트 \n",
        "with open('/content/drive/My Drive/KOSTA 시각 인지 기능 기반 AI 개발자 양성 과정/팀 프로젝트/result_20200825_6.csv','w', newline='') as f: \n",
        "  makewrite = csv.writer(f) \n",
        "  \n",
        "  for value in result: \n",
        "    makewrite.writerow(value)\n"
      ],
      "execution_count": null,
      "outputs": []
    },
    {
      "cell_type": "code",
      "metadata": {
        "id": "TQ9WCCfehqVH",
        "colab_type": "code",
        "colab": {
          "base_uri": "https://localhost:8080/",
          "height": 88
        },
        "outputId": "909e27c3-fb09-4021-e84b-69715a0c87c0"
      },
      "source": [
        "\"\"\"\n",
        "from openpyxl import Workbook\n",
        " \n",
        "write_wb = Workbook()\n",
        " \n",
        "#이름이 있는 시트를 생성\n",
        "#write_ws = write_wb.create_sheet('생성시트')\n",
        " \n",
        "#Sheet1에다 입력\n",
        "write_ws = write_wb.active\n",
        "write_ws['A1'] = 'Title'\n",
        "write_ws['B1'] = 'action'\n",
        " \n",
        "#행 단위로 추가\n",
        "# write_ws.append([1,2,3])\n",
        " \n",
        "#셀 단위로 추가\n",
        "i = 1\n",
        "for value in result:\n",
        "  write_ws.cell(i,2, value)\n",
        "  i= i+1\n",
        "write_wb.save('/content/drive/My Drive/traindata/result_20200824_3.csv')\n",
        "\"\"\""
      ],
      "execution_count": null,
      "outputs": [
        {
          "output_type": "execute_result",
          "data": {
            "application/vnd.google.colaboratory.intrinsic+json": {
              "type": "string"
            },
            "text/plain": [
              "\"\\nfrom openpyxl import Workbook\\n \\nwrite_wb = Workbook()\\n \\n#이름이 있는 시트를 생성\\n#write_ws = write_wb.create_sheet('생성시트')\\n \\n#Sheet1에다 입력\\nwrite_ws = write_wb.active\\nwrite_ws['A1'] = 'Title'\\nwrite_ws['B1'] = 'action'\\n \\n#행 단위로 추가\\n# write_ws.append([1,2,3])\\n \\n#셀 단위로 추가\\ni = 1\\nfor value in result:\\n  write_ws.cell(i,2, value)\\n  i= i+1\\nwrite_wb.save('/content/drive/My Drive/traindata/result_20200824_3.csv')\\n\""
            ]
          },
          "metadata": {
            "tags": []
          },
          "execution_count": 31
        }
      ]
    },
    {
      "cell_type": "code",
      "metadata": {
        "id": "RAlZ120_AXbj",
        "colab_type": "code",
        "colab": {}
      },
      "source": [
        ""
      ],
      "execution_count": null,
      "outputs": []
    }
  ]
}